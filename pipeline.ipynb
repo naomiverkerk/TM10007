{
 "cells": [
  {
   "cell_type": "code",
   "execution_count": 58,
   "metadata": {},
   "outputs": [],
   "source": [
    "from sklearn.pipeline import Pipeline,make_pipeline\n",
    "\n",
    "## Preprocessing\n",
    "# from sklearn import feature_selection\n",
    "from sklearn.model_selection import train_test_split, StratifiedKFold \n",
    "from sklearn.impute import KNNImputer\n",
    "from sklearn.preprocessing import RobustScaler, LabelEncoder\n",
    "from sklearn.decomposition import PCA\n"
   ]
  },
  {
   "cell_type": "code",
   "execution_count": 59,
   "metadata": {},
   "outputs": [],
   "source": [
    "## Import\n",
    "import matplotlib.pyplot as plt\n",
    "import seaborn as sns\n",
    "import pandas as pd\n",
    "import numpy as np\n",
    "from sklearn import metrics\n",
    "from sklearn import svm\n",
    "from sklearn import decomposition\n",
    "from load_data import load_data\n",
    "\n",
    "# Classifiers and kernels\n",
    "from sklearn.neighbors import KNeighborsClassifier \n",
    "from sklearn.tree import DecisionTreeClassifier\n",
    "from sklearn.ensemble import RandomForestClassifier\n",
    "from sklearn.linear_model import LogisticRegression\n",
    "from sklearn.naive_bayes import GaussianNB\n",
    "from sklearn.neural_network import MLPClassifier\n",
    "from sklearn.svm import SVC\n",
    "\n",
    "#\n",
    "from sklearn.model_selection import GridSearchCV\n",
    "from sklearn.metrics import classification_report\n",
    "from sklearn.compose import ColumnTransformer, make_column_selector as selector\n"
   ]
  },
  {
   "cell_type": "code",
   "execution_count": 7,
   "metadata": {},
   "outputs": [
    {
     "name": "stdout",
     "output_type": "stream",
     "text": [
      "(224, 7)\n",
      "(112, 7)\n"
     ]
    }
   ],
   "source": [
    "##Loading Data\n",
    "data = load_data() \n",
    "X = data\n",
    "X = X.replace(np.inf, np.nan)\n",
    "Y = data['label']\n",
    "del X['label']"
   ]
  },
  {
   "cell_type": "code",
   "execution_count": null,
   "metadata": {},
   "outputs": [],
   "source": [
    "## Split\n",
    "X_train, X_test, Y_train, Y_test= train_test_split(X, Y, test_size = 0.2, random_state = 4, stratify = Y)"
   ]
  },
  {
   "cell_type": "code",
   "execution_count": null,
   "metadata": {},
   "outputs": [],
   "source": [
    "## Features weghalen met teveel missing values\n",
    "acceptabele_ratio = 0.5\n",
    "train_size = len(X_train.index)\n",
    "removal_rate = round(train_size*acceptabele_ratio)\n",
    "\n",
    "X_train = X_train.dropna(axis=1, thresh=removal_rate)\n",
    "common_cols = list(set(X_train.columns).intersection(X_test.columns))\n",
    "X_test = X_test[common_cols]"
   ]
  },
  {
   "cell_type": "code",
   "execution_count": 60,
   "metadata": {},
   "outputs": [],
   "source": [
    "# Scale X values\n",
    "X_transformer = Pipeline(steps=[\n",
    "    ('imputer', KNNImputer()),\n",
    "    ('scaler', RobustScaler()),\n",
    "    ('PCA', PCA(n_components=0.99, svd_solver= 'full'))])\n",
    "\n",
    "# Scale Y values\n",
    "Y_transformer = Pipeline(steps=[\n",
    "    ('imputer', KNNImputer()),\n",
    "    ('encoder', LabelEncoder())])\n"
   ]
  },
  {
   "cell_type": "code",
   "execution_count": 56,
   "metadata": {},
   "outputs": [],
   "source": [
    "# moet type nog aanpassen\n",
    "preprocessor = ColumnTransformer(transformers=[\n",
    "        ('X', X_transformer, selector(dtype_include='float64')),\n",
    "        ('Y', Y_transformer, selector(dtype_include='category'))])"
   ]
  },
  {
   "cell_type": "code",
   "execution_count": null,
   "metadata": {},
   "outputs": [],
   "source": [
    "clf = Pipeline(steps=[\n",
    "    ('preprocessor', preprocessor),\n",
    "    ('classifier', LogisticRegression())])"
   ]
  },
  {
   "cell_type": "code",
   "execution_count": 48,
   "metadata": {},
   "outputs": [],
   "source": [
    "models = {\n",
    "        'KNN': KNeighborsClassifier(), \n",
    "        'DecisionTree':DecisionTreeClassifier(),\n",
    "        'RF': RandomForestClassifier(), \n",
    "        'LR': LogisticRegression(),\n",
    "        'GaussianNB': GaussianNB(),\n",
    "        'MLPClassifier': MLPClassifier(),\n",
    "        'SVC': SVC()\n",
    "}"
   ]
  },
  {
   "cell_type": "code",
   "execution_count": 50,
   "metadata": {},
   "outputs": [],
   "source": [
    "parameters = {\n",
    "        'KNN': {\n",
    "            \"n_neighbors\": list(range(1, 26, 2)),\n",
    "            \"weights\": [\"uniform\", \"distance\"],\n",
    "            \"metric\": [\"euclidean\", \"manhattan\", \"chebyshev\", \"minkowski\"]\n",
    "        }, \n",
    "        'DecisionTree':{\n",
    "            \"criterion\": ['gini', 'entropy'],\n",
    "            \"min_samples_split\": list(range(2,40,2)),\n",
    "            \"max_features\": [1,2,3,4,5],\n",
    "            \"min_samples_leaf\": list(range(1,20,2)),\n",
    "        },\n",
    "        'RF': {\n",
    "            \"criterion\": ['gini', 'entropy'],\n",
    "            \"min_samples_split\": list(range(2,40,2)),\n",
    "            \"max_features\": [1,2,3,4,5],\n",
    "            \"min_samples_leaf\": list(range(1,20,2)),\n",
    "        }, \n",
    "        'LR': {\n",
    "            \"solver\": ['newton-cg', 'lbfgs', 'liblinear'],\n",
    "            \"C\": [100, 10, 1.0, 0.1, 0.01],\n",
    "        },\n",
    "        'GaussianNB': {\n",
    "            \"var_smoothing\": list(np.logspace(0,-9, num=101))\n",
    "        },\n",
    "        'MLPClassifier': {\n",
    "            \"hidden_layer_sizes\": [(50,50,50), (50,100,50), (100,)],\n",
    "            \"activation\": ['tanh', 'relu'],\n",
    "            \"solver\": ['sgd', 'adam'],\n",
    "            \"alpha\": [0.0001, 0.05],\n",
    "            \"learning_rate\": ['constant','adaptive'],\n",
    "        },\n",
    "        'SVC': SVC()\n",
    "}"
   ]
  },
  {
   "cell_type": "code",
   "execution_count": null,
   "metadata": {},
   "outputs": [],
   "source": [
    "cv_gridsearch = StratifiedKFold(n_splits=5)"
   ]
  },
  {
   "cell_type": "code",
   "execution_count": null,
   "metadata": {},
   "outputs": [],
   "source": [
    "grid_search = GridSearchCV(clf, parameters, cv=cv_gridsearch, scoring='roc_auc')"
   ]
  }
 ],
 "metadata": {
  "interpreter": {
   "hash": "acd8e7abec0485076e76cb051571a1a2a2f728acb066230ca174617c7144541c"
  },
  "kernelspec": {
   "display_name": "Python 3.8.10 ('base')",
   "language": "python",
   "name": "python3"
  },
  "language_info": {
   "codemirror_mode": {
    "name": "ipython",
    "version": 3
   },
   "file_extension": ".py",
   "mimetype": "text/x-python",
   "name": "python",
   "nbconvert_exporter": "python",
   "pygments_lexer": "ipython3",
   "version": "3.8.10"
  },
  "orig_nbformat": 4
 },
 "nbformat": 4,
 "nbformat_minor": 2
}

{
 "cells": [
  {
   "cell_type": "code",
   "execution_count": 25,
   "metadata": {},
   "outputs": [],
   "source": [
    "# Run this to use from colab environment\n",
    "#!pip install -q --upgrade git+https://github.com/naomiverkerk/TM10007.git\n"
   ]
  },
  {
   "cell_type": "code",
   "execution_count": 49,
   "metadata": {},
   "outputs": [],
   "source": [
    "## Import\n",
    "from sklearn import model_selection\n",
    "from sklearn import metrics\n",
    "from sklearn import feature_selection \n",
    "from sklearn import preprocessing\n",
    "from sklearn import neighbors\n",
    "from sklearn import svm\n",
    "from sklearn import decomposition\n",
    "from load_data import load_data\n",
    "import pandas as pd\n",
    "import numpy as np\n",
    "from sklearn.model_selection import train_test_split\n",
    "\n",
    "# Classifiers and kernels\n",
    "from sklearn.svm import SVC\n",
    "from sklearn.model_selection import GridSearchCV\n",
    "from sklearn.metrics import classification_report\n",
    "\n"
   ]
  },
  {
   "cell_type": "code",
   "execution_count": 59,
   "metadata": {},
   "outputs": [],
   "source": [
    "##Loading Data\n",
    "data = load_data() \n",
    "X = data\n",
    "X = X.replace(np.inf, np.nan)\n",
    "Y = data['label']\n",
    "del X['label']"
   ]
  },
  {
   "cell_type": "code",
   "execution_count": 60,
   "metadata": {},
   "outputs": [],
   "source": [
    "## Split\n",
    "X_train, X_test, Y_train, Y_test= train_test_split(X, Y, test_size = 0.2, random_state = 4, stratify = Y)"
   ]
  },
  {
   "cell_type": "code",
   "execution_count": 61,
   "metadata": {},
   "outputs": [],
   "source": [
    "\n",
    "## Features weghalen met teveel missing values\n",
    "acceptabele_ratio = 0.5\n",
    "train_size = len(X_train.index)\n",
    "removal_rate = round(train_size*acceptabele_ratio)\n",
    "\n",
    "X_train = X_train.dropna(axis=1, thresh=removal_rate)\n",
    "common_cols = list(set(X_train.columns).intersection(X_test.columns))\n",
    "X_test = X_test[common_cols]"
   ]
  },
  {
   "cell_type": "code",
   "execution_count": 92,
   "metadata": {},
   "outputs": [],
   "source": [
    "## Imputation met median\n",
    "X_train_missing_median = X_train.fillna(X_train.median())\n",
    "X_train_missing_median = np.nan_to_num(X_train_missing_median)\n",
    "X_test_missing_median = X_test.fillna(X_test.median())\n",
    "X_test_missing_median = np.nan_to_num(X_test_missing_median)"
   ]
  },
  {
   "cell_type": "code",
   "execution_count": 93,
   "metadata": {},
   "outputs": [],
   "source": [
    "## Scaling\n",
    "scaler = preprocessing.RobustScaler()\n",
    "scaler.fit(X_train_missing_median)\n",
    "X_train_scaled = scaler.transform(X_train_missing_median)\n",
    "X_train_scaled = np.nan_to_num(X_train_scaled)\n",
    "X_test_scaled = scaler.transform(X_test_missing_median)\n",
    "X_test_scaled = np.nan_to_num(X_test_scaled)"
   ]
  },
  {
   "cell_type": "code",
   "execution_count": 95,
   "metadata": {},
   "outputs": [
    {
     "name": "stdout",
     "output_type": "stream",
     "text": [
      "[0.94191425 0.97492092 0.98729222 0.9899666  0.99189023]\n"
     ]
    }
   ],
   "source": [
    "## PCA\n",
    "pca = decomposition.PCA(n_components=0.99, svd_solver= 'full')\n",
    "pca.fit(X_train_scaled)\n",
    "X_train_final = pca.transform(X_train_scaled)\n",
    "X_test_final = pca.transform(X_test_scaled)\n",
    "explained_variance = np.cumsum(pca.explained_variance_ratio_)\n"
   ]
  },
  {
   "cell_type": "markdown",
   "metadata": {},
   "source": [
    "## Random Forest"
   ]
  },
  {
   "cell_type": "code",
   "execution_count": null,
   "metadata": {},
   "outputs": [],
   "source": [
    "\n",
    "\n",
    "\n",
    "def randomforest(X_train_final, Y_train_final):\n",
    "\n",
    "    cv_20fold = model_selection.StratifiedKFold(n_splits=5)\n",
    "    class_names = ['GBM', 'LGG']\n",
    "    feature_names = list(X_train.columns)\n",
    "    results = []\n",
    "    best_min_samples_split = []\n",
    "\n",
    "    for validation_index, test_index in cv_20fold.split(X_train_final, Y_train_final):\n",
    "\n",
    "        # Split the data properly\n",
    "        X_validation = X_train_final[validation_index]\n",
    "        y_validation = Y_train_final[validation_index]\n",
    "        \n",
    "        X_test = X_train_final[test_index]\n",
    "        y_test = Y_train_final[test_index]\n",
    "\n",
    "        parameters = {\n",
    "                        \"criterion\": ['gini', 'entropy'],\n",
    "                        \"min_samples_split\": list(range(2,40,2)),\n",
    "                        # \"min_impurity_decrease\": [0,1,2,3,4,5],\n",
    "                        \"max_features\": [1,2,3,4,5],\n",
    "                        \"min_samples_leaf\": list(range(1,20,2)),\n",
    "        }\n",
    "        clf = RandomForestClassifier()\n",
    "        cv_10fold = model_selection.StratifiedKFold(n_splits=5)\n",
    "        grid_search = model_selection.GridSearchCV(clf, parameters, cv=cv_10fold, scoring='roc_auc')\n",
    "        grid_search.fit(X_validation, y_validation)\n",
    "        \n",
    "        # Get resulting classifier\n",
    "        clf = grid_search.best_estimator_\n",
    "        print(f'Best classifier for criterion={clf.criterion} & min_samples_split={clf.min_samples_split} & max_features={clf.max_features} & min_samples_leaf={clf.min_samples_leaf}')\n",
    "\n",
    "        probabilities = clf.predict_proba(X_test)\n",
    "        scores = probabilities[:, 1]\n",
    "        \n",
    "        auc = metrics.roc_auc_score(y_test, scores)\n",
    "        results.append({\n",
    "            'auc': auc,\n",
    "            'criterion': clf.criterion,\n",
    "            'min_samples_split': clf.min_samples_split,\n",
    "            'max_features': clf.max_features,\n",
    "            \"min_samples_leaf\": clf.min_samples_leaf,\n",
    "            'set': 'test'\n",
    "        })\n",
    "        \n",
    "        probabilities_validation = clf.predict_proba(X_validation)\n",
    "        scores_validation = probabilities_validation[:, 1]\n",
    "\n",
    "        # Get the auc\n",
    "        auc_validation = metrics.roc_auc_score(y_validation, scores_validation)\n",
    "        results.append({\n",
    "            'auc': auc_validation,\n",
    "            'criterion': clf.criterion,\n",
    "            'min_samples_split': clf.min_samples_split,\n",
    "            'max_features': clf.max_features,\n",
    "            \"min_samples_leaf\": clf.min_samples_leaf,\n",
    "            'set': 'validation'\n",
    "        })\n",
    "\n",
    "    # plt.figure(dpi=250)\n",
    "    # plot_tree(clf, filled=True,\n",
    "    #             class_names=class_names,\n",
    "    #             feature_names=feature_names,\n",
    "    #             );\n",
    "\n",
    "\n",
    "\n",
    "    results = pd.DataFrame(results)\n",
    "    sns.boxplot(y='auc', x='set', data=results)\n",
    "\n",
    "    p = list(parameters.keys())\n",
    "    optimal_parameter = []\n",
    "    # print(f\"The optimal N={optimal_n}\")\n",
    "\n",
    "    parameter_keys = list(parameters.keys())\n",
    "    for item in parameter_keys:\n",
    "        best_item = [] \n",
    "        for i in list(range(0,10,2)):\n",
    "            best_item.append(results[item][i])\n",
    "\n",
    "        optimal_parameter.append(statistics.median(best_item))\n",
    "        print(f\"The optimal {item}={optimal_parameter[-1]}\")\n",
    "  \n",
    "   "
   ]
  },
  {
   "cell_type": "markdown",
   "metadata": {},
   "source": [
    "## Decision tree"
   ]
  },
  {
   "cell_type": "markdown",
   "metadata": {},
   "source": [
    "## K-nearest neighbour"
   ]
  },
  {
   "cell_type": "markdown",
   "metadata": {},
   "source": [
    "## Logistic regression"
   ]
  },
  {
   "cell_type": "markdown",
   "metadata": {},
   "source": [
    "## Naives Bayes"
   ]
  },
  {
   "cell_type": "markdown",
   "metadata": {},
   "source": [
    "## SVM"
   ]
  },
  {
   "cell_type": "markdown",
   "metadata": {},
   "source": [
    "## Neural Network"
   ]
  }
 ],
 "metadata": {
  "interpreter": {
   "hash": "99c346a2273ffdba9d13565a7efa8a03dbcb19c3f8c63eac036f68118855a3ce"
  },
  "kernelspec": {
   "display_name": "Python 3.9.5 ('base')",
   "language": "python",
   "name": "python3"
  },
  "language_info": {
   "codemirror_mode": {
    "name": "ipython",
    "version": 3
   },
   "file_extension": ".py",
   "mimetype": "text/x-python",
   "name": "python",
   "nbconvert_exporter": "python",
   "pygments_lexer": "ipython3",
   "version": "3.9.5"
  },
  "orig_nbformat": 4
 },
 "nbformat": 4,
 "nbformat_minor": 2
}

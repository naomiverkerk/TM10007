{
 "cells": [
  {
   "cell_type": "code",
   "execution_count": 1,
   "metadata": {},
   "outputs": [],
   "source": [
    "# Run this to use from colab environment\n",
    "#!pip install -q --upgrade git+https://github.com/naomiverkerk/TM10007.git\n"
   ]
  },
  {
   "cell_type": "markdown",
   "metadata": {},
   "source": [
    "## Import data"
   ]
  },
  {
   "cell_type": "code",
   "execution_count": 222,
   "metadata": {},
   "outputs": [],
   "source": [
    "## Import\n",
    "import matplotlib.pyplot as plt\n",
    "import seaborn as sns\n",
    "import pandas as pd\n",
    "import numpy as np\n",
    "from sklearn import metrics\n",
    "from sklearn import svm\n",
    "from sklearn import decomposition\n",
    "import statistics\n",
    "\n",
    "# Preprocessing\n",
    "from load_data import load_data\n",
    "from sklearn.model_selection import train_test_split\n",
    "from sklearn.impute import KNNImputer\n",
    "from sklearn.preprocessing import RobustScaler, LabelEncoder\n",
    "\n",
    "# Classifiers and kernels\n",
    "from sklearn.model_selection import StratifiedKFold, RandomizedSearchCV\n",
    "from sklearn.neighbors import KNeighborsClassifier \n",
    "from sklearn.tree import DecisionTreeClassifier\n",
    "from sklearn.ensemble import RandomForestClassifier\n",
    "from sklearn.linear_model import LogisticRegression\n",
    "from sklearn.naive_bayes import GaussianNB\n",
    "from sklearn.neural_network import MLPClassifier\n",
    "from sklearn.svm import SVC\n",
    "\n",
    "#\n",
    "from sklearn.model_selection import GridSearchCV\n",
    "from sklearn.metrics import classification_report\n",
    "from sklearn.compose import ColumnTransformer, make_column_selector as selector\n"
   ]
  },
  {
   "cell_type": "markdown",
   "metadata": {},
   "source": [
    "## Loading Data"
   ]
  },
  {
   "cell_type": "code",
   "execution_count": 223,
   "metadata": {},
   "outputs": [],
   "source": [
    "##Loading Data\n",
    "data = load_data() \n",
    "X = data\n",
    "X = X.replace(np.inf, np.nan)\n",
    "Y = data['label']\n",
    "del X['label']"
   ]
  },
  {
   "cell_type": "markdown",
   "metadata": {},
   "source": [
    "# Duplicate check"
   ]
  },
  {
   "cell_type": "code",
   "execution_count": 224,
   "metadata": {},
   "outputs": [
    {
     "name": "stdout",
     "output_type": "stream",
     "text": [
      "Number of duplicated datasets = 0\n",
      "Number of duplicated features = 0\n"
     ]
    }
   ],
   "source": [
    "# Check for duplicates values\n",
    "data.drop_duplicates(keep='first')\n",
    "print(f'Number of duplicated datasets = {data.duplicated().sum()}')\n",
    "\n",
    "# Check for duplicates columns\n",
    "data.columns.drop_duplicates(keep='first')\n",
    "print(f'Number of duplicated features = {data.columns.duplicated().sum()}')"
   ]
  },
  {
   "cell_type": "markdown",
   "metadata": {},
   "source": [
    "# Label counter"
   ]
  },
  {
   "cell_type": "code",
   "execution_count": 225,
   "metadata": {},
   "outputs": [
    {
     "data": {
      "image/png": "[encoded data removed]",
      "text/plain": [
       "<Figure size 432x396 with 1 Axes>"
      ]
     },
     "metadata": {
      "needs_background": "light"
     },
     "output_type": "display_data"
    }
   ],
   "source": [
    "label_count = Y.value_counts()\n",
    "z = np.arange(len(label_count.index))\n",
    "width = 0.75\n",
    "fig, ax = plt.subplots(figsize = (6,5.5))\n",
    "count1 = ax.bar(0.5, label_count.values[0], width, label=label_count.index[0])\n",
    "count2 = ax.bar(1.5, label_count.values[1], width, label=label_count.index[1])\n",
    "\n",
    "ax.set_ylabel('Scores', fontsize = 15)\n",
    "ax.set_title('Number patients per label  ', fontsize = 16)\n",
    "ax.set_xticks([0.5,1.5], list(label_count.index), fontsize = 13)\n",
    "ax.legend()\n",
    "ax.bar_label(count1, padding=3)\n",
    "ax.bar_label(count2, padding=3)\n",
    "ax.grid(False)\n",
    "fig.tight_layout()\n",
    "\n",
    "plt.show()"
   ]
  },
  {
   "cell_type": "markdown",
   "metadata": {},
   "source": [
    "## Splitting into test and train(design)"
   ]
  },
  {
   "cell_type": "code",
   "execution_count": 226,
   "metadata": {},
   "outputs": [],
   "source": [
    "## Split\n",
    "X_train, X_test, Y_train, Y_test= train_test_split(X, Y, test_size = 0.2, random_state = 4, stratify = Y)"
   ]
  },
  {
   "cell_type": "markdown",
   "metadata": {},
   "source": [
    "## Plaatjes, weg?"
   ]
  },
  {
   "cell_type": "code",
   "execution_count": 227,
   "metadata": {},
   "outputs": [],
   "source": [
    "## Nog ff naar kijken of het werkt\n",
    "# from fitter import Fitter, get_common_distributions, get_distributions\n",
    "# fi = []\n",
    "\n",
    "# col = X.columns\n",
    "# for i in (range(0,X.shape[1],1)):\n",
    "#     try:\n",
    "#         X_tr = X[col[i]].values\n",
    "#         f = Fitter(X_tr,\n",
    "#             distributions=['gamma',\n",
    "#                             'lognorm',\n",
    "#                             \"beta\",\n",
    "#                             \"burr\",\n",
    "#                             \"norm\"])\n",
    "#         f.fit()\n",
    "#         fi.append(list(pd.DataFrame(f.get_best(method = 'sumsquare_error')).columns))\n",
    "#     except Exception:\n",
    "#         pass\n",
    "\n",
    "# flat_list = [item for sublist in fi for item in sublist]\n",
    "# from collections import Counter\n",
    "# Counter(flat_list).most_common()       \n",
    "# from sklearn import preprocessing\n",
    "# import seaborn as sns\n",
    "# import matplotlib.patches as mpatches\n",
    "# import matplotlib.pyplot as plt\n",
    "\n",
    "# le = preprocessing.LabelEncoder()\n",
    "\n",
    "# y_10 = le.fit_transform(Y)\n",
    "# Y_train_10 = le.fit_transform(Y_train)\n",
    "# Y_test_10 = le.fit_transform(Y_test)\n",
    "# # classes = data.label\n",
    "# # classes = list(classes.unique())\n",
    "# colour = sns.color_palette(\"Set2\")\n",
    "# color1=colour[0]\n",
    "# color2=colour[1]\n",
    "\n",
    "# colormap = np.array([color1,color2])\n",
    "\n",
    "# fig = plt.figure(figsize=(24,8))\n",
    "# ax = fig.add_subplot(131)\n",
    "# ax.set_title(f\"Brats, entire dataset = {len(data)}\", fontsize=15)\n",
    "# ax.scatter(data.iloc[:,0], data.iloc[:,1], marker='o', c=colormap[y_10],\n",
    "#            s=45, edgecolor='k', cmap=plt.cm.Paired)\n",
    "\n",
    "# ax = fig.add_subplot(132)\n",
    "# ax.set_title(f\"Training data = {len(X_train)}\", fontsize=15)\n",
    "# ax.scatter(X_train.iloc[:,0], X_train.iloc[:,1], marker='o', c=colormap[Y_train_10],\n",
    "#            s=45, edgecolor='k', cmap=plt.cm.Paired)\n",
    "\n",
    "# ax = fig.add_subplot(133)\n",
    "# ax.set_title(f\"Test data= {len(X_test)}\", fontsize=15)\n",
    "# ax.scatter(X_test.iloc[:,0], X_test.iloc[:,1], marker='o', c=colormap[Y_test_10],\n",
    "#            s=45, edgecolor='k', cmap=plt.cm.Paired)   \n",
    "\n",
    "# GBM_patch = mpatches.Patch(color=colour[0], label='GBM')\n",
    "# LGG_patch = mpatches.Patch(color=colour[1], label='LGG')\n",
    "# fig.legend(handles=[GBM_patch, LGG_patch],loc=\"center right\", prop={'size': 12})\n",
    "# fig.subplots_adjust(right=0.95)\n",
    "\n",
    "# plt.show()          "
   ]
  },
  {
   "cell_type": "markdown",
   "metadata": {},
   "source": [
    "## Features removal"
   ]
  },
  {
   "cell_type": "code",
   "execution_count": 228,
   "metadata": {},
   "outputs": [
    {
     "name": "stdout",
     "output_type": "stream",
     "text": [
      "(133, 704)\n",
      "(34, 704)\n"
     ]
    }
   ],
   "source": [
    "## Features weghalen met teveel missing values\n",
    "acceptabele_ratio = 0.5\n",
    "train_size = len(X_train.index)\n",
    "removal_rate = round(train_size*acceptabele_ratio)\n",
    "\n",
    "X_train = X_train.dropna(axis=1, thresh=removal_rate)\n",
    "common_cols = list(set(X_train.columns).intersection(X_test.columns))\n",
    "X_test = X_test[common_cols]\n",
    "print(X_train.shape)\n",
    "print(X_test.shape)\n"
   ]
  },
  {
   "cell_type": "markdown",
   "metadata": {},
   "source": [
    "## Imputation with KNN"
   ]
  },
  {
   "cell_type": "code",
   "execution_count": 229,
   "metadata": {},
   "outputs": [
    {
     "name": "stderr",
     "output_type": "stream",
     "text": [
      "C:\\Users\\nwver\\miniconda3\\lib\\site-packages\\sklearn\\base.py:493: FutureWarning: The feature names should match those that were passed during fit. Starting version 1.2, an error will be raised.\n",
      "Feature names must be in the same order as they were in fit.\n",
      "\n",
      "  warnings.warn(message, FutureWarning)\n"
     ]
    }
   ],
   "source": [
    "imputer = KNNImputer()\n",
    "imputer.fit(X_train)\n",
    "X_train = imputer.transform(X_train)\n",
    "X_test = imputer.transform(X_test)\n",
    "\n",
    "# np.isnan(X_train_imputer).sum()\n",
    "# np.isnan(X_test_imputer).sum()"
   ]
  },
  {
   "cell_type": "markdown",
   "metadata": {},
   "source": [
    "## Scaling"
   ]
  },
  {
   "cell_type": "code",
   "execution_count": 230,
   "metadata": {},
   "outputs": [],
   "source": [
    "## Scaling\n",
    "scaler = RobustScaler()\n",
    "scaler.fit(X_train)\n",
    "X_train = scaler.transform(X_train)\n",
    "X_test = scaler.transform(X_test)\n"
   ]
  },
  {
   "cell_type": "markdown",
   "metadata": {},
   "source": [
    "## Label encoder for scaling Y"
   ]
  },
  {
   "cell_type": "code",
   "execution_count": 231,
   "metadata": {},
   "outputs": [],
   "source": [
    "## scaling van y\n",
    "scaler = LabelEncoder()\n",
    "scaler.fit(Y_train)\n",
    "Y_train = scaler.transform(Y_train)\n",
    "Y_test = scaler.transform(Y_test)"
   ]
  },
  {
   "cell_type": "markdown",
   "metadata": {},
   "source": [
    "## PCA"
   ]
  },
  {
   "cell_type": "code",
   "execution_count": 232,
   "metadata": {},
   "outputs": [
    {
     "name": "stdout",
     "output_type": "stream",
     "text": [
      "[0.94938451 0.9824626  0.98936905 0.99161961]\n"
     ]
    }
   ],
   "source": [
    "## PCA\n",
    "pca = decomposition.PCA(n_components=0.99, svd_solver= 'full')\n",
    "pca.fit(X_train)\n",
    "X_train_final = pca.transform(X_train)\n",
    "X_test_final = pca.transform(X_test)\n",
    "explained_variance = np.cumsum(pca.explained_variance_ratio_)\n",
    "print(explained_variance)\n"
   ]
  },
  {
   "cell_type": "markdown",
   "metadata": {},
   "source": [
    "## Parameters"
   ]
  },
  {
   "cell_type": "code",
   "execution_count": 253,
   "metadata": {},
   "outputs": [],
   "source": [
    "cv_10fold = StratifiedKFold(n_splits=10, shuffle=True, random_state=0)\n",
    "cv_5fold = StratifiedKFold(n_splits=5, shuffle=True, random_state=0)\n",
    "\n",
    "clf_list = [KNeighborsClassifier(), DecisionTreeClassifier(), LogisticRegression(), RandomForestClassifier(), SVC(probability=True)]\n",
    "\n",
    "parameters_list = [\n",
    "        {\n",
    "                      \"n_neighbors\": range(1,20,1),\n",
    "                       \"weights\": [\"uniform\", \"distance\"],\n",
    "        },\n",
    "        {\n",
    "                    \"criterion\": ['gini', 'entropy'],\n",
    "                    \"min_samples_split\": list(range(2,40,2)),\n",
    "                    \"max_features\": [1,2,3,4],\n",
    "                    \"min_samples_leaf\": list(range(1,20,2)),\n",
    "        },\n",
    "        {\n",
    "                     'solver': ['newton-cg', 'lbfgs', 'liblinear'],\n",
    "                     'penalty' :[\"l1\", 'l2', 'elasticnet', 'none'],\n",
    "                     'C': [0.001, 0.01, 0.1, 1, 10, 100, 1000],\n",
    "        },\n",
    "        {\n",
    "                        \"n_estimators\" : range(20,100,5),\n",
    "                      \"criterion\": ['gini', 'entropy'],\n",
    "                      \"min_samples_split\": list(range(2,40,2)),\n",
    "                     \"max_features\": [1,2,3,4],\n",
    "                      \"min_samples_leaf\": list(range(1,20,2)),\n",
    "        },\n",
    "        {\n",
    "                'degree': [1, 3, 5],\n",
    "                'coef0': [0.01, 0.5, 1],\n",
    "                'C': [0.01, 0.5, 1],\n",
    "                'kernel': ['poly', 'rbf', 'sigmoid']\n",
    "        },\n",
    "]\n",
    "\n",
    "    \n"
   ]
  },
  {
   "cell_type": "markdown",
   "metadata": {},
   "source": [
    "# KNN"
   ]
  },
  {
   "cell_type": "code",
   "execution_count": 254,
   "metadata": {},
   "outputs": [
    {
     "name": "stdout",
     "output_type": "stream",
     "text": [
      "The optimal n_neighbors=17\n",
      "The optimal weights=distance\n"
     ]
    },
    {
     "data": {
      "image/png": "[encoded data removed]",
      "text/plain": [
       "<Figure size 432x288 with 1 Axes>"
      ]
     },
     "metadata": {
      "needs_background": "light"
     },
     "output_type": "display_data"
    }
   ],
   "source": [
    "results = []\n",
    "for train_index, validation_index, in cv_10fold.split(X_train, Y_train):\n",
    "    \n",
    "    X_train_CV = X_train[train_index]\n",
    "    Y_train_CV = Y_train[train_index]\n",
    "\n",
    "    X_validation_CV = X_train[validation_index]\n",
    "    Y_validation_CV = Y_train[validation_index]\n",
    "    \n",
    "    clf = clf_list[0]\n",
    "    parameters = parameters_list[0]\n",
    "    randomized_search = RandomizedSearchCV(clf, parameters, cv=cv_5fold, scoring='roc_auc', n_iter = 10)\n",
    "    randomized_search.fit(X_train_CV, Y_train_CV)\n",
    "    \n",
    "    # Get resulting classifier\n",
    "    clf = randomized_search.best_estimator_\n",
    "\n",
    "    # Test the classifier on the train data\n",
    "    probabilities = clf.predict_proba(X_train_CV)\n",
    "    scores = probabilities[:, 1]\n",
    "    \n",
    "    # Get the auc\n",
    "    auc = metrics.roc_auc_score(Y_train_CV, scores)\n",
    "    results.append({\n",
    "        'auc': auc,\n",
    "        'n_neighbors': clf.n_neighbors,\n",
    "        \"weights\": clf.weights,\n",
    "        \"metric\": clf.metric,\n",
    "        'set': 'train'\n",
    "    })\n",
    "    \n",
    "    # Test the classifier on the validation data\n",
    "    probabilities_validation = clf.predict_proba(X_validation_CV)\n",
    "    scores_validation = probabilities_validation[:, 1]\n",
    "    \n",
    "    # Get the auc\n",
    "    auc_validation = metrics.roc_auc_score(Y_validation_CV, scores_validation)\n",
    "    results.append({\n",
    "        'auc': auc_validation,\n",
    "        'n_neighbors': clf.n_neighbors,\n",
    "        \"weights\": clf.weights,\n",
    "        \"metric\": clf.metric,\n",
    "        'set': 'validation'\n",
    "    })\n",
    "    \n",
    "#Create results dataframe and plot it\n",
    "results = pd.DataFrame(results)\n",
    "sns.boxplot(y='auc', x='set', data=results).set_title(f'{clf_list[0]}')\n",
    "\n",
    "optimal_parameter = []\n",
    "parameter_keys = list(parameters.keys())\n",
    "\n",
    "for item in parameter_keys:\n",
    "    best_item = [] \n",
    "    for i in list(range(0,10,2)):\n",
    "        best_item.append(results[item][i])\n",
    "    \n",
    "    optimal_parameter.append(statistics.median(best_item))\n",
    "    print(f\"The optimal {item}={optimal_parameter[-1]}\")\n",
    "\n"
   ]
  },
  {
   "cell_type": "markdown",
   "metadata": {},
   "source": [
    "# Decision tree"
   ]
  },
  {
   "cell_type": "code",
   "execution_count": 255,
   "metadata": {},
   "outputs": [
    {
     "name": "stdout",
     "output_type": "stream",
     "text": [
      "The optimal criterion=gini\n",
      "The optimal min_samples_split=26\n",
      "The optimal max_features=4\n",
      "The optimal min_samples_leaf=9\n"
     ]
    },
    {
     "data": {
      "image/png": "[encoded data removed]",
      "text/plain": [
       "<Figure size 432x288 with 1 Axes>"
      ]
     },
     "metadata": {
      "needs_background": "light"
     },
     "output_type": "display_data"
    }
   ],
   "source": [
    "results = []\n",
    "for train_index, validation_index, in cv_10fold.split(X_train, Y_train):\n",
    "    \n",
    "    X_train_CV = X_train[train_index]\n",
    "    Y_train_CV = Y_train[train_index]\n",
    "\n",
    "    X_validation_CV = X_train[validation_index]\n",
    "    Y_validation_CV = Y_train[validation_index]\n",
    "    \n",
    "    clf = clf_list[1]\n",
    "    parameters = parameters_list[1]\n",
    "    randomized_search = RandomizedSearchCV(clf, parameters, cv=cv_5fold, scoring='roc_auc', n_iter = 10)\n",
    "    randomized_search.fit(X_train_CV, Y_train_CV)\n",
    "    \n",
    "    # Get resulting classifier\n",
    "    clf = randomized_search.best_estimator_\n",
    "\n",
    "    # Test the classifier on the train data\n",
    "    probabilities = clf.predict_proba(X_train_CV)\n",
    "    scores = probabilities[:, 1]\n",
    "    \n",
    "    # Get the auc\n",
    "    auc = metrics.roc_auc_score(Y_train_CV, scores)\n",
    "    results.append({\n",
    "        'auc': auc_validation,\n",
    "        'criterion': clf.criterion,\n",
    "        'min_samples_split': clf.min_samples_split,\n",
    "        'max_features': clf.max_features,\n",
    "        \"min_samples_leaf\": clf.min_samples_leaf,\n",
    "        'set': 'train'\n",
    "    })\n",
    "    \n",
    "    # Test the classifier on the validation data\n",
    "    probabilities_validation = clf.predict_proba(X_validation_CV)\n",
    "    scores_validation = probabilities_validation[:, 1]\n",
    "    \n",
    "    # Get the auc\n",
    "    auc_validation = metrics.roc_auc_score(Y_validation_CV, scores_validation)\n",
    "    results.append({\n",
    "        'auc': auc_validation,\n",
    "        'criterion': clf.criterion,\n",
    "        'min_samples_split': clf.min_samples_split,\n",
    "        'max_features': clf.max_features,\n",
    "        \"min_samples_leaf\": clf.min_samples_leaf,\n",
    "        'set': 'validation'\n",
    "    })\n",
    "    \n",
    "#Create results dataframe and plot it\n",
    "results = pd.DataFrame(results)\n",
    "sns.boxplot(y='auc', x='set', data=results).set_title(f'{clf_list[1]}')\n",
    "\n",
    "optimal_parameter = []\n",
    "parameter_keys = list(parameters.keys())\n",
    "\n",
    "for item in parameter_keys:\n",
    "    best_item = [] \n",
    "    for i in list(range(0,10,2)):\n",
    "        best_item.append(results[item][i])\n",
    "    \n",
    "    optimal_parameter.append(statistics.median(best_item))\n",
    "    print(f\"The optimal {item}={optimal_parameter[-1]}\")\n",
    "  "
   ]
  },
  {
   "cell_type": "markdown",
   "metadata": {},
   "source": [
    "# Logistic Regression"
   ]
  },
  {
   "cell_type": "code",
   "execution_count": 256,
   "metadata": {},
   "outputs": [],
   "source": [
    "# results = []\n",
    "# for train_index, validation_index, in cv_10fold.split(X_train, Y_train):\n",
    "    \n",
    "#     X_train_CV = X_train[train_index]\n",
    "#     Y_train_CV = Y_train[train_index]\n",
    "\n",
    "#     X_validation_CV = X_train[validation_index]\n",
    "#     Y_validation_CV = Y_train[validation_index]\n",
    "    \n",
    "#     clf = clf_list[2]\n",
    "#     parameters = parameters_list[2]\n",
    "#     randomized_search = RandomizedSearchCV(clf, parameters, cv=cv_5fold, scoring='roc_auc', n_iter = 10)\n",
    "#     randomized_search.fit(X_train_CV, Y_train_CV)\n",
    "    \n",
    "#     # Get resulting classifier\n",
    "#     clf = randomized_search.best_estimator_\n",
    "\n",
    "#     # Test the classifier on the train data\n",
    "#     probabilities = clf.predict_proba(X_train_CV)\n",
    "#     scores = probabilities[:, 1]\n",
    "    \n",
    "#     # Get the auc\n",
    "#     auc = metrics.roc_auc_score(Y_train_CV, scores)\n",
    "#     results.append({\n",
    "#         'auc': auc,\n",
    "#         'solver' : clf.solver,\n",
    "#         'C' : clf.C,\n",
    "#         'set': 'test',\n",
    "#     })\n",
    "    \n",
    "#     # Test the classifier on the validation data\n",
    "#     probabilities_validation = clf.predict_proba(X_validation_CV)\n",
    "#     scores_validation = probabilities_validation[:, 1]\n",
    "    \n",
    "#     # Get the auc\n",
    "#     auc_validation = metrics.roc_auc_score(Y_validation_CV, scores_validation)\n",
    "#     results.append({\n",
    "#         'auc': auc_validation,\n",
    "#         'solver' : clf.solver,\n",
    "#         'C' : clf.C,\n",
    "#         'set': 'validation'\n",
    "#     })\n",
    "    \n",
    "# #Create results dataframe and plot it\n",
    "# results = pd.DataFrame(results)\n",
    "# sns.boxplot(y='auc', x='set', data=results).set_title(f'{clf_list[2]}')\n",
    "\n",
    "# optimal_parameter = []\n",
    "# parameter_keys = list(parameters.keys())\n",
    "\n",
    "# for item in parameter_keys:\n",
    "#     best_item = [] \n",
    "#     for i in list(range(0,10,2)):\n",
    "#         best_item.append(results[item][i])\n",
    "    \n",
    "#     optimal_parameter.append(statistics.median(best_item))\n",
    "#     print(f\"The optimal {item}={optimal_parameter[-1]}\")"
   ]
  },
  {
   "cell_type": "markdown",
   "metadata": {},
   "source": [
    "# Random Forest"
   ]
  },
  {
   "cell_type": "code",
   "execution_count": 259,
   "metadata": {},
   "outputs": [],
   "source": [
    "results = []\n",
    "for train_index, validation_index, in cv_10fold.split(X_train, Y_train):\n",
    "    \n",
    "    X_train_CV = X_train[train_index]\n",
    "    Y_train_CV = Y_train[train_index]\n",
    "\n",
    "    X_validation_CV = X_train[validation_index]\n",
    "    Y_validation_CV = Y_train[validation_index]\n",
    "    \n",
    "    clf = clf_list[3]\n",
    "    parameters = parameters_list[3]\n",
    "    randomized_search = RandomizedSearchCV(clf, parameters, cv=cv_5fold, scoring='roc_auc', n_iter = 10)\n",
    "    randomized_search.fit(X_train_CV, Y_train_CV)\n",
    "    \n",
    "    # Get resulting classifier\n",
    "    clf = randomized_search.best_estimator_\n",
    "\n",
    "    # Test the classifier on the train data\n",
    "    probabilities = clf.predict_proba(X_train_CV)\n",
    "    scores = probabilities[:, 1]\n",
    "    \n",
    "    # Get the auc\n",
    "    auc = metrics.roc_auc_score(Y_train_CV, scores)\n",
    "    results.append({\n",
    "        'auc': auc,\n",
    "        \"criterion\": clf.criterion,\n",
    "        \"min_samples_split\": clf.min_samples_split,\n",
    "        \"max_features\": clf.max_features,\n",
    "        \"min_samples_leaf\": clf.min_samples_leaf,\n",
    "        'set': 'test'\n",
    "    })\n",
    "    \n",
    "    # Test the classifier on the validation data\n",
    "    probabilities_validation = clf.predict_proba(X_validation_CV)\n",
    "    scores_validation = probabilities_validation[:, 1]\n",
    "    \n",
    "    # Get the auc\n",
    "    auc_validation = metrics.roc_auc_score(Y_validation_CV, scores_validation)\n",
    "    results.append({\n",
    "        'auc': auc_validation,\n",
    "        \"criterion\": clf.criterion,\n",
    "        \"min_samples_split\": clf.min_samples_split,\n",
    "        \"max_features\": clf.max_features,\n",
    "        \"min_samples_leaf\": clf.min_samples_leaf,\n",
    "        'set': 'validation'\n",
    "    })\n",
    "    \n",
    "#Create results dataframe and plot it\n",
    "results = pd.DataFrame(results)\n",
    "sns.boxplot(y='auc', x='set', data=results).set_title(f'{clf_list[3]}')\n",
    "\n",
    "optimal_parameter = []\n",
    "parameter_keys = list(parameters.keys())\n",
    "\n",
    "for item in parameter_keys:\n",
    "    best_item = [] \n",
    "    for i in list(range(0,10,2)):\n",
    "        best_item.append(results[item][i])\n",
    "    \n",
    "    optimal_parameter.append(statistics.median(best_item))\n",
    "    print(f\"The optimal {item}={optimal_parameter[-1]}\")"
   ]
  },
  {
   "cell_type": "markdown",
   "metadata": {},
   "source": [
    "# SVM"
   ]
  },
  {
   "cell_type": "code",
   "execution_count": 258,
   "metadata": {},
   "outputs": [
    {
     "ename": "KeyError",
     "evalue": "'degree'",
     "output_type": "error",
     "traceback": [
      "\u001b[1;31m---------------------------------------------------------------------------\u001b[0m",
      "\u001b[1;31mKeyError\u001b[0m                                  Traceback (most recent call last)",
      "File \u001b[1;32m~\\miniconda3\\lib\\site-packages\\pandas\\core\\indexes\\base.py:3361\u001b[0m, in \u001b[0;36mIndex.get_loc\u001b[1;34m(self, key, method, tolerance)\u001b[0m\n\u001b[0;32m   <a href='file:///c%3A/Users/nwver/miniconda3/lib/site-packages/pandas/core/indexes/base.py?line=3359'>3360</a>\u001b[0m \u001b[39mtry\u001b[39;00m:\n\u001b[1;32m-> <a href='file:///c%3A/Users/nwver/miniconda3/lib/site-packages/pandas/core/indexes/base.py?line=3360'>3361</a>\u001b[0m     \u001b[39mreturn\u001b[39;00m \u001b[39mself\u001b[39;49m\u001b[39m.\u001b[39;49m_engine\u001b[39m.\u001b[39;49mget_loc(casted_key)\n\u001b[0;32m   <a href='file:///c%3A/Users/nwver/miniconda3/lib/site-packages/pandas/core/indexes/base.py?line=3361'>3362</a>\u001b[0m \u001b[39mexcept\u001b[39;00m \u001b[39mKeyError\u001b[39;00m \u001b[39mas\u001b[39;00m err:\n",
      "File \u001b[1;32m~\\miniconda3\\lib\\site-packages\\pandas\\_libs\\index.pyx:76\u001b[0m, in \u001b[0;36mpandas._libs.index.IndexEngine.get_loc\u001b[1;34m()\u001b[0m\n",
      "File \u001b[1;32m~\\miniconda3\\lib\\site-packages\\pandas\\_libs\\index.pyx:108\u001b[0m, in \u001b[0;36mpandas._libs.index.IndexEngine.get_loc\u001b[1;34m()\u001b[0m\n",
      "File \u001b[1;32mpandas\\_libs\\hashtable_class_helper.pxi:5198\u001b[0m, in \u001b[0;36mpandas._libs.hashtable.PyObjectHashTable.get_item\u001b[1;34m()\u001b[0m\n",
      "File \u001b[1;32mpandas\\_libs\\hashtable_class_helper.pxi:5206\u001b[0m, in \u001b[0;36mpandas._libs.hashtable.PyObjectHashTable.get_item\u001b[1;34m()\u001b[0m\n",
      "\u001b[1;31mKeyError\u001b[0m: 'degree'",
      "\nThe above exception was the direct cause of the following exception:\n",
      "\u001b[1;31mKeyError\u001b[0m                                  Traceback (most recent call last)",
      "\u001b[1;32mc:\\Users\\nwver\\Documents\\TM jaar 1\\TM10007 Machine Learning\\TM10007\\Okedezefile.ipynb Cell 35'\u001b[0m in \u001b[0;36m<module>\u001b[1;34m\u001b[0m\n\u001b[0;32m     <a href='vscode-notebook-cell:/c%3A/Users/nwver/Documents/TM%20jaar%201/TM10007%20Machine%20Learning/TM10007/Okedezefile.ipynb#ch0000029?line=49'>50</a>\u001b[0m best_item \u001b[39m=\u001b[39m [] \n\u001b[0;32m     <a href='vscode-notebook-cell:/c%3A/Users/nwver/Documents/TM%20jaar%201/TM10007%20Machine%20Learning/TM10007/Okedezefile.ipynb#ch0000029?line=50'>51</a>\u001b[0m \u001b[39mfor\u001b[39;00m i \u001b[39min\u001b[39;00m \u001b[39mlist\u001b[39m(\u001b[39mrange\u001b[39m(\u001b[39m0\u001b[39m,\u001b[39m10\u001b[39m,\u001b[39m2\u001b[39m)):\n\u001b[1;32m---> <a href='vscode-notebook-cell:/c%3A/Users/nwver/Documents/TM%20jaar%201/TM10007%20Machine%20Learning/TM10007/Okedezefile.ipynb#ch0000029?line=51'>52</a>\u001b[0m     best_item\u001b[39m.\u001b[39mappend(results[item][i])\n\u001b[0;32m     <a href='vscode-notebook-cell:/c%3A/Users/nwver/Documents/TM%20jaar%201/TM10007%20Machine%20Learning/TM10007/Okedezefile.ipynb#ch0000029?line=53'>54</a>\u001b[0m optimal_parameter\u001b[39m.\u001b[39mappend(statistics\u001b[39m.\u001b[39mmedian(best_item))\n\u001b[0;32m     <a href='vscode-notebook-cell:/c%3A/Users/nwver/Documents/TM%20jaar%201/TM10007%20Machine%20Learning/TM10007/Okedezefile.ipynb#ch0000029?line=54'>55</a>\u001b[0m \u001b[39mprint\u001b[39m(\u001b[39mf\u001b[39m\u001b[39m\"\u001b[39m\u001b[39mThe optimal \u001b[39m\u001b[39m{\u001b[39;00mitem\u001b[39m}\u001b[39;00m\u001b[39m=\u001b[39m\u001b[39m{\u001b[39;00moptimal_parameter[\u001b[39m-\u001b[39m\u001b[39m1\u001b[39m]\u001b[39m}\u001b[39;00m\u001b[39m\"\u001b[39m)\n",
      "File \u001b[1;32m~\\miniconda3\\lib\\site-packages\\pandas\\core\\frame.py:3458\u001b[0m, in \u001b[0;36mDataFrame.__getitem__\u001b[1;34m(self, key)\u001b[0m\n\u001b[0;32m   <a href='file:///c%3A/Users/nwver/miniconda3/lib/site-packages/pandas/core/frame.py?line=3455'>3456</a>\u001b[0m \u001b[39mif\u001b[39;00m \u001b[39mself\u001b[39m\u001b[39m.\u001b[39mcolumns\u001b[39m.\u001b[39mnlevels \u001b[39m>\u001b[39m \u001b[39m1\u001b[39m:\n\u001b[0;32m   <a href='file:///c%3A/Users/nwver/miniconda3/lib/site-packages/pandas/core/frame.py?line=3456'>3457</a>\u001b[0m     \u001b[39mreturn\u001b[39;00m \u001b[39mself\u001b[39m\u001b[39m.\u001b[39m_getitem_multilevel(key)\n\u001b[1;32m-> <a href='file:///c%3A/Users/nwver/miniconda3/lib/site-packages/pandas/core/frame.py?line=3457'>3458</a>\u001b[0m indexer \u001b[39m=\u001b[39m \u001b[39mself\u001b[39;49m\u001b[39m.\u001b[39;49mcolumns\u001b[39m.\u001b[39;49mget_loc(key)\n\u001b[0;32m   <a href='file:///c%3A/Users/nwver/miniconda3/lib/site-packages/pandas/core/frame.py?line=3458'>3459</a>\u001b[0m \u001b[39mif\u001b[39;00m is_integer(indexer):\n\u001b[0;32m   <a href='file:///c%3A/Users/nwver/miniconda3/lib/site-packages/pandas/core/frame.py?line=3459'>3460</a>\u001b[0m     indexer \u001b[39m=\u001b[39m [indexer]\n",
      "File \u001b[1;32m~\\miniconda3\\lib\\site-packages\\pandas\\core\\indexes\\base.py:3363\u001b[0m, in \u001b[0;36mIndex.get_loc\u001b[1;34m(self, key, method, tolerance)\u001b[0m\n\u001b[0;32m   <a href='file:///c%3A/Users/nwver/miniconda3/lib/site-packages/pandas/core/indexes/base.py?line=3360'>3361</a>\u001b[0m         \u001b[39mreturn\u001b[39;00m \u001b[39mself\u001b[39m\u001b[39m.\u001b[39m_engine\u001b[39m.\u001b[39mget_loc(casted_key)\n\u001b[0;32m   <a href='file:///c%3A/Users/nwver/miniconda3/lib/site-packages/pandas/core/indexes/base.py?line=3361'>3362</a>\u001b[0m     \u001b[39mexcept\u001b[39;00m \u001b[39mKeyError\u001b[39;00m \u001b[39mas\u001b[39;00m err:\n\u001b[1;32m-> <a href='file:///c%3A/Users/nwver/miniconda3/lib/site-packages/pandas/core/indexes/base.py?line=3362'>3363</a>\u001b[0m         \u001b[39mraise\u001b[39;00m \u001b[39mKeyError\u001b[39;00m(key) \u001b[39mfrom\u001b[39;00m \u001b[39merr\u001b[39;00m\n\u001b[0;32m   <a href='file:///c%3A/Users/nwver/miniconda3/lib/site-packages/pandas/core/indexes/base.py?line=3364'>3365</a>\u001b[0m \u001b[39mif\u001b[39;00m is_scalar(key) \u001b[39mand\u001b[39;00m isna(key) \u001b[39mand\u001b[39;00m \u001b[39mnot\u001b[39;00m \u001b[39mself\u001b[39m\u001b[39m.\u001b[39mhasnans:\n\u001b[0;32m   <a href='file:///c%3A/Users/nwver/miniconda3/lib/site-packages/pandas/core/indexes/base.py?line=3365'>3366</a>\u001b[0m     \u001b[39mraise\u001b[39;00m \u001b[39mKeyError\u001b[39;00m(key)\n",
      "\u001b[1;31mKeyError\u001b[0m: 'degree'"
     ]
    },
    {
     "data": {
      "image/png": "[encoded data removed]",
      "text/plain": [
       "<Figure size 432x288 with 1 Axes>"
      ]
     },
     "metadata": {
      "needs_background": "light"
     },
     "output_type": "display_data"
    }
   ],
   "source": [
    "results = []\n",
    "for train_index, validation_index, in cv_10fold.split(X_train, Y_train):\n",
    "    \n",
    "    X_train_CV = X_train[train_index]\n",
    "    Y_train_CV = Y_train[train_index]\n",
    "\n",
    "    X_validation_CV = X_train[validation_index]\n",
    "    Y_validation_CV = Y_train[validation_index]\n",
    "    \n",
    "    clf = clf_list[4]\n",
    "    parameters = parameters_list[4]\n",
    "    randomized_search = RandomizedSearchCV(clf, parameters, cv=cv_5fold, scoring='roc_auc', n_iter = 10)\n",
    "    randomized_search.fit(X_train_CV, Y_train_CV)\n",
    "    \n",
    "    # Get resulting classifier\n",
    "    clf = randomized_search.best_estimator_\n",
    "\n",
    "    # Test the classifier on the train data\n",
    "    probabilities = clf.predict_proba(X_train_CV)\n",
    "    scores = probabilities[:, 1]\n",
    "    \n",
    "    # Get the auc\n",
    "    auc = metrics.roc_auc_score(Y_train_CV, scores)\n",
    "    results.append({\n",
    "        'auc': auc,\n",
    "\n",
    "        'set': 'test'\n",
    "    })\n",
    "    \n",
    "    # Test the classifier on the validation data\n",
    "    probabilities_validation = clf.predict_proba(X_validation_CV)\n",
    "    scores_validation = probabilities_validation[:, 1]\n",
    "    \n",
    "    # Get the auc\n",
    "    auc_validation = metrics.roc_auc_score(Y_validation_CV, scores_validation)\n",
    "    results.append({\n",
    "        'auc': auc_validation,\n",
    "\n",
    "        'set': 'validation'\n",
    "    })\n",
    "    \n",
    "#Create results dataframe and plot it\n",
    "results = pd.DataFrame(results)\n",
    "sns.boxplot(y='auc', x='set', data=results).set_title(f'{clf_list[4]}')\n",
    "\n",
    "optimal_parameter = []\n",
    "parameter_keys = list(parameters.keys())\n",
    "\n",
    "for item in parameter_keys:\n",
    "    best_item = [] \n",
    "    for i in list(range(0,10,2)):\n",
    "        best_item.append(results[item][i])\n",
    "    \n",
    "    optimal_parameter.append(statistics.median(best_item))\n",
    "    print(f\"The optimal {item}={optimal_parameter[-1]}\")"
   ]
  }
 ],
 "metadata": {
  "interpreter": {
   "hash": "99c346a2273ffdba9d13565a7efa8a03dbcb19c3f8c63eac036f68118855a3ce"
  },
  "kernelspec": {
   "display_name": "Python 3.9.5 ('base')",
   "language": "python",
   "name": "python3"
  },
  "language_info": {
   "codemirror_mode": {
    "name": "ipython",
    "version": 3
   },
   "file_extension": ".py",
   "mimetype": "text/x-python",
   "name": "python",
   "nbconvert_exporter": "python",
   "pygments_lexer": "ipython3",
   "version": "3.9.5"
  },
  "orig_nbformat": 4
 },
 "nbformat": 4,
 "nbformat_minor": 2
}

{
 "cells": [
  {
   "cell_type": "code",
   "execution_count": 24,
   "metadata": {},
   "outputs": [],
   "source": [
    "# Run this to use from colab environment\n",
    "#!pip install -q --upgrade git+https://github.com/naomiverkerk/TM10007.git\n"
   ]
  },
  {
   "cell_type": "markdown",
   "metadata": {},
   "source": [
    "## Import data"
   ]
  },
  {
   "cell_type": "code",
   "execution_count": 25,
   "metadata": {},
   "outputs": [],
   "source": [
    "## Import\n",
    "import matplotlib.pyplot as plt\n",
    "import seaborn as sns\n",
    "import pandas as pd\n",
    "import numpy as np\n",
    "from sklearn import metrics\n",
    "from sklearn import svm\n",
    "from sklearn import decomposition\n",
    "import statistics\n",
    "\n",
    "# Preprocessing\n",
    "from load_data import load_data\n",
    "from sklearn.model_selection import train_test_split\n",
    "from sklearn.impute import KNNImputer\n",
    "from sklearn.preprocessing import RobustScaler, LabelEncoder\n",
    "\n",
    "# Classifiers and kernels\n",
    "from sklearn.model_selection import StratifiedKFold, RandomizedSearchCV\n",
    "from sklearn.neighbors import KNeighborsClassifier \n",
    "from sklearn.tree import DecisionTreeClassifier\n",
    "from sklearn.ensemble import RandomForestClassifier\n",
    "from sklearn.linear_model import LogisticRegression\n",
    "from sklearn.naive_bayes import GaussianNB\n",
    "from sklearn.neural_network import MLPClassifier\n",
    "from sklearn.svm import SVC\n",
    "\n",
    "#\n",
    "from sklearn.model_selection import GridSearchCV\n",
    "from sklearn.metrics import classification_report\n",
    "from sklearn.compose import ColumnTransformer, make_column_selector as selector\n"
   ]
  },
  {
   "cell_type": "markdown",
   "metadata": {},
   "source": [
    "## Loading Data"
   ]
  },
  {
   "cell_type": "code",
   "execution_count": 26,
   "metadata": {},
   "outputs": [],
   "source": [
    "##Loading Data\n",
    "data = load_data()\n",
    "X = data\n",
    "X = X.replace(np.inf, np.nan)\n",
    "Y = data['label']\n",
    "del X['label']"
   ]
  },
  {
   "cell_type": "markdown",
   "metadata": {},
   "source": [
    "# Duplicate check"
   ]
  },
  {
   "cell_type": "code",
   "execution_count": 27,
   "metadata": {},
   "outputs": [
    {
     "name": "stdout",
     "output_type": "stream",
     "text": [
      "Number of duplicated datasets = 0\n",
      "Number of duplicated features = 0\n"
     ]
    }
   ],
   "source": [
    "# Check for duplicates values\n",
    "data.drop_duplicates(keep='first')\n",
    "print(f'Number of duplicated datasets = {data.duplicated().sum()}')\n",
    "\n",
    "# Check for duplicates columns\n",
    "data.columns.drop_duplicates(keep='first')\n",
    "print(f'Number of duplicated features = {data.columns.duplicated().sum()}')"
   ]
  },
  {
   "cell_type": "markdown",
   "metadata": {},
   "source": [
    "# Label counter"
   ]
  },
  {
   "cell_type": "code",
   "execution_count": 28,
   "metadata": {},
   "outputs": [
    {
     "data": {
      "image/png": "[encoded data removed]",
      "text/plain": [
       "<Figure size 432x396 with 1 Axes>"
      ]
     },
     "metadata": {
      "needs_background": "light"
     },
     "output_type": "display_data"
    }
   ],
   "source": [
    "label_count = Y.value_counts()\n",
    "z = np.arange(len(label_count.index))\n",
    "width = 0.75\n",
    "fig, ax = plt.subplots(figsize = (6,5.5))\n",
    "count1 = ax.bar(0.5, label_count.values[0], width, label=label_count.index[0])\n",
    "count2 = ax.bar(1.5, label_count.values[1], width, label=label_count.index[1])\n",
    "\n",
    "ax.set_ylabel('Scores', fontsize = 15)\n",
    "ax.set_title('Number patients per label  ', fontsize = 16)\n",
    "ax.set_xticks([0.5,1.5], list(label_count.index), fontsize = 13)\n",
    "ax.legend()\n",
    "ax.bar_label(count1, padding=3)\n",
    "ax.bar_label(count2, padding=3)\n",
    "ax.grid(False)\n",
    "fig.tight_layout()\n",
    "\n",
    "plt.show()"
   ]
  },
  {
   "cell_type": "markdown",
   "metadata": {},
   "source": [
    "## Splitting into test and train(design)"
   ]
  },
  {
   "cell_type": "code",
   "execution_count": 29,
   "metadata": {},
   "outputs": [],
   "source": [
    "## Split\n",
    "X_train, X_test, Y_train, Y_test= train_test_split(X, Y, test_size = 0.2, random_state = 4, stratify = Y)"
   ]
  },
  {
   "cell_type": "code",
   "execution_count": 30,
   "metadata": {},
   "outputs": [],
   "source": [
    "import matplotlib.patches as mpatches\n",
    "def scatterplot_distribution(Y,Y1,Y2,data,X1,X2):\n",
    "\n",
    "    encoder = LabelEncoder()\n",
    "    Y = encoder.fit_transform(Y)   \n",
    "    \n",
    "    colour = sns.color_palette(\"Set2\")\n",
    "    color1=colour[0]\n",
    "    color2=colour[1]\n",
    "    colormap = np.array([color1,color2])\n",
    "\n",
    "    fig = plt.figure(figsize=(16,4))\n",
    "    ax1 = fig.add_subplot(131)\n",
    "    ax1.set_title(f\"Brats, entire dataset = {len(data)}\", fontsize=15)\n",
    "    ax1.scatter(data.iloc[:,0], data.iloc[:,1], marker='o', c=colormap[Y],\n",
    "            s=45, edgecolor='k', cmap=plt.cm.Paired)\n",
    "\n",
    "    # ax2 = fig.add_subplot(132, sharex = ax1, sharey = ax1)\n",
    "    ax2 = fig.add_subplot(132)\n",
    "    ax2.set_title(\"X1\", fontsize=15)\n",
    "    ax2.scatter(X1.iloc[:,0], X1.iloc[:,1], marker='o', c=colormap[Y1],\n",
    "            s=45, edgecolor='k', cmap=plt.cm.Paired)\n",
    "\n",
    "    # ax3 = fig.add_subplot(133, sharex = ax1, sharey = ax1)\n",
    "    ax3 = fig.add_subplot(133)\n",
    "    ax3.set_title(\"X2\", fontsize=15)\n",
    "    ax3.scatter(X2.iloc[:,0], X2.iloc[:,1], marker='o', c=colormap[Y2],\n",
    "            s=45, edgecolor='k', cmap=plt.cm.Paired)   \n",
    "\n",
    "    GBM_patch = mpatches.Patch(color=colour[0], label='GBM')\n",
    "    LGG_patch = mpatches.Patch(color=colour[1], label='LGG')\n",
    "    fig.legend(handles=[GBM_patch, LGG_patch],loc=\"center right\", prop={'size': 12})\n",
    "    fig.subplots_adjust(right=0.95)\n",
    "\n",
    "    plt.show()"
   ]
  },
  {
   "cell_type": "markdown",
   "metadata": {},
   "source": [
    "## Features removal"
   ]
  },
  {
   "cell_type": "code",
   "execution_count": 31,
   "metadata": {},
   "outputs": [
    {
     "name": "stdout",
     "output_type": "stream",
     "text": [
      "(133, 704)\n",
      "(34, 704)\n"
     ]
    }
   ],
   "source": [
    "## Features weghalen met teveel missing values\n",
    "acceptabele_ratio = 0.5\n",
    "train_size = len(X_train.index)\n",
    "removal_rate = round(train_size*acceptabele_ratio)\n",
    "\n",
    "X_train = X_train.dropna(axis=1, thresh=removal_rate)\n",
    "\n",
    "\n",
    "test_size = len(X_test.index)\n",
    "removal_rate = round(test_size*acceptabele_ratio)\n",
    "X_test = X_test.dropna(axis=1, thresh=removal_rate)\n",
    "print(X_train.shape)\n",
    "print(X_test.shape)\n"
   ]
  },
  {
   "cell_type": "markdown",
   "metadata": {},
   "source": [
    "## Imputation with KNN"
   ]
  },
  {
   "cell_type": "code",
   "execution_count": 32,
   "metadata": {},
   "outputs": [],
   "source": [
    "imputer = KNNImputer()\n",
    "imputer.fit(X_train)\n",
    "X_train = imputer.transform(X_train)\n",
    "X_test = imputer.transform(X_test)\n",
    "\n",
    "# np.isnan(X_train_imputer).sum()\n",
    "# np.isnan(X_test_imputer).sum()"
   ]
  },
  {
   "cell_type": "markdown",
   "metadata": {},
   "source": [
    "## Scaling"
   ]
  },
  {
   "cell_type": "code",
   "execution_count": 33,
   "metadata": {},
   "outputs": [],
   "source": [
    "## Scaling\n",
    "scaler = RobustScaler()\n",
    "scaler.fit(X_train)\n",
    "X_train = scaler.transform(X_train)\n",
    "X_test = scaler.transform(X_test)\n"
   ]
  },
  {
   "cell_type": "markdown",
   "metadata": {},
   "source": [
    "## Label encoder for scaling Y"
   ]
  },
  {
   "cell_type": "code",
   "execution_count": 34,
   "metadata": {},
   "outputs": [],
   "source": [
    "## scaling van y\n",
    "scaler = LabelEncoder()\n",
    "scaler.fit(Y_train)\n",
    "Y_train = scaler.transform(Y_train)\n",
    "Y_test = scaler.transform(Y_test)"
   ]
  },
  {
   "cell_type": "markdown",
   "metadata": {},
   "source": [
    "## PCA"
   ]
  },
  {
   "cell_type": "code",
   "execution_count": 35,
   "metadata": {},
   "outputs": [
    {
     "name": "stdout",
     "output_type": "stream",
     "text": [
      "[0.94938451 0.9824626  0.98936905 0.99161961]\n"
     ]
    }
   ],
   "source": [
    "## PCA\n",
    "pca = decomposition.PCA(n_components=0.99, svd_solver= 'full')\n",
    "pca.fit(X_train)\n",
    "X_train_final = pca.transform(X_train)\n",
    "X_test_final = pca.transform(X_test)\n",
    "explained_variance = np.cumsum(pca.explained_variance_ratio_)\n",
    "print(explained_variance)\n"
   ]
  },
  {
   "cell_type": "markdown",
   "metadata": {},
   "source": [
    "## Parameters"
   ]
  },
  {
   "cell_type": "code",
   "execution_count": 36,
   "metadata": {},
   "outputs": [],
   "source": [
    "cv_10fold = StratifiedKFold(n_splits=10, shuffle=True, random_state=0)\n",
    "cv_5fold = StratifiedKFold(n_splits=5, shuffle=True, random_state=0)\n",
    "\n",
    "clf_list = [KNeighborsClassifier(), DecisionTreeClassifier(), LogisticRegression(), RandomForestClassifier(), SVC(probability=True)]\n",
    "\n",
    "parameters_list = [\n",
    "        {\n",
    "                \"n_neighbors\": range(1,20,1),\n",
    "                \"weights\": [\"uniform\", \"distance\"],\n",
    "        },\n",
    "        {\n",
    "                \"criterion\": ['gini', 'entropy'],\n",
    "                \"min_samples_split\": list(range(2,40,2)),\n",
    "                \"max_features\": [1,2,3,4],\n",
    "                \"min_samples_leaf\": list(range(1,20,2)),\n",
    "        },\n",
    "        {\n",
    "                'solver': ['newton-cg', 'lbfgs', 'liblinear'],\n",
    "                'penalty' :[\"l1\", 'l2', 'elasticnet', 'none'],\n",
    "                'C': [0.001, 0.01, 0.1, 1, 10, 100, 1000],\n",
    "        },\n",
    "        {\n",
    "                \"n_estimators\" : range(20,100,5),\n",
    "                \"criterion\": ['gini', 'entropy'],\n",
    "                \"min_samples_split\": list(range(2,40,2)),\n",
    "                \"max_features\": [1,2,3,4],\n",
    "                \"min_samples_leaf\": list(range(1,20,2)),\n",
    "        },\n",
    "        {\n",
    "                'degree': [1, 3, 5],\n",
    "                'coef0': [0.01, 0.5, 1],\n",
    "                'C': [0.01, 0.5, 1],\n",
    "                'kernel': ['poly', 'rbf', 'sigmoid']\n",
    "        },\n",
    "]\n"
   ]
  },
  {
   "cell_type": "markdown",
   "metadata": {},
   "source": [
    "# KNN"
   ]
  },
  {
   "cell_type": "code",
   "execution_count": 37,
   "metadata": {},
   "outputs": [
    {
     "name": "stdout",
     "output_type": "stream",
     "text": [
      "0.7058823529411765\n",
      "1.0\n",
      "1.0\n",
      "0.7083333333333334\n",
      "1.0\n",
      "0.7416666666666667\n",
      "1.0\n",
      "0.75\n",
      "0.7166666666666667\n",
      "1.0\n",
      "The optimal n_neighbors=17\n",
      "The optimal weights=distance\n"
     ]
    },
    {
     "data": {
      "image/png": "[encoded data removed]",
      "text/plain": [
       "<Figure size 432x288 with 1 Axes>"
      ]
     },
     "metadata": {
      "needs_background": "light"
     },
     "output_type": "display_data"
    }
   ],
   "source": [
    "results = []\n",
    "for train_index, validation_index, in cv_10fold.split(X_train_final, Y_train):\n",
    "    \n",
    "    X_train_CV = X_train_final[train_index]\n",
    "    Y_train_CV = Y_train[train_index]\n",
    "\n",
    "    X_validation_CV = X_train_final[validation_index]\n",
    "    Y_validation_CV = Y_train[validation_index]\n",
    "    \n",
    "    clf = clf_list[0]\n",
    "    parameters = parameters_list[0]\n",
    "    randomized_search = RandomizedSearchCV(clf, parameters, cv=cv_5fold, scoring='roc_auc', n_iter = 10)\n",
    "    randomized_search.fit(X_train_CV, Y_train_CV)\n",
    "    \n",
    "    # Get resulting classifier\n",
    "    clf = randomized_search.best_estimator_\n",
    "\n",
    "    # Test the classifier on the train data\n",
    "    probabilities = clf.predict_proba(X_train_CV)\n",
    "    scores = probabilities[:, 1]\n",
    "    \n",
    "    # Get the auc\n",
    "    auc = metrics.roc_auc_score(Y_train_CV, scores)\n",
    "    results.append({\n",
    "        'auc': auc,\n",
    "        'n_neighbors': clf.n_neighbors,\n",
    "        \"weights\": clf.weights,\n",
    "        \"metric\": clf.metric,\n",
    "        'set': 'train'\n",
    "    })\n",
    "    \n",
    "    # Test the classifier on the validation data\n",
    "    probabilities_validation = clf.predict_proba(X_validation_CV)\n",
    "    scores_validation = probabilities_validation[:, 1]\n",
    "    print(clf.score(X_train_CV, Y_train_CV))\n",
    "    \n",
    "    # Get the auc\n",
    "    auc_validation = metrics.roc_auc_score(Y_validation_CV, scores_validation)\n",
    "    results.append({\n",
    "        'auc': auc_validation,\n",
    "        'n_neighbors': clf.n_neighbors,\n",
    "        \"weights\": clf.weights,\n",
    "        \"metric\": clf.metric,\n",
    "        'set': 'validation'\n",
    "    })\n",
    "    \n",
    "#Create results dataframe and plot it\n",
    "results = pd.DataFrame(results)\n",
    "sns.boxplot(y='auc', x='set', data=results).set_title(f'{clf_list[0]}')\n",
    "\n",
    "optimal_parameter = []\n",
    "parameter_keys = list(parameters.keys())\n",
    "\n",
    "for item in parameter_keys:\n",
    "    best_item = [] \n",
    "    for i in list(range(0,10,2)):\n",
    "        best_item.append(results[item][i])\n",
    "    \n",
    "    optimal_parameter.append(statistics.median(best_item))\n",
    "    print(f\"The optimal {item}={optimal_parameter[-1]}\")\n",
    "\n"
   ]
  },
  {
   "cell_type": "code",
   "execution_count": 40,
   "metadata": {},
   "outputs": [
    {
     "name": "stdout",
     "output_type": "stream",
     "text": [
      "0.7368421052631579\n",
      "0.6764705882352942\n"
     ]
    }
   ],
   "source": [
    "clf = clf_list[0]\n",
    "parameters = parameters_list[0]\n",
    "randomized_search = RandomizedSearchCV(clf, parameters, cv=cv_5fold, scoring='roc_auc', n_iter = 10)\n",
    "randomized_search.fit(X_train_final, Y_train)\n",
    "    \n",
    "# Get resulting classifier\n",
    "clf = randomized_search.best_estimator_\n",
    "\n",
    "# Test the classifier on the train data\n",
    "\n",
    "print(clf.score(X_train_final, Y_train))\n",
    "\n",
    "print(clf.score(X_test_final, Y_test))"
   ]
  },
  {
   "cell_type": "markdown",
   "metadata": {},
   "source": [
    "# Decision tree"
   ]
  },
  {
   "cell_type": "code",
   "execution_count": 41,
   "metadata": {},
   "outputs": [
    {
     "name": "stdout",
     "output_type": "stream",
     "text": [
      "The optimal criterion=entropy\n",
      "The optimal min_samples_split=14\n",
      "The optimal max_features=4\n",
      "The optimal min_samples_leaf=11\n"
     ]
    },
    {
     "data": {
      "image/png": "[encoded data removed]",
      "text/plain": [
       "<Figure size 432x288 with 1 Axes>"
      ]
     },
     "metadata": {
      "needs_background": "light"
     },
     "output_type": "display_data"
    }
   ],
   "source": [
    "results = []\n",
    "for train_index, validation_index, in cv_10fold.split(X_train, Y_train):\n",
    "    \n",
    "    X_train_CV = X_train[train_index]\n",
    "    Y_train_CV = Y_train[train_index]\n",
    "\n",
    "    X_validation_CV = X_train[validation_index]\n",
    "    Y_validation_CV = Y_train[validation_index]\n",
    "    \n",
    "    clf = clf_list[1]\n",
    "    parameters = parameters_list[1]\n",
    "    randomized_search = RandomizedSearchCV(clf, parameters, cv=cv_5fold, scoring='roc_auc', n_iter = 10)\n",
    "    randomized_search.fit(X_train_CV, Y_train_CV)\n",
    "    \n",
    "    # Get resulting classifier\n",
    "    clf = randomized_search.best_estimator_\n",
    "\n",
    "    # Test the classifier on the train data\n",
    "    probabilities = clf.predict_proba(X_train_CV)\n",
    "    scores = probabilities[:, 1]\n",
    "    \n",
    "    # Get the auc\n",
    "    auc = metrics.roc_auc_score(Y_train_CV, scores)\n",
    "    results.append({\n",
    "        'auc': auc_validation,\n",
    "        'criterion': clf.criterion,\n",
    "        'min_samples_split': clf.min_samples_split,\n",
    "        'max_features': clf.max_features,\n",
    "        \"min_samples_leaf\": clf.min_samples_leaf,\n",
    "        'set': 'train'\n",
    "    })\n",
    "    \n",
    "    # Test the classifier on the validation data\n",
    "    probabilities_validation = clf.predict_proba(X_validation_CV)\n",
    "    scores_validation = probabilities_validation[:, 1]\n",
    "    \n",
    "    # Get the auc\n",
    "    auc_validation = metrics.roc_auc_score(Y_validation_CV, scores_validation)\n",
    "    results.append({\n",
    "        'auc': auc_validation,\n",
    "        'criterion': clf.criterion,\n",
    "        'min_samples_split': clf.min_samples_split,\n",
    "        'max_features': clf.max_features,\n",
    "        \"min_samples_leaf\": clf.min_samples_leaf,\n",
    "        'set': 'validation'\n",
    "    })\n",
    "    \n",
    "#Create results dataframe and plot it\n",
    "results = pd.DataFrame(results)\n",
    "sns.boxplot(y='auc', x='set', data=results).set_title(f'{clf_list[1]}')\n",
    "\n",
    "optimal_parameter = []\n",
    "parameter_keys = list(parameters.keys())\n",
    "\n",
    "for item in parameter_keys:\n",
    "    best_item = [] \n",
    "    for i in list(range(0,10,2)):\n",
    "        best_item.append(results[item][i])\n",
    "    \n",
    "    optimal_parameter.append(statistics.median(best_item))\n",
    "    print(f\"The optimal {item}={optimal_parameter[-1]}\")\n",
    "  "
   ]
  },
  {
   "cell_type": "code",
   "execution_count": 43,
   "metadata": {},
   "outputs": [
    {
     "name": "stdout",
     "output_type": "stream",
     "text": [
      "0.7669172932330827\n",
      "0.7058823529411765\n"
     ]
    }
   ],
   "source": [
    "clf = clf_list[1]\n",
    "parameters = parameters_list[1]\n",
    "randomized_search = RandomizedSearchCV(clf, parameters, cv=cv_5fold, scoring='roc_auc', n_iter = 10)\n",
    "randomized_search.fit(X_train_final, Y_train)\n",
    "    \n",
    "# Get resulting classifier\n",
    "clf = randomized_search.best_estimator_\n",
    "\n",
    "# Test the classifier on the train data\n",
    "\n",
    "print(clf.score(X_train_final, Y_train))\n",
    "\n",
    "print(clf.score(X_test_final, Y_test))"
   ]
  },
  {
   "cell_type": "markdown",
   "metadata": {},
   "source": [
    "# Logistic Regression"
   ]
  },
  {
   "cell_type": "code",
   "execution_count": 44,
   "metadata": {},
   "outputs": [
    {
     "data": {
      "text/plain": [
       "Text(0.5, 1.0, 'LogisticRegression()')"
      ]
     },
     "execution_count": 44,
     "metadata": {},
     "output_type": "execute_result"
    },
    {
     "data": {
      "image/png": "[encoded data removed]",
      "text/plain": [
       "<Figure size 432x288 with 1 Axes>"
      ]
     },
     "metadata": {
      "needs_background": "light"
     },
     "output_type": "display_data"
    }
   ],
   "source": [
    "results = []\n",
    "for train_index, validation_index, in cv_10fold.split(X_train_final, Y_train):\n",
    "    \n",
    "    X_train_CV = X_train_final[train_index]\n",
    "    Y_train_CV = Y_train[train_index]\n",
    "\n",
    "    X_validation_CV = X_train_final[validation_index]\n",
    "    Y_validation_CV = Y_train[validation_index]\n",
    "    \n",
    "    clf = clf_list[2]\n",
    "    parameters = parameters_list[2]\n",
    "    randomized_search = RandomizedSearchCV(clf, parameters, cv=cv_5fold, scoring='roc_auc', n_iter = 10)\n",
    "    randomized_search.fit(X_train_CV, Y_train_CV)\n",
    "    \n",
    "    # Get resulting classifier\n",
    "    clf = randomized_search.best_estimator_\n",
    "\n",
    "    # Test the classifier on the train data\n",
    "    probabilities = clf.predict_proba(X_train_CV)\n",
    "    scores = probabilities[:, 1]\n",
    "    \n",
    "    # Get the auc\n",
    "    auc = metrics.roc_auc_score(Y_train_CV, scores)\n",
    "    results.append({\n",
    "        'auc': auc,\n",
    "        'solver' : clf.solver,\n",
    "        'penalty' : clf.penalty,\n",
    "        'C' : clf.C,\n",
    "        'set': 'test',\n",
    "    })\n",
    "    \n",
    "    # Test the classifier on the validation data\n",
    "    probabilities_validation = clf.predict_proba(X_validation_CV)\n",
    "    scores_validation = probabilities_validation[:, 1]\n",
    "    \n",
    "    # Get the auc\n",
    "    auc_validation = metrics.roc_auc_score(Y_validation_CV, scores_validation)\n",
    "    results.append({\n",
    "        'auc': auc_validation,\n",
    "        'solver' : clf.solver,\n",
    "        'C' : clf.C,\n",
    "        'penalty' : clf.penalty,\n",
    "        'set': 'validation'\n",
    "    })\n",
    "    \n",
    "#Create results dataframe and plot it\n",
    "results = pd.DataFrame(results)\n",
    "sns.boxplot(y='auc', x='set', data=results).set_title(f'{clf_list[2]}')\n",
    "\n",
    "# optimal_parameter = []\n",
    "# parameter_keys = list(parameters.keys())\n",
    "\n",
    "# for item in parameter_keys:\n",
    "#     best_item = [] \n",
    "#     for i in list(range(0,10,2)):\n",
    "#         best_item.append(results[item][i])\n",
    "    \n",
    "#     optimal_parameter.append(statistics.median(best_item))\n",
    "#     print(f\"The optimal {item}={optimal_parameter[-1]}\")"
   ]
  },
  {
   "cell_type": "code",
   "execution_count": 45,
   "metadata": {},
   "outputs": [
    {
     "name": "stdout",
     "output_type": "stream",
     "text": [
      "0.849624060150376\n",
      "0.7058823529411765\n"
     ]
    }
   ],
   "source": [
    "import warnings\n",
    "warnings.filterwarnings(\"ignore\")\n",
    "clf = clf_list[2]\n",
    "parameters = parameters_list[2]\n",
    "randomized_search = RandomizedSearchCV(clf, parameters, cv=cv_5fold, scoring='roc_auc', n_iter = 10)\n",
    "randomized_search.fit(X_train_final, Y_train)\n",
    "    \n",
    "# Get resulting classifier\n",
    "clf = randomized_search.best_estimator_\n",
    "\n",
    "# Test the classifier on the train data\n",
    "\n",
    "print(clf.score(X_train_final, Y_train))\n",
    "\n",
    "print(clf.score(X_test_final, Y_test))"
   ]
  },
  {
   "cell_type": "markdown",
   "metadata": {},
   "source": [
    "# Random Forest"
   ]
  },
  {
   "cell_type": "code",
   "execution_count": 46,
   "metadata": {},
   "outputs": [
    {
     "name": "stdout",
     "output_type": "stream",
     "text": [
      "The optimal n_estimators=80\n",
      "The optimal criterion=gini\n",
      "The optimal min_samples_split=18\n",
      "The optimal max_features=4\n",
      "The optimal min_samples_leaf=11\n"
     ]
    },
    {
     "data": {
      "image/png": "[encoded data removed]",
      "text/plain": [
       "<Figure size 432x288 with 1 Axes>"
      ]
     },
     "metadata": {
      "needs_background": "light"
     },
     "output_type": "display_data"
    }
   ],
   "source": [
    "results = []\n",
    "for train_index, validation_index, in cv_10fold.split(X_train_final, Y_train):\n",
    "    \n",
    "    X_train_CV = X_train_final[train_index]\n",
    "    Y_train_CV = Y_train[train_index]\n",
    "\n",
    "    X_validation_CV = X_train_final[validation_index]\n",
    "    Y_validation_CV = Y_train[validation_index]\n",
    "    \n",
    "    clf = clf_list[3]\n",
    "    parameters = parameters_list[3]\n",
    "    randomized_search = RandomizedSearchCV(clf, parameters, cv=cv_5fold, scoring='roc_auc', n_iter = 10)\n",
    "    randomized_search.fit(X_train_CV, Y_train_CV)\n",
    "    \n",
    "    # Get resulting classifier\n",
    "    clf = randomized_search.best_estimator_\n",
    "\n",
    "    # Test the classifier on the train data\n",
    "    probabilities = clf.predict_proba(X_train_CV)\n",
    "    scores = probabilities[:, 1]\n",
    "    \n",
    "    # Get the auc\n",
    "    auc = metrics.roc_auc_score(Y_train_CV, scores)\n",
    "    results.append({\n",
    "        'auc': auc,\n",
    "        \"criterion\": clf.criterion,\n",
    "        \"min_samples_split\": clf.min_samples_split,\n",
    "        \"max_features\": clf.max_features,\n",
    "        \"min_samples_leaf\": clf.min_samples_leaf,\n",
    "        \"n_estimators\" : clf.n_estimators,\n",
    "        'set': 'test'\n",
    "    })\n",
    "    \n",
    "    # Test the classifier on the validation data\n",
    "    probabilities_validation = clf.predict_proba(X_validation_CV)\n",
    "    scores_validation = probabilities_validation[:, 1]\n",
    "    \n",
    "    # Get the auc\n",
    "    auc_validation = metrics.roc_auc_score(Y_validation_CV, scores_validation)\n",
    "    results.append({\n",
    "        'auc': auc_validation,\n",
    "        \"criterion\": clf.criterion,\n",
    "        \"min_samples_split\": clf.min_samples_split,\n",
    "        \"max_features\": clf.max_features,\n",
    "        \"min_samples_leaf\": clf.min_samples_leaf,\n",
    "        \"n_estimators\" : clf.n_estimators,\n",
    "        'set': 'validation'\n",
    "\n",
    "    })\n",
    "\n",
    "    \n",
    "    \n",
    "#Create results dataframe and plot it\n",
    "results = pd.DataFrame(results)\n",
    "sns.boxplot(y='auc', x='set', data=results).set_title(f'{clf_list[3]}')\n",
    "\n",
    "optimal_parameter = []\n",
    "parameter_keys = list(parameters.keys())\n",
    "\n",
    "for item in parameter_keys:\n",
    "    best_item = [] \n",
    "    for i in list(range(0,10,2)):\n",
    "        best_item.append(results[item][i])\n",
    "    \n",
    "    optimal_parameter.append(statistics.median(best_item))\n",
    "    print(f\"The optimal {item}={optimal_parameter[-1]}\")"
   ]
  },
  {
   "cell_type": "code",
   "execution_count": 47,
   "metadata": {},
   "outputs": [
    {
     "name": "stdout",
     "output_type": "stream",
     "text": [
      "0.8947368421052632\n",
      "0.7647058823529411\n"
     ]
    }
   ],
   "source": [
    "clf = clf_list[3]\n",
    "parameters = parameters_list[3]\n",
    "randomized_search = RandomizedSearchCV(clf, parameters, cv=cv_5fold, scoring='roc_auc', n_iter = 10)\n",
    "randomized_search.fit(X_train_final, Y_train)\n",
    "    \n",
    "# Get resulting classifier\n",
    "clf = randomized_search.best_estimator_\n",
    "\n",
    "# Test the classifier on the train data\n",
    "\n",
    "print(clf.score(X_train_final, Y_train))\n",
    "\n",
    "print(clf.score(X_test_final, Y_test))"
   ]
  },
  {
   "cell_type": "markdown",
   "metadata": {},
   "source": [
    "# SVM"
   ]
  },
  {
   "cell_type": "code",
   "execution_count": 51,
   "metadata": {},
   "outputs": [],
   "source": [
    "results = []\n",
    "for train_index, validation_index, in cv_10fold.split(X_train_final, Y_train):\n",
    "    \n",
    "    X_train_CV = X_train_final[train_index]\n",
    "    Y_train_CV = Y_train[train_index]\n",
    "\n",
    "    X_validation_CV = X_train_final[validation_index]\n",
    "    Y_validation_CV = Y_train[validation_index]\n",
    "    \n",
    "    clf = clf_list[4]\n",
    "    parameters = parameters_list[4]\n",
    "    randomized_search = RandomizedSearchCV(clf, parameters, cv=cv_5fold, scoring='roc_auc', n_iter = 10)\n",
    "    randomized_search.fit(X_train_CV, Y_train_CV)\n",
    "    \n",
    "    # Get resulting classifier\n",
    "    clf = randomized_search.best_estimator_\n",
    "\n",
    "    # Test the classifier on the train data\n",
    "    probabilities = clf.predict_proba(X_train_CV)\n",
    "    scores = probabilities[:, 1]\n",
    "    \n",
    "    # Get the auc\n",
    "    auc = metrics.roc_auc_score(Y_train_CV, scores)\n",
    "    results.append({\n",
    "        'auc': auc,\n",
    "        'degree': clf.degree,\n",
    "        'coef0': clf.coef0,\n",
    "        'C': clf.C,\n",
    "        'kernel': clf.kernel,\n",
    "        'set': 'test'\n",
    "    })\n",
    "    \n",
    "    # Test the classifier on the validation data\n",
    "    probabilities_validation = clf.predict_proba(X_validation_CV)\n",
    "    scores_validation = probabilities_validation[:, 1]\n",
    "    \n",
    "    # Get the auc\n",
    "    auc_validation = metrics.roc_auc_score(Y_validation_CV, scores_validation)\n",
    "    results.append({\n",
    "        'auc': auc_validation,\n",
    "        'degree': clf.degree,\n",
    "        'coef0': clf.coef0,\n",
    "        'C': clf.C,\n",
    "        'kernel': clf.kernel,\n",
    "        'set': 'validation'\n",
    "    })\n",
    "    \n",
    "#     # Results of the testset\n",
    "#     results_test =[]\n",
    "\n",
    "#     # Test the classifier on the train data\n",
    "#     probabilities_test = clf.predict_proba(X_test_final)\n",
    "#     scores_test = probabilities_test[:, 1]\n",
    "\n",
    "#     auc_test = metrics.roc_auc_score(Y_test, scores_test)\n",
    "#     accuracy_test = metrics.accuracy_score(Y_test, scores_test)\n",
    "#     results_test.append({\n",
    "#         'auc': auc_test,\n",
    "#         'degree': clf.degree,\n",
    "#         'coef0': clf.coef0,\n",
    "#         'C': clf.C,\n",
    "#         'kernel': clf.kernel,\n",
    "#         'accuracy': accuracy_test,\n",
    "#         'set': 'test'\n",
    "#     })\n",
    "\n",
    "# results_test = pd.DataFrame(results_test)\n",
    "# sns.boxplot(y='auc', x='set', data=results).set_title(f'{clf_list[3]}')\n",
    "# print(results_test)\n",
    "# #Create results dataframe and plot it\n",
    "# results = pd.DataFrame(results)\n",
    "# sns.boxplot(y='auc', x='set', data=results).set_title(f'{clf_list[4]}')\n",
    "\n",
    "\n"
   ]
  },
  {
   "cell_type": "code",
   "execution_count": 52,
   "metadata": {},
   "outputs": [
    {
     "name": "stdout",
     "output_type": "stream",
     "text": [
      "0.6090225563909775\n",
      "0.6176470588235294\n"
     ]
    }
   ],
   "source": [
    "clf = clf_list[4]\n",
    "parameters = parameters_list[4]\n",
    "randomized_search = RandomizedSearchCV(clf, parameters, cv=cv_5fold, scoring='roc_auc', n_iter = 10)\n",
    "randomized_search.fit(X_train_final, Y_train)\n",
    "    \n",
    "# Get resulting classifier\n",
    "clf = randomized_search.best_estimator_\n",
    "\n",
    "# Test the classifier on the train data\n",
    "\n",
    "print(clf.score(X_train_final, Y_train))\n",
    "\n",
    "print(clf.score(X_test_final, Y_test))"
   ]
  }
 ],
 "metadata": {
  "interpreter": {
   "hash": "99c346a2273ffdba9d13565a7efa8a03dbcb19c3f8c63eac036f68118855a3ce"
  },
  "kernelspec": {
   "display_name": "Python 3.9.5 ('base')",
   "language": "python",
   "name": "python3"
  },
  "language_info": {
   "codemirror_mode": {
    "name": "ipython",
    "version": 3
   },
   "file_extension": ".py",
   "mimetype": "text/x-python",
   "name": "python",
   "nbconvert_exporter": "python",
   "pygments_lexer": "ipython3",
   "version": "3.9.5"
  },
  "orig_nbformat": 4
 },
 "nbformat": 4,
 "nbformat_minor": 2
}

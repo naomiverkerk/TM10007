{
 "cells": [
  {
   "cell_type": "code",
   "execution_count": 1,
   "metadata": {},
   "outputs": [],
   "source": [
    "# Run this to use from colab environment\n",
    "#!pip install -q --upgrade git+https://github.com/naomiverkerk/TM10007.git\n"
   ]
  },
  {
   "cell_type": "code",
   "execution_count": 2,
   "metadata": {},
   "outputs": [],
   "source": [
    "## Import\n",
    "import matplotlib.pyplot as plt\n",
    "import seaborn as sns\n",
    "import pandas as pd\n",
    "import numpy as np\n",
    "from sklearn import metrics\n",
    "from sklearn import svm\n",
    "from sklearn import decomposition\n",
    "import statistics\n",
    "\n",
    "# Preprocessing\n",
    "from load_data import load_data\n",
    "from sklearn.model_selection import train_test_split\n",
    "from sklearn.impute import KNNImputer\n",
    "from sklearn.preprocessing import RobustScaler, LabelEncoder\n",
    "\n",
    "# Classifiers and kernels\n",
    "from sklearn.model_selection import StratifiedKFold, RandomizedSearchCV\n",
    "from sklearn.neighbors import KNeighborsClassifier \n",
    "from sklearn.tree import DecisionTreeClassifier\n",
    "from sklearn.ensemble import RandomForestClassifier\n",
    "from sklearn.linear_model import LogisticRegression\n",
    "from sklearn.naive_bayes import GaussianNB\n",
    "from sklearn.neural_network import MLPClassifier\n",
    "from sklearn.svm import SVC\n",
    "\n",
    "#\n",
    "from sklearn.model_selection import GridSearchCV\n",
    "from sklearn.metrics import classification_report\n",
    "from sklearn.compose import ColumnTransformer, make_column_selector as selector\n"
   ]
  },
  {
   "cell_type": "code",
   "execution_count": 3,
   "metadata": {},
   "outputs": [],
   "source": [
    "# ## Import\n",
    "# from sklearn import model_selection\n",
    "# from sklearn import metrics\n",
    "# from sklearn import feature_selection \n",
    "# from sklearn import preprocessing\n",
    "# from sklearn import neighbors\n",
    "# from sklearn import svm\n",
    "# from sklearn import decomposition\n",
    "\n",
    "\n",
    "# from load_data import load_data\n",
    "# import pandas as pd\n",
    "# import numpy as np\n",
    "# from sklearn.model_selection import train_test_split\n",
    "\n",
    "# # Classifiers and kernels\n",
    "# from sklearn.svm import SVC\n",
    "# from sklearn.model_selection import GridSearchCV\n",
    "# from sklearn.metrics import classification_report\n",
    "\n"
   ]
  },
  {
   "cell_type": "code",
   "execution_count": 4,
   "metadata": {},
   "outputs": [],
   "source": [
    "##Loading Data\n",
    "data = load_data() \n",
    "X = data\n",
    "X = X.replace(np.inf, np.nan)\n",
    "Y = data['label']\n",
    "del X['label']"
   ]
  },
  {
   "cell_type": "markdown",
   "metadata": {},
   "source": [
    "# Duplicate check"
   ]
  },
  {
   "cell_type": "code",
   "execution_count": 5,
   "metadata": {},
   "outputs": [
    {
     "name": "stdout",
     "output_type": "stream",
     "text": [
      "Number of duplicated datasets = 0\n",
      "Number of duplicated features = 0\n"
     ]
    }
   ],
   "source": [
    "# Check for duplicates values\n",
    "data.drop_duplicates(keep='first')\n",
    "print(f'Number of duplicated datasets = {data.duplicated().sum()}')\n",
    "\n",
    "# Check for duplicates columns\n",
    "data.columns.drop_duplicates(keep='first')\n",
    "print(f'Number of duplicated features = {data.columns.duplicated().sum()}')"
   ]
  },
  {
   "cell_type": "markdown",
   "metadata": {},
   "source": [
    "# Label counter"
   ]
  },
  {
   "cell_type": "code",
   "execution_count": 6,
   "metadata": {},
   "outputs": [
    {
     "data": {
      "image/png": "[encoded data removed]",
      "text/plain": [
       "<Figure size 432x396 with 1 Axes>"
      ]
     },
     "metadata": {
      "needs_background": "light"
     },
     "output_type": "display_data"
    }
   ],
   "source": [
    "label_count = Y.value_counts()\n",
    "z = np.arange(len(label_count.index))\n",
    "width = 0.75\n",
    "fig, ax = plt.subplots(figsize = (6,5.5))\n",
    "count1 = ax.bar(0.5, label_count.values[0], width, label=label_count.index[0])\n",
    "count2 = ax.bar(1.5, label_count.values[1], width, label=label_count.index[1])\n",
    "\n",
    "ax.set_ylabel('Scores', fontsize = 15)\n",
    "ax.set_title('Number patients per label  ', fontsize = 16)\n",
    "ax.set_xticks([0.5,1.5], list(label_count.index), fontsize = 13)\n",
    "ax.legend()\n",
    "ax.bar_label(count1, padding=3)\n",
    "ax.bar_label(count2, padding=3)\n",
    "ax.grid(False)\n",
    "fig.tight_layout()\n",
    "\n",
    "plt.show()"
   ]
  },
  {
   "cell_type": "code",
   "execution_count": 7,
   "metadata": {},
   "outputs": [],
   "source": [
    "## Split\n",
    "X_train, X_test, Y_train, Y_test= train_test_split(X, Y, test_size = 0.2, random_state = 4, stratify = Y)"
   ]
  },
  {
   "cell_type": "code",
   "execution_count": 8,
   "metadata": {},
   "outputs": [],
   "source": [
    "## Nog ff naar kijken of het werkt\n",
    "# from fitter import Fitter, get_common_distributions, get_distributions\n",
    "# fi = []\n",
    "\n",
    "# col = X.columns\n",
    "# for i in (range(0,X.shape[1],1)):\n",
    "#     try:\n",
    "#         X_tr = X[col[i]].values\n",
    "#         f = Fitter(X_tr,\n",
    "#             distributions=['gamma',\n",
    "#                             'lognorm',\n",
    "#                             \"beta\",\n",
    "#                             \"burr\",\n",
    "#                             \"norm\"])\n",
    "#         f.fit()\n",
    "#         fi.append(list(pd.DataFrame(f.get_best(method = 'sumsquare_error')).columns))\n",
    "#     except Exception:\n",
    "#         pass\n",
    "\n",
    "# flat_list = [item for sublist in fi for item in sublist]\n",
    "# from collections import Counter\n",
    "# Counter(flat_list).most_common()       \n",
    "# from sklearn import preprocessing\n",
    "# import seaborn as sns\n",
    "# import matplotlib.patches as mpatches\n",
    "# import matplotlib.pyplot as plt\n",
    "\n",
    "# le = preprocessing.LabelEncoder()\n",
    "\n",
    "# y_10 = le.fit_transform(Y)\n",
    "# Y_train_10 = le.fit_transform(Y_train)\n",
    "# Y_test_10 = le.fit_transform(Y_test)\n",
    "# # classes = data.label\n",
    "# # classes = list(classes.unique())\n",
    "# colour = sns.color_palette(\"Set2\")\n",
    "# color1=colour[0]\n",
    "# color2=colour[1]\n",
    "\n",
    "# colormap = np.array([color1,color2])\n",
    "\n",
    "# fig = plt.figure(figsize=(24,8))\n",
    "# ax = fig.add_subplot(131)\n",
    "# ax.set_title(f\"Brats, entire dataset = {len(data)}\", fontsize=15)\n",
    "# ax.scatter(data.iloc[:,0], data.iloc[:,1], marker='o', c=colormap[y_10],\n",
    "#            s=45, edgecolor='k', cmap=plt.cm.Paired)\n",
    "\n",
    "# ax = fig.add_subplot(132)\n",
    "# ax.set_title(f\"Training data = {len(X_train)}\", fontsize=15)\n",
    "# ax.scatter(X_train.iloc[:,0], X_train.iloc[:,1], marker='o', c=colormap[Y_train_10],\n",
    "#            s=45, edgecolor='k', cmap=plt.cm.Paired)\n",
    "\n",
    "# ax = fig.add_subplot(133)\n",
    "# ax.set_title(f\"Test data= {len(X_test)}\", fontsize=15)\n",
    "# ax.scatter(X_test.iloc[:,0], X_test.iloc[:,1], marker='o', c=colormap[Y_test_10],\n",
    "#            s=45, edgecolor='k', cmap=plt.cm.Paired)   \n",
    "\n",
    "# GBM_patch = mpatches.Patch(color=colour[0], label='GBM')\n",
    "# LGG_patch = mpatches.Patch(color=colour[1], label='LGG')\n",
    "# fig.legend(handles=[GBM_patch, LGG_patch],loc=\"center right\", prop={'size': 12})\n",
    "# fig.subplots_adjust(right=0.95)\n",
    "\n",
    "# plt.show()          "
   ]
  },
  {
   "cell_type": "code",
   "execution_count": 9,
   "metadata": {},
   "outputs": [],
   "source": [
    "## Features weghalen met teveel missing values\n",
    "acceptabele_ratio = 0.5\n",
    "train_size = len(X_train.index)\n",
    "removal_rate = round(train_size*acceptabele_ratio)\n",
    "\n",
    "X_train = X_train.dropna(axis=1, thresh=removal_rate)\n",
    "common_cols = list(set(X_train.columns).intersection(X_test.columns))\n",
    "X_test = X_test[common_cols]"
   ]
  },
  {
   "cell_type": "code",
   "execution_count": 10,
   "metadata": {},
   "outputs": [
    {
     "name": "stderr",
     "output_type": "stream",
     "text": [
      "C:\\Users\\Sara\\miniconda3\\lib\\site-packages\\sklearn\\base.py:493: FutureWarning: The feature names should match those that were passed during fit. Starting version 1.2, an error will be raised.\n",
      "Feature names must be in the same order as they were in fit.\n",
      "\n",
      "  warnings.warn(message, FutureWarning)\n"
     ]
    }
   ],
   "source": [
    "imputer = KNNImputer()\n",
    "imputer.fit(X_train)\n",
    "X_train = imputer.transform(X_train)\n",
    "X_test = imputer.transform(X_test)\n",
    "\n",
    "# np.isnan(X_train_imputer).sum()\n",
    "# np.isnan(X_test_imputer).sum()"
   ]
  },
  {
   "cell_type": "code",
   "execution_count": 11,
   "metadata": {},
   "outputs": [],
   "source": [
    "# ## Imputation met median\n",
    "# X_train_missing_median = X_train.fillna(X_train.median())\n",
    "# X_train_missing_median = np.nan_to_num(X_train_missing_median)\n",
    "# X_test_missing_median = X_test.fillna(X_test.median())\n",
    "# X_test_missing_median = np.nan_to_num(X_test_missing_median)"
   ]
  },
  {
   "cell_type": "code",
   "execution_count": 12,
   "metadata": {},
   "outputs": [],
   "source": [
    "## Scaling\n",
    "scaler = RobustScaler()\n",
    "scaler.fit(X_train)\n",
    "X_train = scaler.transform(X_train)\n",
    "X_test = scaler.transform(X_test)\n",
    "\n",
    "# X_train_scaled = scaler.transform(X_train_missing_median)\n",
    "# X_train_scaled = np.nan_to_num(X_train_scaled)\n",
    "# X_test_scaled = scaler.transform(X_test_missing_median)\n",
    "# X_test_scaled = np.nan_to_num(X_test_scaled)"
   ]
  },
  {
   "cell_type": "code",
   "execution_count": 13,
   "metadata": {},
   "outputs": [],
   "source": [
    "## scaling van y\n",
    "scaler = LabelEncoder()\n",
    "scaler.fit(Y_train)\n",
    "Y_train = scaler.transform(Y_train)\n",
    "Y_test = scaler.transform(Y_test)"
   ]
  },
  {
   "cell_type": "code",
   "execution_count": 14,
   "metadata": {},
   "outputs": [],
   "source": [
    "## PCA\n",
    "pca = decomposition.PCA(n_components=0.99, svd_solver= 'full')\n",
    "pca.fit(X_train)\n",
    "X_train_final = pca.transform(X_train)\n",
    "X_test_final = pca.transform(X_test)\n",
    "# explained_variance = np.cumsum(pca.explained_variance_ratio_)\n"
   ]
  },
  {
   "cell_type": "code",
   "execution_count": 15,
   "metadata": {},
   "outputs": [
    {
     "name": "stdout",
     "output_type": "stream",
     "text": [
      "nan in x train final 0, nan in x train final0\n"
     ]
    }
   ],
   "source": [
    "print(f'nan in x train final {np.isnan(X_train_final).sum()}, nan in x train final{np.isnan(X_test_final).sum()}')"
   ]
  },
  {
   "cell_type": "code",
   "execution_count": 16,
   "metadata": {},
   "outputs": [],
   "source": [
    "cv_10fold = StratifiedKFold(n_splits=10, shuffle=True, random_state=0)\n",
    "cv_5fold = StratifiedKFold(n_splits=5, shuffle=True, random_state=0)\n",
    "\n",
    "clf_list = [KNeighborsClassifier(), DecisionTreeClassifier(), LogisticRegression(), GaussianNB(), RandomForestClassifier(), SVC(), MLPClassifier()]\n",
    "\n",
    "parameters_list = [\n",
    "    {\n",
    "                \"n_neighbors\": list(range(1, 10, 2)),\n",
    "                \"weights\": [\"uniform\", \"distance\"],\n",
    "                \"metric\": [\"euclidean\", \"manhattan\", \"chebyshev\", \"minkowski\"]\n",
    "    },\n",
    "    {\n",
    "                \"criterion\": ['gini', 'entropy'],\n",
    "                \"min_samples_split\": list(range(2,40,2)),\n",
    "                \"max_features\": [1,2,3,4],\n",
    "                \"min_samples_leaf\": list(range(1,20,2)),\n",
    "    },\n",
    "    {\n",
    "                \"solver\": ['newton-cg', 'lbfgs', 'liblinear'],\n",
    "                \"C\": [100, 10, 1.0, 0.1, 0.01],\n",
    "    },\n",
    "    {\n",
    "                \"var_smoothing\": list(np.logspace(0,-9, num=101))\n",
    "    },\n",
    "    {\n",
    "                \"criterion\": ['gini', 'entropy'],\n",
    "                \"min_samples_split\": list(range(2,40,2)),\n",
    "                \"max_features\": [1,2,3,4,5],\n",
    "                \"min_samples_leaf\": list(range(1,20,2)),\n",
    "\n",
    "    },\n",
    "    {\n",
    "        \n",
    "    },\n",
    "    {\n",
    "                'hidden_layer_sizes': [(50,50,50), (50,100,50), (100,)],\n",
    "                # 'activation': ['tanh', 'relu'],\n",
    "                # 'solver': ['sgd', 'adam'],\n",
    "                # 'alpha': [0.0001, 0.05],\n",
    "                # 'learning_rate': ['constant','adaptive'],\n",
    "    },\n",
    "\n",
    "]   \n",
    "\n",
    "    \n"
   ]
  },
  {
   "cell_type": "markdown",
   "metadata": {},
   "source": [
    "# KNN"
   ]
  },
  {
   "cell_type": "code",
   "execution_count": 17,
   "metadata": {},
   "outputs": [
    {
     "name": "stdout",
     "output_type": "stream",
     "text": [
      "The optimal n_neighbors=5\n",
      "The optimal weights=distance\n",
      "The optimal metric=manhattan\n"
     ]
    },
    {
     "data": {
      "image/png": "[encoded data removed]",
      "text/plain": [
       "<Figure size 432x288 with 1 Axes>"
      ]
     },
     "metadata": {
      "needs_background": "light"
     },
     "output_type": "display_data"
    }
   ],
   "source": [
    "results = []\n",
    "for train_index, validation_index, in cv_10fold.split(X_train, Y_train):\n",
    "    \n",
    "    X_train_CV = X_train[train_index]\n",
    "    Y_train_CV = Y_train[train_index]\n",
    "\n",
    "    X_validation_CV = X_train[validation_index]\n",
    "    Y_validation_CV = Y_train[validation_index]\n",
    "    \n",
    "    clf = clf_list[0]\n",
    "    parameters = parameters_list[0]\n",
    "    randomized_search = RandomizedSearchCV(clf, parameters, cv=cv_5fold, scoring='roc_auc', n_iter = 10)\n",
    "    randomized_search.fit(X_train_CV, Y_train_CV)\n",
    "    \n",
    "    # Get resulting classifier\n",
    "    clf = randomized_search.best_estimator_\n",
    "\n",
    "    # Test the classifier on the train data\n",
    "    probabilities = clf.predict_proba(X_train_CV)\n",
    "    scores = probabilities[:, 1]\n",
    "    \n",
    "    # Get the auc\n",
    "    auc = metrics.roc_auc_score(Y_train_CV, scores)\n",
    "    results.append({\n",
    "        'auc': auc,\n",
    "        'n_neighbors': clf.n_neighbors,\n",
    "        \"weights\": clf.weights,\n",
    "        \"metric\": clf.metric,\n",
    "        'set': 'test'\n",
    "    })\n",
    "    \n",
    "    # Test the classifier on the validation data\n",
    "    probabilities_validation = clf.predict_proba(X_validation_CV)\n",
    "    scores_validation = probabilities_validation[:, 1]\n",
    "    \n",
    "    # Get the auc\n",
    "    auc_validation = metrics.roc_auc_score(Y_validation_CV, scores_validation)\n",
    "    results.append({\n",
    "        'auc': auc_validation,\n",
    "        'n_neighbors': clf.n_neighbors,\n",
    "        \"weights\": clf.weights,\n",
    "        \"metric\": clf.metric,\n",
    "        'set': 'validation'\n",
    "    })\n",
    "    \n",
    "#Create results dataframe and plot it\n",
    "results = pd.DataFrame(results)\n",
    "sns.boxplot(y='auc', x='set', data=results).set_title(f'{clf_list[0]}')\n",
    "\n",
    "optimal_parameter = []\n",
    "parameter_keys = list(parameters.keys())\n",
    "\n",
    "for item in parameter_keys:\n",
    "    best_item = [] \n",
    "    for i in list(range(0,10,2)):\n",
    "        best_item.append(results[item][i])\n",
    "    \n",
    "    optimal_parameter.append(statistics.median(best_item))\n",
    "    print(f\"The optimal {item}={optimal_parameter[-1]}\")\n",
    "\n",
    "# print(X_validation_CV.shape, X_train_CV.shape )"
   ]
  },
  {
   "cell_type": "markdown",
   "metadata": {},
   "source": [
    "# Dtree"
   ]
  },
  {
   "cell_type": "code",
   "execution_count": 18,
   "metadata": {},
   "outputs": [
    {
     "name": "stdout",
     "output_type": "stream",
     "text": [
      "The optimal criterion=gini\n",
      "The optimal min_samples_split=22\n",
      "The optimal max_features=4\n",
      "The optimal min_samples_leaf=11\n"
     ]
    },
    {
     "data": {
      "image/png": "[encoded data removed]",
      "text/plain": [
       "<Figure size 432x288 with 1 Axes>"
      ]
     },
     "metadata": {
      "needs_background": "light"
     },
     "output_type": "display_data"
    }
   ],
   "source": [
    "results = []\n",
    "for train_index, validation_index, in cv_10fold.split(X_train, Y_train):\n",
    "    \n",
    "    X_train_CV = X_train[train_index]\n",
    "    Y_train_CV = Y_train[train_index]\n",
    "\n",
    "    X_validation_CV = X_train[validation_index]\n",
    "    Y_validation_CV = Y_train[validation_index]\n",
    "    \n",
    "    clf = clf_list[1]\n",
    "    parameters = parameters_list[1]\n",
    "    randomized_search = RandomizedSearchCV(clf, parameters, cv=cv_5fold, scoring='roc_auc', n_iter = 10)\n",
    "    randomized_search.fit(X_train_CV, Y_train_CV)\n",
    "    \n",
    "    # Get resulting classifier\n",
    "    clf = randomized_search.best_estimator_\n",
    "\n",
    "    # Test the classifier on the train data\n",
    "    probabilities = clf.predict_proba(X_train_CV)\n",
    "    scores = probabilities[:, 1]\n",
    "    \n",
    "    # Get the auc\n",
    "    auc = metrics.roc_auc_score(Y_train_CV, scores)\n",
    "    results.append({\n",
    "        'auc': auc_validation,\n",
    "        'criterion': clf.criterion,\n",
    "        'min_samples_split': clf.min_samples_split,\n",
    "        'max_features': clf.max_features,\n",
    "        \"min_samples_leaf\": clf.min_samples_leaf,\n",
    "        'set': 'train'\n",
    "    })\n",
    "    \n",
    "    # Test the classifier on the validation data\n",
    "    probabilities_validation = clf.predict_proba(X_validation_CV)\n",
    "    scores_validation = probabilities_validation[:, 1]\n",
    "    \n",
    "    # Get the auc\n",
    "    auc_validation = metrics.roc_auc_score(Y_validation_CV, scores_validation)\n",
    "    results.append({\n",
    "        'auc': auc_validation,\n",
    "        'criterion': clf.criterion,\n",
    "        'min_samples_split': clf.min_samples_split,\n",
    "        'max_features': clf.max_features,\n",
    "        \"min_samples_leaf\": clf.min_samples_leaf,\n",
    "        'set': 'validation'\n",
    "    })\n",
    "    \n",
    "#Create results dataframe and plot it\n",
    "results = pd.DataFrame(results)\n",
    "sns.boxplot(y='auc', x='set', data=results).set_title(f'{clf_list[0]}')\n",
    "\n",
    "optimal_parameter = []\n",
    "parameter_keys = list(parameters.keys())\n",
    "\n",
    "for item in parameter_keys:\n",
    "    best_item = [] \n",
    "    for i in list(range(0,10,2)):\n",
    "        best_item.append(results[item][i])\n",
    "    \n",
    "    optimal_parameter.append(statistics.median(best_item))\n",
    "    print(f\"The optimal {item}={optimal_parameter[-1]}\")\n",
    "\n",
    "# results    "
   ]
  },
  {
   "cell_type": "markdown",
   "metadata": {},
   "source": [
    "# LG"
   ]
  },
  {
   "cell_type": "code",
   "execution_count": 19,
   "metadata": {},
   "outputs": [],
   "source": [
    "# results = []\n",
    "# for train_index, validation_index, in cv_10fold.split(X_train, Y_train):\n",
    "    \n",
    "#     X_train_CV = X_train[train_index]\n",
    "#     Y_train_CV = Y_train[train_index]\n",
    "\n",
    "#     X_validation_CV = X_train[validation_index]\n",
    "#     Y_validation_CV = Y_train[validation_index]\n",
    "    \n",
    "#     clf = clf_list[2]\n",
    "#     parameters = parameters_list[2]\n",
    "#     randomized_search = RandomizedSearchCV(clf, parameters, cv=cv_5fold, scoring='roc_auc', n_iter = 10)\n",
    "#     randomized_search.fit(X_train_CV, Y_train_CV)\n",
    "    \n",
    "#     # Get resulting classifier\n",
    "#     clf = randomized_search.best_estimator_\n",
    "\n",
    "#     # Test the classifier on the train data\n",
    "#     probabilities = clf.predict_proba(X_train_CV)\n",
    "#     scores = probabilities[:, 1]\n",
    "    \n",
    "#     # Get the auc\n",
    "#     auc = metrics.roc_auc_score(Y_train_CV, scores)\n",
    "#     results.append({\n",
    "#         'auc': auc,\n",
    "#         'solver' : clf.solver,\n",
    "#         'C' : clf.C,\n",
    "#         'set': 'test',\n",
    "#     })\n",
    "    \n",
    "#     # Test the classifier on the validation data\n",
    "#     probabilities_validation = clf.predict_proba(X_validation_CV)\n",
    "#     scores_validation = probabilities_validation[:, 1]\n",
    "    \n",
    "#     # Get the auc\n",
    "#     auc_validation = metrics.roc_auc_score(Y_validation_CV, scores_validation)\n",
    "#     results.append({\n",
    "#         'auc': auc_validation,\n",
    "#         'solver' : clf.solver,\n",
    "#         'C' : clf.C,\n",
    "#         'set': 'validation'\n",
    "#     })\n",
    "    \n",
    "# #Create results dataframe and plot it\n",
    "# results = pd.DataFrame(results)\n",
    "# sns.boxplot(y='auc', x='set', data=results).set_title(f'{clf_list[0]}')\n",
    "\n",
    "# optimal_parameter = []\n",
    "# parameter_keys = list(parameters.keys())\n",
    "\n",
    "# for item in parameter_keys:\n",
    "#     best_item = [] \n",
    "#     for i in list(range(0,10,2)):\n",
    "#         best_item.append(results[item][i])\n",
    "    \n",
    "#     optimal_parameter.append(statistics.median(best_item))\n",
    "#     print(f\"The optimal {item}={optimal_parameter[-1]}\")"
   ]
  },
  {
   "cell_type": "markdown",
   "metadata": {},
   "source": [
    "# GNB"
   ]
  },
  {
   "cell_type": "code",
   "execution_count": 20,
   "metadata": {},
   "outputs": [
    {
     "name": "stdout",
     "output_type": "stream",
     "text": [
      "The optimal var_smoothing=6.165950018614822e-07\n"
     ]
    },
    {
     "data": {
      "image/png": "[encoded data removed]",
      "text/plain": [
       "<Figure size 432x288 with 1 Axes>"
      ]
     },
     "metadata": {
      "needs_background": "light"
     },
     "output_type": "display_data"
    }
   ],
   "source": [
    "results = []\n",
    "for train_index, validation_index, in cv_10fold.split(X_train, Y_train):\n",
    "    \n",
    "    X_train_CV = X_train[train_index]\n",
    "    Y_train_CV = Y_train[train_index]\n",
    "\n",
    "    X_validation_CV = X_train[validation_index]\n",
    "    Y_validation_CV = Y_train[validation_index]\n",
    "    \n",
    "    clf = clf_list[3]\n",
    "    parameters = parameters_list[3]\n",
    "    randomized_search = RandomizedSearchCV(clf, parameters, cv=cv_5fold, scoring='roc_auc', n_iter = 10)\n",
    "    randomized_search.fit(X_train_CV, Y_train_CV)\n",
    "    \n",
    "    # Get resulting classifier\n",
    "    clf = randomized_search.best_estimator_\n",
    "\n",
    "    # Test the classifier on the train data\n",
    "    probabilities = clf.predict_proba(X_train_CV)\n",
    "    scores = probabilities[:, 1]\n",
    "    \n",
    "    # Get the auc\n",
    "    auc = metrics.roc_auc_score(Y_train_CV, scores)\n",
    "    results.append({\n",
    "        'auc': auc,\n",
    "        \"var_smoothing\" : clf.var_smoothing,\n",
    "        'set': 'test'\n",
    "    })\n",
    "    \n",
    "    # Test the classifier on the validation data\n",
    "    probabilities_validation = clf.predict_proba(X_validation_CV)\n",
    "    scores_validation = probabilities_validation[:, 1]\n",
    "    \n",
    "    # Get the auc\n",
    "    auc_validation = metrics.roc_auc_score(Y_validation_CV, scores_validation)\n",
    "    results.append({\n",
    "        'auc': auc_validation,\n",
    "        \"var_smoothing\" : clf.var_smoothing,\n",
    "        'set': 'validation'\n",
    "    })\n",
    "    \n",
    "#Create results dataframe and plot it\n",
    "results = pd.DataFrame(results)\n",
    "sns.boxplot(y='auc', x='set', data=results).set_title(f'{clf_list[0]}')\n",
    "\n",
    "optimal_parameter = []\n",
    "parameter_keys = list(parameters.keys())\n",
    "\n",
    "for item in parameter_keys:\n",
    "    best_item = [] \n",
    "    for i in list(range(0,10,2)):\n",
    "        best_item.append(results[item][i])\n",
    "    \n",
    "    optimal_parameter.append(statistics.median(best_item))\n",
    "    print(f\"The optimal {item}={optimal_parameter[-1]}\")"
   ]
  },
  {
   "cell_type": "markdown",
   "metadata": {},
   "source": [
    "# RF"
   ]
  },
  {
   "cell_type": "code",
   "execution_count": 21,
   "metadata": {},
   "outputs": [
    {
     "name": "stdout",
     "output_type": "stream",
     "text": [
      "The optimal criterion=gini\n",
      "The optimal min_samples_split=12\n",
      "The optimal max_features=5\n",
      "The optimal min_samples_leaf=7\n"
     ]
    },
    {
     "data": {
      "image/png": "[encoded data removed]",
      "text/plain": [
       "<Figure size 432x288 with 1 Axes>"
      ]
     },
     "metadata": {
      "needs_background": "light"
     },
     "output_type": "display_data"
    }
   ],
   "source": [
    "results = []\n",
    "for train_index, validation_index, in cv_10fold.split(X_train, Y_train):\n",
    "    \n",
    "    X_train_CV = X_train[train_index]\n",
    "    Y_train_CV = Y_train[train_index]\n",
    "\n",
    "    X_validation_CV = X_train[validation_index]\n",
    "    Y_validation_CV = Y_train[validation_index]\n",
    "    \n",
    "    clf = clf_list[4]\n",
    "    parameters = parameters_list[4]\n",
    "    randomized_search = RandomizedSearchCV(clf, parameters, cv=cv_5fold, scoring='roc_auc', n_iter = 10)\n",
    "    randomized_search.fit(X_train_CV, Y_train_CV)\n",
    "    \n",
    "    # Get resulting classifier\n",
    "    clf = randomized_search.best_estimator_\n",
    "\n",
    "    # Test the classifier on the train data\n",
    "    probabilities = clf.predict_proba(X_train_CV)\n",
    "    scores = probabilities[:, 1]\n",
    "    \n",
    "    # Get the auc\n",
    "    auc = metrics.roc_auc_score(Y_train_CV, scores)\n",
    "    results.append({\n",
    "        'auc': auc,\n",
    "        \"criterion\": clf.criterion,\n",
    "        \"min_samples_split\": clf.min_samples_split,\n",
    "        \"max_features\": clf.max_features,\n",
    "        \"min_samples_leaf\": clf.min_samples_leaf,\n",
    "        'set': 'test'\n",
    "    })\n",
    "    \n",
    "    # Test the classifier on the validation data\n",
    "    probabilities_validation = clf.predict_proba(X_validation_CV)\n",
    "    scores_validation = probabilities_validation[:, 1]\n",
    "    \n",
    "    # Get the auc\n",
    "    auc_validation = metrics.roc_auc_score(Y_validation_CV, scores_validation)\n",
    "    results.append({\n",
    "        'auc': auc_validation,\n",
    "        \"criterion\": clf.criterion,\n",
    "        \"min_samples_split\": clf.min_samples_split,\n",
    "        \"max_features\": clf.max_features,\n",
    "        \"min_samples_leaf\": clf.min_samples_leaf,\n",
    "        'set': 'validation'\n",
    "    })\n",
    "    \n",
    "#Create results dataframe and plot it\n",
    "results = pd.DataFrame(results)\n",
    "sns.boxplot(y='auc', x='set', data=results).set_title(f'{clf_list[0]}')\n",
    "\n",
    "optimal_parameter = []\n",
    "parameter_keys = list(parameters.keys())\n",
    "\n",
    "for item in parameter_keys:\n",
    "    best_item = [] \n",
    "    for i in list(range(0,10,2)):\n",
    "        best_item.append(results[item][i])\n",
    "    \n",
    "    optimal_parameter.append(statistics.median(best_item))\n",
    "    print(f\"The optimal {item}={optimal_parameter[-1]}\")"
   ]
  },
  {
   "cell_type": "markdown",
   "metadata": {},
   "source": [
    "# SVC"
   ]
  },
  {
   "cell_type": "code",
   "execution_count": 22,
   "metadata": {},
   "outputs": [],
   "source": [
    "# results = []\n",
    "# for train_index, validation_index, in cv_10fold.split(X_train, Y_train):\n",
    "    \n",
    "#     X_train_CV = X_train[train_index]\n",
    "#     Y_train_CV = Y_train[train_index]\n",
    "\n",
    "#     X_validation_CV = X_train[validation_index]\n",
    "#     Y_validation_CV = Y_train[validation_index]\n",
    "    \n",
    "#     clf = clf_list[5]\n",
    "#     parameters = parameters_list[5]\n",
    "#     randomized_search = RandomizedSearchCV(clf, parameters, cv=cv_5fold, scoring='roc_auc', n_iter = 10)\n",
    "#     randomized_search.fit(X_train_CV, Y_train_CV)\n",
    "    \n",
    "#     # Get resulting classifier\n",
    "#     clf = randomized_search.best_estimator_\n",
    "\n",
    "#     # Test the classifier on the train data\n",
    "#     probabilities = clf.predict_proba(X_train_CV)\n",
    "#     scores = probabilities[:, 1]\n",
    "    \n",
    "#     # Get the auc\n",
    "#     auc = metrics.roc_auc_score(Y_train_CV, scores)\n",
    "#     results.append({\n",
    "#         'auc': auc,\n",
    "\n",
    "#         'set': 'test'\n",
    "#     })\n",
    "    \n",
    "#     # Test the classifier on the validation data\n",
    "#     probabilities_validation = clf.predict_proba(X_validation_CV)\n",
    "#     scores_validation = probabilities_validation[:, 1]\n",
    "    \n",
    "#     # Get the auc\n",
    "#     auc_validation = metrics.roc_auc_score(Y_validation_CV, scores_validation)\n",
    "#     results.append({\n",
    "#         'auc': auc_validation,\n",
    "\n",
    "#         'set': 'validation'\n",
    "#     })\n",
    "    \n",
    "# #Create results dataframe and plot it\n",
    "# results = pd.DataFrame(results)\n",
    "# sns.boxplot(y='auc', x='set', data=results).set_title(f'{clf_list[0]}')\n",
    "\n",
    "# optimal_parameter = []\n",
    "# parameter_keys = list(parameters.keys())\n",
    "\n",
    "# for item in parameter_keys:\n",
    "#     best_item = [] \n",
    "#     for i in list(range(0,10,2)):\n",
    "#         best_item.append(results[item][i])\n",
    "    \n",
    "#     optimal_parameter.append(statistics.median(best_item))\n",
    "#     print(f\"The optimal {item}={optimal_parameter[-1]}\")"
   ]
  },
  {
   "cell_type": "markdown",
   "metadata": {},
   "source": [
    "# mlp"
   ]
  },
  {
   "cell_type": "code",
   "execution_count": 25,
   "metadata": {},
   "outputs": [
    {
     "name": "stderr",
     "output_type": "stream",
     "text": [
      "C:\\Users\\Sara\\miniconda3\\lib\\site-packages\\sklearn\\model_selection\\_search.py:292: UserWarning: The total space of parameters 2 is smaller than n_iter=10. Running 2 iterations. For exhaustive searches, use GridSearchCV.\n",
      "  warnings.warn(\n",
      "C:\\Users\\Sara\\miniconda3\\lib\\site-packages\\sklearn\\model_selection\\_search.py:292: UserWarning: The total space of parameters 2 is smaller than n_iter=10. Running 2 iterations. For exhaustive searches, use GridSearchCV.\n",
      "  warnings.warn(\n",
      "C:\\Users\\Sara\\miniconda3\\lib\\site-packages\\sklearn\\model_selection\\_search.py:292: UserWarning: The total space of parameters 2 is smaller than n_iter=10. Running 2 iterations. For exhaustive searches, use GridSearchCV.\n",
      "  warnings.warn(\n",
      "C:\\Users\\Sara\\miniconda3\\lib\\site-packages\\sklearn\\model_selection\\_search.py:292: UserWarning: The total space of parameters 2 is smaller than n_iter=10. Running 2 iterations. For exhaustive searches, use GridSearchCV.\n",
      "  warnings.warn(\n",
      "C:\\Users\\Sara\\miniconda3\\lib\\site-packages\\sklearn\\model_selection\\_search.py:292: UserWarning: The total space of parameters 2 is smaller than n_iter=10. Running 2 iterations. For exhaustive searches, use GridSearchCV.\n",
      "  warnings.warn(\n",
      "C:\\Users\\Sara\\miniconda3\\lib\\site-packages\\sklearn\\model_selection\\_search.py:292: UserWarning: The total space of parameters 2 is smaller than n_iter=10. Running 2 iterations. For exhaustive searches, use GridSearchCV.\n",
      "  warnings.warn(\n",
      "C:\\Users\\Sara\\miniconda3\\lib\\site-packages\\sklearn\\model_selection\\_search.py:292: UserWarning: The total space of parameters 2 is smaller than n_iter=10. Running 2 iterations. For exhaustive searches, use GridSearchCV.\n",
      "  warnings.warn(\n",
      "C:\\Users\\Sara\\miniconda3\\lib\\site-packages\\sklearn\\model_selection\\_search.py:292: UserWarning: The total space of parameters 2 is smaller than n_iter=10. Running 2 iterations. For exhaustive searches, use GridSearchCV.\n",
      "  warnings.warn(\n",
      "C:\\Users\\Sara\\miniconda3\\lib\\site-packages\\sklearn\\model_selection\\_search.py:292: UserWarning: The total space of parameters 2 is smaller than n_iter=10. Running 2 iterations. For exhaustive searches, use GridSearchCV.\n",
      "  warnings.warn(\n",
      "C:\\Users\\Sara\\miniconda3\\lib\\site-packages\\sklearn\\model_selection\\_search.py:292: UserWarning: The total space of parameters 2 is smaller than n_iter=10. Running 2 iterations. For exhaustive searches, use GridSearchCV.\n",
      "  warnings.warn(\n"
     ]
    },
    {
     "name": "stdout",
     "output_type": "stream",
     "text": [
      "The optimal learning_rate=adaptive\n"
     ]
    },
    {
     "data": {
      "image/png": "[encoded data removed]",
      "text/plain": [
       "<Figure size 432x288 with 1 Axes>"
      ]
     },
     "metadata": {
      "needs_background": "light"
     },
     "output_type": "display_data"
    }
   ],
   "source": [
    "results = []\n",
    "for train_index, validation_index, in cv_10fold.split(X_train, Y_train):\n",
    "    \n",
    "    X_train_CV = X_train[train_index]\n",
    "    Y_train_CV = Y_train[train_index]\n",
    "\n",
    "    X_validation_CV = X_train[validation_index]\n",
    "    Y_validation_CV = Y_train[validation_index]\n",
    "    \n",
    "    clf = clf_list[6]\n",
    "    # parameters = parameters_list[6]\n",
    "    parameters = {\n",
    "                'hidden_layer_sizes': [(50,50,50), (50,100,50), (100,)],\n",
    "                'activation': ['tanh', 'relu'],\n",
    "                'solver': ['sgd', 'adam'],\n",
    "                'alpha': [0.0001, 0.05],\n",
    "                'learning_rate': ['constant','adaptive'],\n",
    "                }\n",
    "    randomized_search = RandomizedSearchCV(clf, parameters, cv=cv_5fold, scoring='roc_auc', n_iter = 10)\n",
    "    randomized_search.fit(X_train_CV, Y_train_CV)\n",
    "    \n",
    "    # Get resulting classifier\n",
    "    clf = randomized_search.best_estimator_\n",
    "\n",
    "    # Test the classifier on the train data\n",
    "    probabilities = clf.predict_proba(X_train_CV)\n",
    "    scores = probabilities[:, 1]\n",
    "    \n",
    "    # Get the auc\n",
    "    auc = metrics.roc_auc_score(Y_train_CV, scores)\n",
    "    results.append({\n",
    "        'auc': auc,\n",
    "        # 'hidden_layer_sizes': clf.hidden_layer_sizes,\n",
    "        # 'activation': clf.activation,\n",
    "        # 'solver': clf.solver,\n",
    "        # 'alpha': clf.alpha,\n",
    "        'learning_rate': clf.learning_rate,\n",
    "        'set': 'test'\n",
    "    })\n",
    "    \n",
    "    # Test the classifier on the validation data\n",
    "    probabilities_validation = clf.predict_proba(X_validation_CV)\n",
    "    scores_validation = probabilities_validation[:, 1]\n",
    "    \n",
    "    # Get the auc\n",
    "    auc_validation = metrics.roc_auc_score(Y_validation_CV, scores_validation)\n",
    "    results.append({\n",
    "        'auc': auc_validation,\n",
    "        #'hidden_layer_sizes': clf.hidden_layer_sizes,\n",
    "        # 'activation': clf.activation,\n",
    "        # 'solver': clf.solver,\n",
    "        # 'alpha': clf.alpha,\n",
    "        'learning_rate': clf.learning_rate,\n",
    "        'set': 'validation'\n",
    "    })\n",
    "    \n",
    "#Create results dataframe and plot it\n",
    "results = pd.DataFrame(results)\n",
    "sns.boxplot(y='auc', x='set', data=results).set_title(f'{clf_list[0]}')\n",
    "\n",
    "optimal_parameter = []\n",
    "parameter_keys = list(parameters.keys())\n",
    "\n",
    "for item in parameter_keys:\n",
    "    best_item = [] \n",
    "    for i in list(range(0,10,2)):\n",
    "        best_item.append(results[item][i])\n",
    "    \n",
    "    optimal_parameter.append(statistics.median(best_item))\n",
    "    print(f\"The optimal {item}={optimal_parameter[-1]}\")"
   ]
  },
  {
   "cell_type": "code",
   "execution_count": 29,
   "metadata": {},
   "outputs": [
    {
     "ename": "IndexError",
     "evalue": "tuple index out of range",
     "output_type": "error",
     "traceback": [
      "\u001b[1;31m---------------------------------------------------------------------------\u001b[0m",
      "\u001b[1;31mIndexError\u001b[0m                                Traceback (most recent call last)",
      "\u001b[1;32m~\\AppData\\Local\\Temp/ipykernel_23624/59618315.py\u001b[0m in \u001b[0;36m<module>\u001b[1;34m\u001b[0m\n\u001b[0;32m     25\u001b[0m                     \u001b[0mnl1\u001b[0m\u001b[1;33m=\u001b[0m\u001b[0mnl1\u001b[0m\u001b[1;33m,\u001b[0m \u001b[0mnl2\u001b[0m\u001b[1;33m=\u001b[0m\u001b[0mnl2\u001b[0m\u001b[1;33m,\u001b[0m \u001b[0mnl3\u001b[0m\u001b[1;33m=\u001b[0m\u001b[0mnl3\u001b[0m\u001b[1;33m,\u001b[0m \u001b[0mnn1\u001b[0m\u001b[1;33m=\u001b[0m\u001b[0mnn1\u001b[0m\u001b[1;33m,\u001b[0m \u001b[0mnn2\u001b[0m\u001b[1;33m=\u001b[0m\u001b[0mnn2\u001b[0m\u001b[1;33m,\u001b[0m \u001b[0mnn3\u001b[0m\u001b[1;33m=\u001b[0m\u001b[0mnn3\u001b[0m\u001b[1;33m,\u001b[0m\u001b[1;33m\u001b[0m\u001b[1;33m\u001b[0m\u001b[0m\n\u001b[0;32m     26\u001b[0m                     \u001b[0mact\u001b[0m\u001b[1;33m=\u001b[0m\u001b[0mactivation\u001b[0m\u001b[1;33m,\u001b[0m \u001b[0ml1\u001b[0m\u001b[1;33m=\u001b[0m\u001b[0ml1\u001b[0m\u001b[1;33m,\u001b[0m \u001b[0ml2\u001b[0m\u001b[1;33m=\u001b[0m\u001b[0ml2\u001b[0m\u001b[1;33m,\u001b[0m \u001b[0mlr\u001b[0m\u001b[1;33m=\u001b[0m\u001b[0mlr\u001b[0m\u001b[1;33m,\u001b[0m \u001b[0mdecay\u001b[0m\u001b[1;33m=\u001b[0m\u001b[0mdecay\u001b[0m\u001b[1;33m,\u001b[0m \u001b[0mdropout\u001b[0m\u001b[1;33m=\u001b[0m\u001b[0mdropout\u001b[0m\u001b[1;33m,\u001b[0m\u001b[1;33m\u001b[0m\u001b[1;33m\u001b[0m\u001b[0m\n\u001b[1;32m---> 27\u001b[1;33m                     \u001b[0minput_shape\u001b[0m\u001b[1;33m=\u001b[0m\u001b[1;33m[\u001b[0m\u001b[0mX_train\u001b[0m\u001b[1;33m.\u001b[0m\u001b[0mshape\u001b[0m\u001b[1;33m[\u001b[0m\u001b[1;36m1\u001b[0m\u001b[1;33m]\u001b[0m\u001b[1;33m]\u001b[0m\u001b[1;33m,\u001b[0m \u001b[0moutput_shape\u001b[0m \u001b[1;33m=\u001b[0m \u001b[1;33m[\u001b[0m\u001b[0mY_train\u001b[0m\u001b[1;33m.\u001b[0m\u001b[0mshape\u001b[0m\u001b[1;33m[\u001b[0m\u001b[1;36m1\u001b[0m\u001b[1;33m]\u001b[0m\u001b[1;33m]\u001b[0m\u001b[1;33m,\u001b[0m\u001b[1;33m\u001b[0m\u001b[1;33m\u001b[0m\u001b[0m\n\u001b[0m\u001b[0;32m     28\u001b[0m )    \n",
      "\u001b[1;31mIndexError\u001b[0m: tuple index out of range"
     ]
    }
   ],
   "source": [
    "# learning algorithm parameters\n",
    "lr=[1e-2, 1e-3, 1e-4]\n",
    "decay=[1e-6,1e-9,0]\n",
    "\n",
    "# activation\n",
    "activation=['relu', 'sigmoid']\n",
    "\n",
    "# numbers of layers\n",
    "nl1 = [0,1,2,3]\n",
    "nl2 = [0,1,2,3]\n",
    "nl3 = [0,1,2,3]\n",
    "\n",
    "# neurons in each layer\n",
    "nn1=[300,700,1400, 2100,]\n",
    "nn2=[100,400,800]\n",
    "nn3=[50,150,300]\n",
    "\n",
    "# dropout and regularisation\n",
    "dropout = [0, 0.1, 0.2, 0.3]\n",
    "l1 = [0, 0.01, 0.003, 0.001,0.0001]\n",
    "l2 = [0, 0.01, 0.003, 0.001,0.0001]\n",
    "\n",
    "# dictionary summary\n",
    "param_grid = dict(\n",
    "                    nl1=nl1, nl2=nl2, nl3=nl3, nn1=nn1, nn2=nn2, nn3=nn3,\n",
    "                    act=activation, l1=l1, l2=l2, lr=lr, decay=decay, dropout=dropout, \n",
    "                    input_shape=[X_train.shape[1]], output_shape = [Y_train.shape[1]],\n",
    ")    "
   ]
  },
  {
   "cell_type": "code",
   "execution_count": 32,
   "metadata": {},
   "outputs": [
    {
     "data": {
      "text/plain": [
       "(133, 704)"
      ]
     },
     "execution_count": 32,
     "metadata": {},
     "output_type": "execute_result"
    }
   ],
   "source": [
    "X_train.shape"
   ]
  }
 ],
 "metadata": {
  "interpreter": {
   "hash": "99c346a2273ffdba9d13565a7efa8a03dbcb19c3f8c63eac036f68118855a3ce"
  },
  "kernelspec": {
   "display_name": "Python 3.9.5 ('base')",
   "language": "python",
   "name": "python3"
  },
  "language_info": {
   "codemirror_mode": {
    "name": "ipython",
    "version": 3
   },
   "file_extension": ".py",
   "mimetype": "text/x-python",
   "name": "python",
   "nbconvert_exporter": "python",
   "pygments_lexer": "ipython3",
   "version": "3.8.10"
  },
  "orig_nbformat": 4
 },
 "nbformat": 4,
 "nbformat_minor": 2
}

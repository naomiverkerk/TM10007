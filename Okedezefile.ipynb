{
 "cells": [
  {
   "cell_type": "code",
   "execution_count": 24,
   "metadata": {},
   "outputs": [],
   "source": [
    "# Run this to use from colab environment\n",
    "#!pip install -q --upgrade git+https://github.com/naomiverkerk/TM10007.git\n"
   ]
  },
  {
   "cell_type": "code",
   "execution_count": 43,
   "metadata": {},
   "outputs": [],
   "source": [
    "## Import\n",
    "from sklearn import model_selection\n",
    "from sklearn import metrics\n",
    "from sklearn import feature_selection \n",
    "from sklearn import preprocessing\n",
    "from sklearn import neighbors\n",
    "from sklearn import svm\n",
    "from sklearn import decomposition\n",
    "from load_data import load_data\n",
    "import pandas as pd\n",
    "import numpy as np\n",
    "import matplotlib.pyplot as plt\n",
    "from sklearn.model_selection import train_test_split\n",
    "\n",
    "# Classifiers and kernels\n",
    "from sklearn.svm import SVC\n",
    "from sklearn.model_selection import GridSearchCV\n",
    "from sklearn.metrics import classification_report\n",
    "\n"
   ]
  },
  {
   "cell_type": "code",
   "execution_count": 26,
   "metadata": {},
   "outputs": [],
   "source": [
    "##Loading Data\n",
    "data = load_data() \n",
    "X = data\n",
    "X = X.replace(np.inf, np.nan)\n",
    "Y = data['label']\n",
    "del X['label']"
   ]
  },
  {
   "cell_type": "code",
   "execution_count": 81,
   "metadata": {},
   "outputs": [
    {
     "name": "stdout",
     "output_type": "stream",
     "text": [
      "<class 'pandas.core.frame.DataFrame'>\n",
      "Index: 167 entries, TCGA-02-0006 to TCGA-HT-A61A\n",
      "Columns: 724 entries, VOLUME_ET to TGM_T_6\n",
      "dtypes: float64(718), int64(6)\n",
      "memory usage: 950.0+ KB\n",
      "None\n"
     ]
    }
   ],
   "source": [
    "print(X.info())"
   ]
  },
  {
   "cell_type": "code",
   "execution_count": 88,
   "metadata": {},
   "outputs": [],
   "source": [
    "## Split\n",
    "X_train, X_test, Y_train, Y_test= train_test_split(X, Y, test_size = 0.2, random_state = 4, stratify = Y)"
   ]
  },
  {
   "cell_type": "code",
   "execution_count": 91,
   "metadata": {},
   "outputs": [
    {
     "name": "stdout",
     "output_type": "stream",
     "text": [
      "<class 'pandas.core.frame.DataFrame'>\n",
      "Index: 133 entries, TCGA-HT-7884 to TCGA-02-0037\n",
      "Columns: 724 entries, VOLUME_ET to TGM_T_6\n",
      "dtypes: float64(718), int64(6)\n",
      "memory usage: 753.3+ KB\n",
      "None\n",
      "<class 'pandas.core.frame.DataFrame'>\n",
      "Index: 34 entries, TCGA-DU-5874 to TCGA-02-0027\n",
      "Columns: 724 entries, VOLUME_ET to TGM_T_6\n",
      "dtypes: float64(718), int64(6)\n",
      "memory usage: 192.6+ KB\n",
      "None\n"
     ]
    }
   ],
   "source": [
    "print(X_train.info())\n",
    "print(X_test.info())"
   ]
  },
  {
   "cell_type": "code",
   "execution_count": 94,
   "metadata": {},
   "outputs": [],
   "source": [
    "\n",
    "## Features weghalen met teveel missing values\n",
    "acceptabele_ratio = 0.5\n",
    "train_size = len(X_train.index)\n",
    "removal_rate = round(train_size*acceptabele_ratio)\n",
    "\n",
    "X_train = X_train.dropna(axis=1, thresh=removal_rate)\n",
    "common_cols = list(set(X_train.columns).intersection(X_test.columns))\n",
    "X_test = X_test[common_cols]"
   ]
  },
  {
   "cell_type": "code",
   "execution_count": 95,
   "metadata": {},
   "outputs": [
    {
     "name": "stdout",
     "output_type": "stream",
     "text": [
      "<class 'pandas.core.frame.DataFrame'>\n",
      "Index: 133 entries, TCGA-HT-7884 to TCGA-02-0037\n",
      "Columns: 704 entries, VOLUME_ET to TGM_T_1\n",
      "dtypes: float64(698), int64(6)\n",
      "memory usage: 732.5+ KB\n",
      "None\n",
      "<class 'pandas.core.frame.DataFrame'>\n",
      "Index: 34 entries, TCGA-DU-5874 to TCGA-02-0027\n",
      "Columns: 704 entries, TEXTURE_GLRLM_ED_T1Gd_RLV to TEXTURE_GLCM_ED_T1Gd_Dissimilarity\n",
      "dtypes: float64(698), int64(6)\n",
      "memory usage: 187.3+ KB\n",
      "None\n"
     ]
    }
   ],
   "source": [
    "print(X_train.info())\n",
    "print(X_test.info())"
   ]
  },
  {
   "cell_type": "code",
   "execution_count": 29,
   "metadata": {},
   "outputs": [],
   "source": [
    "## Imputation met median\n",
    "X_train_missing_median = X_train.fillna(X_train.median())\n",
    "X_train_missing_median = np.nan_to_num(X_train_missing_median)\n",
    "X_test_missing_median = X_test.fillna(X_test.median())\n",
    "X_test_missing_median = np.nan_to_num(X_test_missing_median)"
   ]
  },
  {
   "cell_type": "code",
   "execution_count": 100,
   "metadata": {},
   "outputs": [
    {
     "name": "stdout",
     "output_type": "stream",
     "text": [
      "class:  ndarray\n",
      "shape:  (133, 704)\n",
      "strides:  (8, 1064)\n",
      "itemsize:  8\n",
      "aligned:  True\n",
      "contiguous:  False\n",
      "fortran:  True\n",
      "data pointer: 0x1c1b387db70\n",
      "byteorder:  little\n",
      "byteswap:  False\n",
      "type: float64\n",
      "None\n",
      "class:  ndarray\n",
      "shape:  (34, 704)\n",
      "strides:  (8, 272)\n",
      "itemsize:  8\n",
      "aligned:  True\n",
      "contiguous:  False\n",
      "fortran:  True\n",
      "data pointer: 0x1c1b3934980\n",
      "byteorder:  little\n",
      "byteswap:  False\n",
      "type: float64\n",
      "None\n"
     ]
    }
   ],
   "source": [
    "print(np.info(X_train_missing_median))\n",
    "print(np.info(X_test_missing_median))"
   ]
  },
  {
   "cell_type": "code",
   "execution_count": 101,
   "metadata": {},
   "outputs": [
    {
     "name": "stdout",
     "output_type": "stream",
     "text": [
      "<class 'pandas.core.frame.DataFrame'>\n",
      "Index: 133 entries, TCGA-HT-7884 to TCGA-02-0037\n",
      "Columns: 704 entries, VOLUME_ET to TGM_T_1\n",
      "dtypes: float64(698), int64(6)\n",
      "memory usage: 732.5+ KB\n",
      "None\n",
      "<class 'pandas.core.frame.DataFrame'>\n",
      "Index: 34 entries, TCGA-DU-5874 to TCGA-02-0027\n",
      "Columns: 704 entries, TEXTURE_GLRLM_ED_T1Gd_RLV to TEXTURE_GLCM_ED_T1Gd_Dissimilarity\n",
      "dtypes: float64(698), int64(6)\n",
      "memory usage: 187.3+ KB\n",
      "None\n"
     ]
    }
   ],
   "source": [
    "print(X_train.info())\n",
    "print(X_test.info())"
   ]
  },
  {
   "cell_type": "code",
   "execution_count": 30,
   "metadata": {},
   "outputs": [],
   "source": [
    "## Scaling\n",
    "scaler = preprocessing.RobustScaler()\n",
    "scaler.fit(X_train_missing_median)\n",
    "X_train_scaled = scaler.transform(X_train_missing_median)\n",
    "X_train_scaled = np.nan_to_num(X_train_scaled)\n",
    "X_test_scaled = scaler.transform(X_test_missing_median)\n",
    "X_test_scaled = np.nan_to_num(X_test_scaled)"
   ]
  },
  {
   "cell_type": "code",
   "execution_count": 102,
   "metadata": {},
   "outputs": [
    {
     "name": "stdout",
     "output_type": "stream",
     "text": [
      "class:  ndarray\n",
      "shape:  (133, 704)\n",
      "strides:  (8, 1064)\n",
      "itemsize:  8\n",
      "aligned:  True\n",
      "contiguous:  False\n",
      "fortran:  True\n",
      "data pointer: 0x1c1ad8ba320\n",
      "byteorder:  little\n",
      "byteswap:  False\n",
      "type: float64\n",
      "None\n",
      "class:  ndarray\n",
      "shape:  (34, 704)\n",
      "strides:  (8, 272)\n",
      "itemsize:  8\n",
      "aligned:  True\n",
      "contiguous:  False\n",
      "fortran:  True\n",
      "data pointer: 0x1c1ad2a1c80\n",
      "byteorder:  little\n",
      "byteswap:  False\n",
      "type: float64\n",
      "None\n"
     ]
    }
   ],
   "source": [
    "print(np.info(X_train_scaled))\n",
    "print(np.info(X_test_scaled))"
   ]
  },
  {
   "cell_type": "code",
   "execution_count": 103,
   "metadata": {},
   "outputs": [],
   "source": [
    "scaler_y = preprocessing.LabelEncoder()\n",
    "scaler_y.fit(np.array(Y_train))\n",
    "Y_train_final = scaler_y.transform(np.array(Y_train))\n",
    "Y_test_final =  scaler_y.transform(np.array(Y_test))"
   ]
  },
  {
   "cell_type": "code",
   "execution_count": 104,
   "metadata": {},
   "outputs": [
    {
     "name": "stdout",
     "output_type": "stream",
     "text": [
      "class:  ndarray\n",
      "shape:  (133,)\n",
      "strides:  (4,)\n",
      "itemsize:  4\n",
      "aligned:  True\n",
      "contiguous:  True\n",
      "fortran:  True\n",
      "data pointer: 0x1c1adfa2600\n",
      "byteorder:  little\n",
      "byteswap:  False\n",
      "type: int32\n",
      "None\n",
      "class:  ndarray\n",
      "shape:  (34,)\n",
      "strides:  (4,)\n",
      "itemsize:  4\n",
      "aligned:  True\n",
      "contiguous:  True\n",
      "fortran:  True\n",
      "data pointer: 0x1c1aab9f7a0\n",
      "byteorder:  little\n",
      "byteswap:  False\n",
      "type: int32\n",
      "None\n"
     ]
    }
   ],
   "source": [
    "print(np.info(Y_train_final))\n",
    "print(np.info(Y_test_final))"
   ]
  },
  {
   "cell_type": "code",
   "execution_count": 32,
   "metadata": {},
   "outputs": [],
   "source": [
    "## PCA\n",
    "pca = decomposition.PCA(n_components=0.99, svd_solver= 'full')\n",
    "pca.fit(X_train_scaled)\n",
    "X_train_final = pca.transform(X_train_scaled)\n",
    "X_test_final = pca.transform(X_test_scaled)\n",
    "explained_variance = np.cumsum(pca.explained_variance_ratio_)\n"
   ]
  },
  {
   "cell_type": "code",
   "execution_count": 105,
   "metadata": {},
   "outputs": [
    {
     "name": "stdout",
     "output_type": "stream",
     "text": [
      "class:  ndarray\n",
      "shape:  (133, 5)\n",
      "strides:  (40, 8)\n",
      "itemsize:  8\n",
      "aligned:  True\n",
      "contiguous:  True\n",
      "fortran:  False\n",
      "data pointer: 0x1c1ad5226c0\n",
      "byteorder:  little\n",
      "byteswap:  False\n",
      "type: float64\n",
      "None\n",
      "class:  ndarray\n",
      "shape:  (34, 5)\n",
      "strides:  (40, 8)\n",
      "itemsize:  8\n",
      "aligned:  True\n",
      "contiguous:  True\n",
      "fortran:  False\n",
      "data pointer: 0x1c1ad462720\n",
      "byteorder:  little\n",
      "byteswap:  False\n",
      "type: float64\n",
      "None\n"
     ]
    }
   ],
   "source": [
    "print(np.info(X_train_final))\n",
    "print(np.info(X_test_final))"
   ]
  },
  {
   "cell_type": "code",
   "execution_count": 125,
   "metadata": {},
   "outputs": [
    {
     "ename": "SyntaxError",
     "evalue": "invalid syntax (Temp/ipykernel_6852/2781978548.py, line 49)",
     "output_type": "error",
     "traceback": [
      "\u001b[1;36m  File \u001b[1;32m\"C:\\Users\\Sara\\AppData\\Local\\Temp/ipykernel_6852/2781978548.py\"\u001b[1;36m, line \u001b[1;32m49\u001b[0m\n\u001b[1;33m    'set': 'validation'\u001b[0m\n\u001b[1;37m    ^\u001b[0m\n\u001b[1;31mSyntaxError\u001b[0m\u001b[1;31m:\u001b[0m invalid syntax\n"
     ]
    }
   ],
   "source": [
    "from sklearn.tree import DecisionTreeClassifier, plot_tree\n",
    "cv_20fold = model_selection.StratifiedKFold(n_splits=5)\n",
    "class_names = ['GBM', 'LGG']\n",
    "feature_names = list(X_train.columns)\n",
    "results = []\n",
    "best_min_samples_split = []\n",
    "\n",
    "for validation_index, test_index in cv_20fold.split(X_train_final, Y_train_final):\n",
    "\n",
    "    # Split the data properly\n",
    "    X_validation = X_train_final[validation_index]\n",
    "    y_validation = Y_train_final[validation_index]\n",
    "    \n",
    "    X_test = X_train_final[test_index]\n",
    "    y_test = Y_train_final[test_index]\n",
    "\n",
    "    parameters = {\n",
    "                    \"min_samples_split\": list(range(2,40,2)),\n",
    "                    \"min_impurity_decrease\": [0,1,2,3,4,5],\n",
    "    }\n",
    "    clf = DecisionTreeClassifier()\n",
    "    cv_10fold = model_selection.StratifiedKFold(n_splits=5)\n",
    "    grid_search = model_selection.GridSearchCV(clf, parameters, cv=cv_10fold, scoring='roc_auc')\n",
    "    grid_search.fit(X_validation, y_validation)\n",
    "    \n",
    "    # Get resulting classifier\n",
    "    clf = grid_search.best_estimator_\n",
    "    print(f'Best classifier for parameter={clf.min_samples_split},{clf.min_impurity_decrease}')\n",
    "    best_min_samples_split.append(clf.min_samples_split)\n",
    "\n",
    "    probabilities = clf.predict_proba(X_test)\n",
    "    scores = probabilities[:, 1]\n",
    "    \n",
    "    auc = metrics.roc_auc_score(y_test, scores)\n",
    "    results.append({\n",
    "        'auc': auc,\n",
    "        'k': clf.min_samples_split,\n",
    "        'set': 'test'\n",
    "    })\n",
    "    \n",
    "    probabilities_validation = clf.predict_proba(X_validation)\n",
    "    scores_validation = probabilities_validation[:, 1]\n",
    "\n",
    "    # Get the auc\n",
    "    auc_validation = metrics.roc_auc_score(y_validation, scores_validation)\n",
    "    results.append({\n",
    "        'auc': auc_validation,\n",
    "        'k': [clf.min_samples_split,clf.min_impurity_decrease]\n",
    "        'set': 'validation'\n",
    "    })\n",
    "\n",
    "plt.figure(dpi=250)\n",
    "plot_tree(clf, filled=True,\n",
    "            class_names=class_names,\n",
    "            feature_names=feature_names,\n",
    "            );\n",
    "\n",
    "    "
   ]
  },
  {
   "cell_type": "code",
   "execution_count": 247,
   "metadata": {},
   "outputs": [
    {
     "name": "stdout",
     "output_type": "stream",
     "text": [
      "Best classifier for criterion=entropy & min_samples_split=16 & max_features=2 & min_samples_leaf=1\n",
      "Best classifier for criterion=entropy & min_samples_split=30 & max_features=2 & min_samples_leaf=1\n",
      "Best classifier for criterion=entropy & min_samples_split=14 & max_features=3 & min_samples_leaf=3\n",
      "Best classifier for criterion=gini & min_samples_split=18 & max_features=4 & min_samples_leaf=13\n",
      "Best classifier for criterion=gini & min_samples_split=28 & max_features=3 & min_samples_leaf=3\n",
      "The optimal criterion=entropy\n",
      "The optimal min_samples_split=18\n",
      "The optimal max_features=3\n",
      "The optimal min_samples_leaf=3\n"
     ]
    },
    {
     "data": {
      "image/png": "[encoded data removed]",
      "text/plain": [
       "<Figure size 720x576 with 1 Axes>"
      ]
     },
     "metadata": {
      "needs_background": "light"
     },
     "output_type": "display_data"
    }
   ],
   "source": [
    "from sklearn.tree import DecisionTreeClassifier, plot_tree\n",
    "cv_20fold = model_selection.StratifiedKFold(n_splits=5)\n",
    "class_names = ['GBM', 'LGG']\n",
    "feature_names = list(X_train.columns)\n",
    "results = []\n",
    "best_min_samples_split = []\n",
    "\n",
    "for validation_index, test_index in cv_20fold.split(X_train_final, Y_train_final):\n",
    "\n",
    "    # Split the data properly\n",
    "    X_validation = X_train_final[validation_index]\n",
    "    y_validation = Y_train_final[validation_index]\n",
    "    \n",
    "    X_test = X_train_final[test_index]\n",
    "    y_test = Y_train_final[test_index]\n",
    "\n",
    "    parameters = {\n",
    "            \t    \"criterion\": ['gini', 'entropy'],\n",
    "                    \"min_samples_split\": list(range(2,40,2)),\n",
    "                    # \"min_impurity_decrease\": [0,1,2,3,4,5],\n",
    "                    \"max_features\": [1,2,3,4,5],\n",
    "                    \"min_samples_leaf\": list(range(1,20,2)),\n",
    "    }\n",
    "    clf = DecisionTreeClassifier()\n",
    "    cv_10fold = model_selection.StratifiedKFold(n_splits=5)\n",
    "    grid_search = model_selection.GridSearchCV(clf, parameters, cv=cv_10fold, scoring='roc_auc')\n",
    "    grid_search.fit(X_validation, y_validation)\n",
    "    \n",
    "    # Get resulting classifier\n",
    "    clf = grid_search.best_estimator_\n",
    "    print(f'Best classifier for criterion={clf.criterion} & min_samples_split={clf.min_samples_split} & max_features={clf.max_features} & min_samples_leaf={clf.min_samples_leaf}')\n",
    "\n",
    "    probabilities = clf.predict_proba(X_test)\n",
    "    scores = probabilities[:, 1]\n",
    "    \n",
    "    auc = metrics.roc_auc_score(y_test, scores)\n",
    "    results.append({\n",
    "        'auc': auc,\n",
    "        'criterion': clf.criterion,\n",
    "        'min_samples_split': clf.min_samples_split,\n",
    "        'max_features': clf.max_features,\n",
    "        \"min_samples_leaf\": clf.min_samples_leaf,\n",
    "        'set': 'test'\n",
    "    })\n",
    "    \n",
    "    probabilities_validation = clf.predict_proba(X_validation)\n",
    "    scores_validation = probabilities_validation[:, 1]\n",
    "\n",
    "    # Get the auc\n",
    "    auc_validation = metrics.roc_auc_score(y_validation, scores_validation)\n",
    "    results.append({\n",
    "        'auc': auc_validation,\n",
    "        'criterion': clf.criterion,\n",
    "        'min_samples_split': clf.min_samples_split,\n",
    "        'max_features': clf.max_features,\n",
    "        \"min_samples_leaf\": clf.min_samples_leaf,\n",
    "        'set': 'validation'\n",
    "    })\n",
    "\n",
    "# plt.figure(dpi=250)\n",
    "# plot_tree(clf, filled=True,\n",
    "#             class_names=class_names,\n",
    "#             feature_names=feature_names,\n",
    "#             );\n",
    "\n",
    "import seaborn as sns\n",
    "import statistics\n",
    "\n",
    "results = pd.DataFrame(results)\n",
    "sns.boxplot(y='auc', x='set', data=results)\n",
    "\n",
    "p = list(parameters.keys())\n",
    "optimal_parameter = []\n",
    "# print(f\"The optimal N={optimal_n}\")\n",
    "\n",
    "parameter_keys = list(parameters.keys())\n",
    "for item in parameter_keys:\n",
    "    best_item = [] \n",
    "    for i in list(range(0,10,2)):\n",
    "        best_item.append(results[item][i])\n",
    "\n",
    "    optimal_parameter.append(statistics.median(best_item))\n",
    "    print(f\"The optimal {item}={optimal_parameter[-1]}\")\n",
    "  \n",
    "   "
   ]
  },
  {
   "cell_type": "code",
   "execution_count": 249,
   "metadata": {},
   "outputs": [
    {
     "data": {
      "text/html": [
       "<div>\n",
       "<style scoped>\n",
       "    .dataframe tbody tr th:only-of-type {\n",
       "        vertical-align: middle;\n",
       "    }\n",
       "\n",
       "    .dataframe tbody tr th {\n",
       "        vertical-align: top;\n",
       "    }\n",
       "\n",
       "    .dataframe thead th {\n",
       "        text-align: right;\n",
       "    }\n",
       "</style>\n",
       "<table border=\"1\" class=\"dataframe\">\n",
       "  <thead>\n",
       "    <tr style=\"text-align: right;\">\n",
       "      <th></th>\n",
       "      <th>auc</th>\n",
       "      <th>criterion</th>\n",
       "      <th>min_samples_split</th>\n",
       "      <th>max_features</th>\n",
       "      <th>min_samples_leaf</th>\n",
       "      <th>set</th>\n",
       "    </tr>\n",
       "  </thead>\n",
       "  <tbody>\n",
       "    <tr>\n",
       "      <th>0</th>\n",
       "      <td>0.670455</td>\n",
       "      <td>entropy</td>\n",
       "      <td>16</td>\n",
       "      <td>2</td>\n",
       "      <td>1</td>\n",
       "      <td>test</td>\n",
       "    </tr>\n",
       "    <tr>\n",
       "      <th>1</th>\n",
       "      <td>0.948030</td>\n",
       "      <td>entropy</td>\n",
       "      <td>16</td>\n",
       "      <td>2</td>\n",
       "      <td>1</td>\n",
       "      <td>validation</td>\n",
       "    </tr>\n",
       "    <tr>\n",
       "      <th>2</th>\n",
       "      <td>0.684659</td>\n",
       "      <td>entropy</td>\n",
       "      <td>30</td>\n",
       "      <td>2</td>\n",
       "      <td>1</td>\n",
       "      <td>test</td>\n",
       "    </tr>\n",
       "    <tr>\n",
       "      <th>3</th>\n",
       "      <td>0.911820</td>\n",
       "      <td>entropy</td>\n",
       "      <td>30</td>\n",
       "      <td>2</td>\n",
       "      <td>1</td>\n",
       "      <td>validation</td>\n",
       "    </tr>\n",
       "    <tr>\n",
       "      <th>4</th>\n",
       "      <td>0.600000</td>\n",
       "      <td>entropy</td>\n",
       "      <td>14</td>\n",
       "      <td>3</td>\n",
       "      <td>3</td>\n",
       "      <td>test</td>\n",
       "    </tr>\n",
       "    <tr>\n",
       "      <th>5</th>\n",
       "      <td>0.964472</td>\n",
       "      <td>entropy</td>\n",
       "      <td>14</td>\n",
       "      <td>3</td>\n",
       "      <td>3</td>\n",
       "      <td>validation</td>\n",
       "    </tr>\n",
       "    <tr>\n",
       "      <th>6</th>\n",
       "      <td>0.659375</td>\n",
       "      <td>gini</td>\n",
       "      <td>18</td>\n",
       "      <td>4</td>\n",
       "      <td>13</td>\n",
       "      <td>test</td>\n",
       "    </tr>\n",
       "    <tr>\n",
       "      <th>7</th>\n",
       "      <td>0.883333</td>\n",
       "      <td>gini</td>\n",
       "      <td>18</td>\n",
       "      <td>4</td>\n",
       "      <td>13</td>\n",
       "      <td>validation</td>\n",
       "    </tr>\n",
       "    <tr>\n",
       "      <th>8</th>\n",
       "      <td>0.784375</td>\n",
       "      <td>gini</td>\n",
       "      <td>28</td>\n",
       "      <td>3</td>\n",
       "      <td>3</td>\n",
       "      <td>test</td>\n",
       "    </tr>\n",
       "    <tr>\n",
       "      <th>9</th>\n",
       "      <td>0.847619</td>\n",
       "      <td>gini</td>\n",
       "      <td>28</td>\n",
       "      <td>3</td>\n",
       "      <td>3</td>\n",
       "      <td>validation</td>\n",
       "    </tr>\n",
       "  </tbody>\n",
       "</table>\n",
       "</div>"
      ],
      "text/plain": [
       "        auc criterion  min_samples_split  max_features  min_samples_leaf  \\\n",
       "0  0.670455   entropy                 16             2                 1   \n",
       "1  0.948030   entropy                 16             2                 1   \n",
       "2  0.684659   entropy                 30             2                 1   \n",
       "3  0.911820   entropy                 30             2                 1   \n",
       "4  0.600000   entropy                 14             3                 3   \n",
       "5  0.964472   entropy                 14             3                 3   \n",
       "6  0.659375      gini                 18             4                13   \n",
       "7  0.883333      gini                 18             4                13   \n",
       "8  0.784375      gini                 28             3                 3   \n",
       "9  0.847619      gini                 28             3                 3   \n",
       "\n",
       "          set  \n",
       "0        test  \n",
       "1  validation  \n",
       "2        test  \n",
       "3  validation  \n",
       "4        test  \n",
       "5  validation  \n",
       "6        test  \n",
       "7  validation  \n",
       "8        test  \n",
       "9  validation  "
      ]
     },
     "execution_count": 249,
     "metadata": {},
     "output_type": "execute_result"
    }
   ],
   "source": [
    "pd.DataFrame(results)"
   ]
  }
 ],
 "metadata": {
  "interpreter": {
   "hash": "99c346a2273ffdba9d13565a7efa8a03dbcb19c3f8c63eac036f68118855a3ce"
  },
  "kernelspec": {
   "display_name": "Python 3.9.5 ('base')",
   "language": "python",
   "name": "python3"
  },
  "language_info": {
   "codemirror_mode": {
    "name": "ipython",
    "version": 3
   },
   "file_extension": ".py",
   "mimetype": "text/x-python",
   "name": "python",
   "nbconvert_exporter": "python",
   "pygments_lexer": "ipython3",
   "version": "3.8.10"
  },
  "orig_nbformat": 4
 },
 "nbformat": 4,
 "nbformat_minor": 2
}

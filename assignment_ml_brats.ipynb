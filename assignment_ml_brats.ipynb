{
  "cells": [
    {
      "cell_type": "markdown",
      "metadata": {
        "id": "rUo6sKbpaLD9"
      },
      "source": []
    },
    {
      "cell_type": "markdown",
      "metadata": {
        "id": "Oysh7mvlaLEC"
      },
      "source": [
        "# TM10007 Group Assignment Machine Learning\n",
        "#### Sara Arman, Judith Essenburg, George Franssen, Naomi Verkerk"
      ]
    },
    {
      "cell_type": "markdown",
      "metadata": {
        "id": "q7fez-EXaLEI"
      },
      "source": [
        "## Google colab environment"
      ]
    },
    {
      "cell_type": "code",
      "execution_count": 174,
      "metadata": {
        "id": "fG3XKbexaLEK"
      },
      "outputs": [],
      "source": [
        "# Run this to use from colab environment\n",
        "#!pip install -q --upgrade git+https://github.com/naomiverkerk/TM10007.git"
      ]
    },
    {
      "cell_type": "markdown",
      "metadata": {
        "id": "KXtjii5YaLEM"
      },
      "source": [
        "## Import\n"
      ]
    },
    {
      "cell_type": "code",
      "execution_count": 1,
      "metadata": {},
      "outputs": [],
      "source": [
        "# General packages\n",
        "import numpy as np \n",
        "import pandas as pd\n",
        "import matplotlib.pyplot as plt\n",
        "from sklearn import datasets as ds\n",
        "import seaborn\n",
        "\n",
        "\n",
        "# Classifiers\n",
        "from sklearn import model_selection\n",
        "from sklearn import metrics\n",
        "from sklearn import feature_selection \n",
        "from sklearn import preprocessing\n",
        "from sklearn import neighbors\n",
        "from sklearn import svm"
      ]
    },
    {
      "cell_type": "code",
      "execution_count": 280,
      "metadata": {
        "id": "PGrE5j8OaLEN"
      },
      "outputs": [],
      "source": [
        "from load_data import load_data\n",
        "import seaborn as sns\n",
        "import matplotlib.pyplot as plt\n",
        "import pandas as pd\n",
        "import numpy as np\n",
        "import warnings\n",
        "import matplotlib as mpl"
      ]
    },
    {
      "cell_type": "markdown",
      "metadata": {
        "id": "pniY-3hqaLEO"
      },
      "source": [
        "## Loading Data"
      ]
    },
    {
      "cell_type": "code",
      "execution_count": 2,
      "metadata": {
        "id": "QJTIWsKoaLEQ",
        "outputId": "0f12d96e-eb0f-4318-fee0-7653efd6b7be"
      },
      "outputs": [
        {
          "ename": "NameError",
          "evalue": "name 'load_data' is not defined",
          "output_type": "error",
          "traceback": [
            "\u001b[1;31m---------------------------------------------------------------------------\u001b[0m",
            "\u001b[1;31mNameError\u001b[0m                                 Traceback (most recent call last)",
            "\u001b[1;32m~\\AppData\\Local\\Temp/ipykernel_24560/884659188.py\u001b[0m in \u001b[0;36m<module>\u001b[1;34m\u001b[0m\n\u001b[1;32m----> 1\u001b[1;33m \u001b[0mdata\u001b[0m \u001b[1;33m=\u001b[0m \u001b[0mload_data\u001b[0m\u001b[1;33m(\u001b[0m\u001b[1;33m)\u001b[0m\u001b[1;33m\u001b[0m\u001b[1;33m\u001b[0m\u001b[0m\n\u001b[0m\u001b[0;32m      2\u001b[0m \u001b[0mx_full\u001b[0m \u001b[1;33m=\u001b[0m \u001b[0mx_full\u001b[0m \u001b[1;33m=\u001b[0m \u001b[0mdata\u001b[0m\u001b[1;33m.\u001b[0m\u001b[0miloc\u001b[0m\u001b[1;33m[\u001b[0m\u001b[1;36m0\u001b[0m\u001b[1;33m:\u001b[0m\u001b[1;36m167\u001b[0m\u001b[1;33m,\u001b[0m \u001b[1;36m0\u001b[0m\u001b[1;33m:\u001b[0m\u001b[1;36m724\u001b[0m\u001b[1;33m]\u001b[0m\u001b[1;33m\u001b[0m\u001b[1;33m\u001b[0m\u001b[0m\n\u001b[0;32m      3\u001b[0m \u001b[0my_full\u001b[0m \u001b[1;33m=\u001b[0m \u001b[0mdata\u001b[0m\u001b[1;33m.\u001b[0m\u001b[0mlabel\u001b[0m\u001b[1;33m\u001b[0m\u001b[1;33m\u001b[0m\u001b[0m\n",
            "\u001b[1;31mNameError\u001b[0m: name 'load_data' is not defined"
          ]
        }
      ],
      "source": [
        "data = load_data() \n",
        "x_full = x_full = data.iloc[0:167, 0:724]\n",
        "y_full = data.label"
      ]
    },
    {
      "cell_type": "code",
      "execution_count": null,
      "metadata": {},
      "outputs": [],
      "source": [
        "# Checken of div weggehaald is\n",
        "# data = data.replace('#DIV/0!', np.nan)\n",
        "# data2 = data.iloc[155:158, 7:9]\n",
        "# data2"
      ]
    },
    {
      "cell_type": "markdown",
      "metadata": {},
      "source": [
        "## Describing Data"
      ]
    },
    {
      "cell_type": "code",
      "execution_count": 299,
      "metadata": {},
      "outputs": [
        {
          "name": "stdout",
          "output_type": "stream",
          "text": [
            "The number of samples/patients: 167\n",
            "The number of columns/features: 725\n",
            "Number of GBM:  102\n",
            "Number of LGG:  65\n"
          ]
        },
        {
          "data": {
            "image/png": "[encoded data removed]",
            "text/plain": [
              "<Figure size 432x288 with 1 Axes>"
            ]
          },
          "metadata": {
            "needs_background": "light"
          },
          "output_type": "display_data"
        }
      ],
      "source": [
        "print(f'The number of samples/patients: {len(data.index)}') #rows\n",
        "print(f'The number of columns/features: {len(data.columns)}') #columns\n",
        "\n",
        "ax = sns.countplot(y,label=\"Count\")     \n",
        "warnings.warn(\"ignore\")\n",
        "GBM, LGG = y_full.value_counts()\n",
        "print('Number of GBM: ',GBM)\n",
        "print('Number of LGG: ',LGG)"
      ]
    },
    {
      "cell_type": "markdown",
      "metadata": {
        "id": "EdKj92AxaLET"
      },
      "source": [
        "## Splitting in train and test data"
      ]
    },
    {
      "cell_type": "code",
      "execution_count": 180,
      "metadata": {
        "id": "mv37eW8iaLEV"
      },
      "outputs": [],
      "source": [
        "# the code to split, after that we inspect the data"
      ]
    },
    {
      "cell_type": "markdown",
      "metadata": {
        "id": "AdB0ncaxaLEW"
      },
      "source": [
        "## Checking/exploring the dataset"
      ]
    },
    {
      "cell_type": "code",
      "execution_count": 289,
      "metadata": {
        "id": "Cf-0fnasaLEX",
        "outputId": "396075dd-c09a-46af-b547-e6bac5095ba3"
      },
      "outputs": [
        {
          "name": "stdout",
          "output_type": "stream",
          "text": [
            "724\n",
            "1\n",
            "Index(['label'], dtype='object')\n"
          ]
        }
      ],
      "source": [
        "data.dtypes == 'object'\n",
        "# Seperate numerical variables and categorical variables\n",
        "num_vars = data.columns[data.dtypes != 'object']\n",
        "cat_vars = data.columns[data.dtypes == 'object']\n",
        "\n",
        "print(len(num_vars))\n",
        "print(len(cat_vars))\n",
        "print(cat_vars)\n",
        "\n"
      ]
    },
    {
      "cell_type": "code",
      "execution_count": 291,
      "metadata": {},
      "outputs": [],
      "source": [
        "GBM = data[data.label == 'GBM']\n",
        "LGG = data[data.label == 'LGG']"
      ]
    },
    {
      "cell_type": "code",
      "execution_count": 184,
      "metadata": {
        "id": "LEl3UCLuaLEZ",
        "outputId": "51a7fc7e-1635-43fd-9602-bfe40c39c4f9"
      },
      "outputs": [],
      "source": [
        "# # to check which features have most missing values\n",
        "# missing_values = data[num_vars].isnull().sum().sort_values(ascending=False)\n",
        "# missing_values_multiple = (missing_values > 0).sum()\n",
        "\n",
        "# print(missing_values)\n",
        "# print(f'The total number of features with 1 or more missing values is {missing_values_multiple}')\n",
        "\n"
      ]
    },
    {
      "cell_type": "code",
      "execution_count": 301,
      "metadata": {},
      "outputs": [],
      "source": [
        "# saving missing values in a variable\n",
        "a = pd.isna(data).sum()/len(data)*100\n",
        "\n",
        "# saving column names in a variable\n",
        "variables = data.columns\n",
        "\n",
        "# new variable to store variables having missing values less than a threshold\n",
        "\n",
        "variable = [ ]\n",
        "\n",
        "for i in range(data.columns.shape[0]):\n",
        "    if a[i]<=40: #setting the threshold as 40%\n",
        "        variable.append(variables[i])\n",
        "\n",
        "variable   \n",
        "\n",
        "# creating a new dataframe using the above variables\n",
        "data = data[variable]\n",
        "\n",
        "# percentage of missing values in each variable of new data\n",
        "p = pd.isna(data).sum()/len(data)*100\n"
      ]
    },
    {
      "cell_type": "code",
      "execution_count": 386,
      "metadata": {},
      "outputs": [
        {
          "data": {
            "text/plain": [
              "VOLUME_ET_OVER_ED                     0.598802\n",
              "VOLUME_NET_OVER_ED                    0.598802\n",
              "INTENSITY_Mean_ET_T1Gd               11.976048\n",
              "INTENSITY_STD_ET_T1Gd                11.976048\n",
              "INTENSITY_Mean_ET_T1                 11.976048\n",
              "                                       ...    \n",
              "TEXTURE_NGTDM_ED_FLAIR_Coarseness     0.598802\n",
              "TEXTURE_NGTDM_ED_FLAIR_Contrast       0.598802\n",
              "TEXTURE_NGTDM_ED_FLAIR_Busyness       0.598802\n",
              "TEXTURE_NGTDM_ED_FLAIR_Complexity     0.598802\n",
              "TEXTURE_NGTDM_ED_FLAIR_Strength       0.598802\n",
              "Length: 446, dtype: float64"
            ]
          },
          "execution_count": 386,
          "metadata": {},
          "output_type": "execute_result"
        }
      ],
      "source": [
        "p3 = p[p>0]\n",
        "\n",
        "p3"
      ]
    },
    {
      "cell_type": "code",
      "execution_count": 459,
      "metadata": {},
      "outputs": [
        {
          "name": "stdout",
          "output_type": "stream",
          "text": [
            "21\n"
          ]
        },
        {
          "data": {
            "text/plain": [
              "ID\n",
              "TCGA-CS-4944    68.510638\n",
              "TCGA-CS-5397    68.510638\n",
              "TCGA-CS-6665    68.510638\n",
              "TCGA-CS-6666    68.510638\n",
              "TCGA-CS-6669    68.510638\n",
              "TCGA-DU-5874    68.510638\n",
              "TCGA-DU-7008    68.510638\n",
              "TCGA-DU-7019    68.510638\n",
              "TCGA-DU-7299    68.510638\n",
              "TCGA-DU-8162    68.510638\n",
              "TCGA-DU-8164    68.510638\n",
              "TCGA-DU-8166    68.510638\n",
              "TCGA-DU-A5TS    68.510638\n",
              "TCGA-DU-A5TU    68.510638\n",
              "TCGA-FG-6691    68.510638\n",
              "TCGA-FG-7634    68.510638\n",
              "TCGA-HT-7602    68.510638\n",
              "TCGA-HT-7686    68.226950\n",
              "TCGA-HT-7879    68.510638\n",
              "TCGA-HT-7884    68.510638\n",
              "TCGA-HT-A61A    68.510638\n",
              "dtype: float64"
            ]
          },
          "execution_count": 459,
          "metadata": {},
          "output_type": "execute_result"
        }
      ],
      "source": [
        "k = data.apply(lambda x: x.count(), axis=1)\n",
        "\n",
        "k2 = k[k<705]\n",
        "\n",
        "print(len(k2))\n",
        "\n",
        "\n",
        "a3 = k2/data.shape[1]*100\n",
        "a3 "
      ]
    },
    {
      "cell_type": "code",
      "execution_count": 430,
      "metadata": {},
      "outputs": [
        {
          "data": {
            "text/plain": [
              "Int64Index([2], dtype='int64')"
            ]
          },
          "execution_count": 430,
          "metadata": {},
          "output_type": "execute_result"
        }
      ],
      "source": [
        "# g = {'a': [1,2,3], 'b': [4,5,6]}\n",
        "# g = pd.DataFrame(g)\n",
        "\n",
        "# index = g.index\n",
        "# condition = g[\"a\"] == 3\n",
        "# indec = index[condition]\n",
        "# indec"
      ]
    },
    {
      "cell_type": "code",
      "execution_count": 451,
      "metadata": {},
      "outputs": [
        {
          "data": {
            "text/plain": [
              "'DIST_Vent_ED'"
            ]
          },
          "execution_count": 451,
          "metadata": {},
          "output_type": "execute_result"
        }
      ],
      "source": [
        "c = data.iloc[:,:].isin([np.inf, -np.inf]).sum()\n",
        "c2 = c[c>0]\n",
        "\n",
        "c2.index[0]"
      ]
    },
    {
      "cell_type": "code",
      "execution_count": 457,
      "metadata": {},
      "outputs": [
        {
          "data": {
            "text/plain": [
              "'TCGA-HT-7686'"
            ]
          },
          "execution_count": 457,
          "metadata": {},
          "output_type": "execute_result"
        }
      ],
      "source": [
        "# Finding data point with inf\n",
        "infinite = data.iloc[:,:].isin([np.inf, -np.inf]).sum()\n",
        "col_inf = infinite[infinite>0]\n",
        "\n",
        "index_inf = data.index\n",
        "condition_inf = data[col_inf.index[0]].isin([np.inf, -np.inf])\n",
        "row_inf = index_inf[condition_inf][0]\n",
        "\n",
        "row_inf"
      ]
    },
    {
      "cell_type": "code",
      "execution_count": 307,
      "metadata": {},
      "outputs": [],
      "source": [
        "data_columns_name = data.columns\n"
      ]
    },
    {
      "cell_type": "code",
      "execution_count": 188,
      "metadata": {},
      "outputs": [],
      "source": [
        "total_upper = []\n",
        "total_lower = []\n",
        "len_out = 167\n",
        "\n",
        "for i in range(0,len_out):\n",
        "    Q1 = np.percentile(data[data_columns_name[i]], 25, interpolation = 'midpoint')\n",
        "    Q3 = np.percentile(data[data_columns_name[i]], 75, interpolation = 'midpoint')\n",
        "\n",
        "    IQR = Q3 - Q1\n",
        "\n",
        "    upper = Q3 + 1.5*IQR\n",
        "    lower = Q1 - 1.5*IQR\n",
        "\n",
        "    upper_list = data[data_columns_name[i]] >= (Q3+1.5*IQR)\n",
        "        \n",
        "    # Below Lower bound\n",
        "    lower_list = data[data_columns_name[i]] <= (Q1-1.5*IQR)\n",
        "    \n",
        "    total_upper.append(upper_list.sum())\n",
        "    total_lower.append(lower_list.sum())\n",
        "\n",
        "    upper_list_values = data[data_columns_name[i]][upper_list]\n",
        "    lower_list_values = data[data_columns_name[i]][lower_list]\n",
        "\n"
      ]
    },
    {
      "cell_type": "code",
      "execution_count": 308,
      "metadata": {},
      "outputs": [],
      "source": [
        "Id = list(data.index)\n",
        "\n",
        "df = {  'ID': Id[0:len_out],\n",
        "        'Upper outliers':  total_upper,\n",
        "        'Lower outliers': total_lower,\n",
        "\n",
        "        }\n",
        "\n",
        "df = pd.DataFrame(df)\n",
        "df['Total'] = df['Upper outliers'] + df['Lower outliers']\n",
        "\n",
        "df = pd.DataFrame(df)\n"
      ]
    },
    {
      "cell_type": "code",
      "execution_count": 309,
      "metadata": {},
      "outputs": [],
      "source": [
        "for i in range(0, len(y_full)):\n",
        "    if y_full[i] == \"GBM\":\n",
        "        y_full[i] = 1\n",
        "    else:\n",
        "        y_full[i] = 0"
      ]
    },
    {
      "cell_type": "code",
      "execution_count": 310,
      "metadata": {},
      "outputs": [],
      "source": [
        "distributions = []\n",
        "\n",
        "for i in range(0,100):\n",
        "    features = [x_full.columns[i], x_full.columns[i+1]]\n",
        "    features_idx = [data.columns.get_loc(feature) for feature in features]\n",
        "    X = x_full.iloc[:, features_idx]\n",
        "    distributions.append((features, X))"
      ]
    },
    {
      "cell_type": "code",
      "execution_count": 311,
      "metadata": {},
      "outputs": [],
      "source": [
        "from sklearn.preprocessing import minmax_scale\n",
        "from matplotlib import cm\n",
        "\n",
        "# scale the output between 0 and 1 for the colorbar\n",
        "y = minmax_scale(y_full)\n",
        "\n",
        "# plasma does not exist in matplotlib < 1.5\n",
        "cmap = getattr(cm, \"plasma_r\", cm.hot_r)"
      ]
    },
    {
      "cell_type": "code",
      "execution_count": 312,
      "metadata": {},
      "outputs": [],
      "source": [
        "def create_axes(title, figsize=(8, 4)):\n",
        "    fig = plt.figure(figsize=figsize)\n",
        "    fig.suptitle(title)\n",
        "\n",
        "    # define the axis for the first plot\n",
        "    left, width = 0.1, 0.22\n",
        "    bottom, height = 0.1, 0.7\n",
        "    bottom_h = height + 0.15\n",
        "    left_h = left + width + 0.02\n",
        "\n",
        "    rect_scatter = [left, bottom, width, height]\n",
        "    rect_histx = [left, bottom_h, width, 0.1]\n",
        "    rect_histy = [left_h, bottom, 0.05, height]\n",
        "\n",
        "    ax_scatter = plt.axes(rect_scatter)\n",
        "    ax_histx = plt.axes(rect_histx)\n",
        "    ax_histy = plt.axes(rect_histy)\n",
        "\n",
        "    # define the axis for the zoomed-in plot\n",
        "    left = width + left + 0.2\n",
        "    left_h = left + width + 0.02\n",
        "\n",
        "    rect_scatter = [left, bottom, width, height]\n",
        "    rect_histx = [left, bottom_h, width, 0.1]\n",
        "    rect_histy = [left_h, bottom, 0.05, height]\n",
        "\n",
        "    ax_scatter_zoom = plt.axes(rect_scatter)\n",
        "    ax_histx_zoom = plt.axes(rect_histx)\n",
        "    ax_histy_zoom = plt.axes(rect_histy)\n",
        "\n",
        "    # define the axis for the colorbar\n",
        "    left, width = width + left + 0.13, 0.01\n",
        "\n",
        "    rect_colorbar = [left, bottom, width, height]\n",
        "    ax_colorbar = plt.axes(rect_colorbar)\n",
        "\n",
        "    return (\n",
        "        (ax_scatter, ax_histy, ax_histx),\n",
        "        (ax_scatter_zoom, ax_histy_zoom, ax_histx_zoom),\n",
        "        ax_colorbar,\n",
        "    )"
      ]
    },
    {
      "cell_type": "code",
      "execution_count": 313,
      "metadata": {},
      "outputs": [],
      "source": [
        "def plot_distribution(axes, X, y, hist_nbins=50, title=\"\", x0_label=\"\", x1_label=\"\"):\n",
        "    ax, hist_X1, hist_X0 = axes\n",
        "\n",
        "    ax.set_title(title)\n",
        "    ax.set_xlabel(x0_label)\n",
        "    ax.set_ylabel(x1_label)\n",
        "\n",
        "    # The scatter plot\n",
        "    colors = cmap(y)\n",
        "    ax.scatter(X.iloc[:, 0], X.iloc[:, 1], alpha=0.5, marker=\"o\", s=5, lw=0, c=colors)\n",
        "\n",
        "    # Removing the top and the right spine for aesthetics\n",
        "    # make nice axis layout\n",
        "    ax.spines[\"top\"].set_visible(False)\n",
        "    ax.spines[\"right\"].set_visible(False)\n",
        "    ax.get_xaxis().tick_bottom()\n",
        "    ax.get_yaxis().tick_left()\n",
        "    ax.spines[\"left\"].set_position((\"outward\", 10))\n",
        "    ax.spines[\"bottom\"].set_position((\"outward\", 10))\n",
        "\n",
        "    # Histogram for axis X1 (feature 5)\n",
        "    hist_X1.set_ylim(ax.get_ylim())\n",
        "    hist_X1.hist(\n",
        "        X.iloc[:, 1], bins=hist_nbins, orientation=\"horizontal\", color=\"grey\", ec=\"grey\"\n",
        "    )\n",
        "    hist_X1.axis(\"off\")\n",
        "\n",
        "    # Histogram for axis X0 (feature 0)\n",
        "    hist_X0.set_xlim(ax.get_xlim())\n",
        "    hist_X0.hist(\n",
        "        X.iloc[:, 0], bins=hist_nbins, orientation=\"vertical\", color=\"grey\", ec=\"grey\"\n",
        "    )\n",
        "    hist_X0.axis(\"off\")"
      ]
    },
    {
      "cell_type": "code",
      "execution_count": 314,
      "metadata": {},
      "outputs": [],
      "source": [
        "def make_plot(item_idx):\n",
        "    title, X = distributions[item_idx]\n",
        "    ax_zoom_out, ax_zoom_in, ax_colorbar = create_axes(title)\n",
        "    axarr = (ax_zoom_out, ax_zoom_in)\n",
        "    plot_distribution(\n",
        "        axarr[0],\n",
        "        X,\n",
        "        y,\n",
        "        hist_nbins=200,\n",
        "        x0_label=title[0],\n",
        "        x1_label=title[1],\n",
        "        title=\"Full data\",\n",
        "    )\n",
        "\n",
        "    # zoom-in\n",
        "    zoom_in_percentile_range = (0, 99)\n",
        "    cutoffs_X0 = np.percentile(X.iloc[:, 0], zoom_in_percentile_range)\n",
        "    cutoffs_X1 = np.percentile(X.iloc[:, 1], zoom_in_percentile_range)\n",
        "\n",
        "    non_outliers_mask = np.all(X > [cutoffs_X0[0], cutoffs_X1[0]], axis=1) & np.all(\n",
        "        X < [cutoffs_X0[1], cutoffs_X1[1]], axis=1\n",
        "    )\n",
        "    plot_distribution(\n",
        "        axarr[1],\n",
        "        X[non_outliers_mask],\n",
        "        y[non_outliers_mask],\n",
        "        hist_nbins=50,\n",
        "        x0_label=title[0],\n",
        "        x1_label=title[1],\n",
        "        title=\"Zoom-in\",\n",
        "    )\n",
        "\n",
        "    norm = mpl.colors.Normalize(y_full.min(), y_full.max())\n",
        "    mpl.colorbar.ColorbarBase(\n",
        "        ax_colorbar,\n",
        "        cmap=cmap,\n",
        "        norm=norm,\n",
        "        orientation=\"vertical\",\n",
        "        label=\"Color mapping for values of y\",\n",
        "    )"
      ]
    },
    {
      "cell_type": "code",
      "execution_count": 315,
      "metadata": {},
      "outputs": [
        {
          "data": {
            "image/png": "[encoded data removed]",
            "text/plain": [
              "<Figure size 576x288 with 7 Axes>"
            ]
          },
          "metadata": {
            "needs_background": "light"
          },
          "output_type": "display_data"
        }
      ],
      "source": [
        "make_plot(0)"
      ]
    },
    {
      "cell_type": "markdown",
      "metadata": {},
      "source": [
        "## Missing Data "
      ]
    },
    {
      "cell_type": "code",
      "execution_count": 335,
      "metadata": {},
      "outputs": [
        {
          "ename": "TypeError",
          "evalue": "unhashable type: 'Series'",
          "output_type": "error",
          "traceback": [
            "\u001b[1;31m---------------------------------------------------------------------------\u001b[0m",
            "\u001b[1;31mTypeError\u001b[0m                                 Traceback (most recent call last)",
            "\u001b[1;32m~\\AppData\\Local\\Temp/ipykernel_23864/3798814823.py\u001b[0m in \u001b[0;36m<module>\u001b[1;34m\u001b[0m\n\u001b[1;32m----> 1\u001b[1;33m \u001b[0mp\u001b[0m\u001b[1;33m.\u001b[0m\u001b[0mloc\u001b[0m\u001b[1;33m(\u001b[0m\u001b[0mp\u001b[0m\u001b[1;33m>\u001b[0m\u001b[1;36m0\u001b[0m\u001b[1;33m)\u001b[0m\u001b[1;33m\u001b[0m\u001b[1;33m\u001b[0m\u001b[0m\n\u001b[0m",
            "\u001b[1;32m~\\miniconda3\\lib\\site-packages\\pandas\\core\\indexing.py\u001b[0m in \u001b[0;36m__call__\u001b[1;34m(self, axis)\u001b[0m\n\u001b[0;32m    635\u001b[0m \u001b[1;33m\u001b[0m\u001b[0m\n\u001b[0;32m    636\u001b[0m         \u001b[1;32mif\u001b[0m \u001b[0maxis\u001b[0m \u001b[1;32mis\u001b[0m \u001b[1;32mnot\u001b[0m \u001b[1;32mNone\u001b[0m\u001b[1;33m:\u001b[0m\u001b[1;33m\u001b[0m\u001b[1;33m\u001b[0m\u001b[0m\n\u001b[1;32m--> 637\u001b[1;33m             \u001b[0maxis\u001b[0m \u001b[1;33m=\u001b[0m \u001b[0mself\u001b[0m\u001b[1;33m.\u001b[0m\u001b[0mobj\u001b[0m\u001b[1;33m.\u001b[0m\u001b[0m_get_axis_number\u001b[0m\u001b[1;33m(\u001b[0m\u001b[0maxis\u001b[0m\u001b[1;33m)\u001b[0m\u001b[1;33m\u001b[0m\u001b[1;33m\u001b[0m\u001b[0m\n\u001b[0m\u001b[0;32m    638\u001b[0m         \u001b[0mnew_self\u001b[0m\u001b[1;33m.\u001b[0m\u001b[0maxis\u001b[0m \u001b[1;33m=\u001b[0m \u001b[0maxis\u001b[0m\u001b[1;33m\u001b[0m\u001b[1;33m\u001b[0m\u001b[0m\n\u001b[0;32m    639\u001b[0m         \u001b[1;32mreturn\u001b[0m \u001b[0mnew_self\u001b[0m\u001b[1;33m\u001b[0m\u001b[1;33m\u001b[0m\u001b[0m\n",
            "\u001b[1;32m~\\miniconda3\\lib\\site-packages\\pandas\\core\\generic.py\u001b[0m in \u001b[0;36m_get_axis_number\u001b[1;34m(cls, axis)\u001b[0m\n\u001b[0;32m    544\u001b[0m     \u001b[1;32mdef\u001b[0m \u001b[0m_get_axis_number\u001b[0m\u001b[1;33m(\u001b[0m\u001b[0mcls\u001b[0m\u001b[1;33m,\u001b[0m \u001b[0maxis\u001b[0m\u001b[1;33m:\u001b[0m \u001b[0mAxis\u001b[0m\u001b[1;33m)\u001b[0m \u001b[1;33m->\u001b[0m \u001b[0mint\u001b[0m\u001b[1;33m:\u001b[0m\u001b[1;33m\u001b[0m\u001b[1;33m\u001b[0m\u001b[0m\n\u001b[0;32m    545\u001b[0m         \u001b[1;32mtry\u001b[0m\u001b[1;33m:\u001b[0m\u001b[1;33m\u001b[0m\u001b[1;33m\u001b[0m\u001b[0m\n\u001b[1;32m--> 546\u001b[1;33m             \u001b[1;32mreturn\u001b[0m \u001b[0mcls\u001b[0m\u001b[1;33m.\u001b[0m\u001b[0m_AXIS_TO_AXIS_NUMBER\u001b[0m\u001b[1;33m[\u001b[0m\u001b[0maxis\u001b[0m\u001b[1;33m]\u001b[0m\u001b[1;33m\u001b[0m\u001b[1;33m\u001b[0m\u001b[0m\n\u001b[0m\u001b[0;32m    547\u001b[0m         \u001b[1;32mexcept\u001b[0m \u001b[0mKeyError\u001b[0m\u001b[1;33m:\u001b[0m\u001b[1;33m\u001b[0m\u001b[1;33m\u001b[0m\u001b[0m\n\u001b[0;32m    548\u001b[0m             \u001b[1;32mraise\u001b[0m \u001b[0mValueError\u001b[0m\u001b[1;33m(\u001b[0m\u001b[1;34mf\"No axis named {axis} for object type {cls.__name__}\"\u001b[0m\u001b[1;33m)\u001b[0m\u001b[1;33m\u001b[0m\u001b[1;33m\u001b[0m\u001b[0m\n",
            "\u001b[1;31mTypeError\u001b[0m: unhashable type: 'Series'"
          ]
        }
      ],
      "source": [
        "p.loc(p>0)"
      ]
    },
    {
      "cell_type": "code",
      "execution_count": 340,
      "metadata": {},
      "outputs": [
        {
          "name": "stdout",
          "output_type": "stream",
          "text": [
            "VOLUME_ET_OVER_ED                     0.598802\n",
            "VOLUME_NET_OVER_ED                    0.598802\n",
            "INTENSITY_Mean_ET_T1Gd               11.976048\n",
            "INTENSITY_STD_ET_T1Gd                11.976048\n",
            "INTENSITY_Mean_ET_T1                 11.976048\n",
            "                                       ...    \n",
            "TEXTURE_NGTDM_ED_FLAIR_Coarseness     0.598802\n",
            "TEXTURE_NGTDM_ED_FLAIR_Contrast       0.598802\n",
            "TEXTURE_NGTDM_ED_FLAIR_Busyness       0.598802\n",
            "TEXTURE_NGTDM_ED_FLAIR_Complexity     0.598802\n",
            "TEXTURE_NGTDM_ED_FLAIR_Strength       0.598802\n",
            "Length: 446, dtype: float64\n",
            "Index(['VOLUME_ET_OVER_ED', 'VOLUME_NET_OVER_ED', 'INTENSITY_Mean_ET_T1Gd',\n",
            "       'INTENSITY_STD_ET_T1Gd', 'INTENSITY_Mean_ET_T1', 'INTENSITY_STD_ET_T1',\n",
            "       'INTENSITY_Mean_ET_T2', 'INTENSITY_STD_ET_T2',\n",
            "       'INTENSITY_Mean_ET_FLAIR', 'INTENSITY_STD_ET_FLAIR',\n",
            "       ...\n",
            "       'TEXTURE_NGTDM_ED_T2_Coarseness', 'TEXTURE_NGTDM_ED_T2_Contrast',\n",
            "       'TEXTURE_NGTDM_ED_T2_Busyness', 'TEXTURE_NGTDM_ED_T2_Complexity',\n",
            "       'TEXTURE_NGTDM_ED_T2_Strength', 'TEXTURE_NGTDM_ED_FLAIR_Coarseness',\n",
            "       'TEXTURE_NGTDM_ED_FLAIR_Contrast', 'TEXTURE_NGTDM_ED_FLAIR_Busyness',\n",
            "       'TEXTURE_NGTDM_ED_FLAIR_Complexity', 'TEXTURE_NGTDM_ED_FLAIR_Strength'],\n",
            "      dtype='object', length=446)\n"
          ]
        }
      ],
      "source": [
        "missing_value = p[p>0]\n",
        "print(missing_value)\n",
        "index = missing_value.index\n",
        "print(index)\n"
      ]
    },
    {
      "cell_type": "code",
      "execution_count": 328,
      "metadata": {},
      "outputs": [],
      "source": [
        "pd.DataFrame(p)\n",
        "\n",
        "with open('percentage.txt', 'a') as f:\n",
        "    percentage = p.to_string(header=False, index=False)\n",
        "    f.write(percentage)\n",
        "    f.close()"
      ]
    },
    {
      "cell_type": "markdown",
      "metadata": {},
      "source": [
        "## Splitting"
      ]
    },
    {
      "cell_type": "code",
      "execution_count": 460,
      "metadata": {},
      "outputs": [
        {
          "ename": "NameError",
          "evalue": "name 'model_selection' is not defined",
          "output_type": "error",
          "traceback": [
            "\u001b[1;31m---------------------------------------------------------------------------\u001b[0m",
            "\u001b[1;31mNameError\u001b[0m                                 Traceback (most recent call last)",
            "\u001b[1;32m~\\AppData\\Local\\Temp/ipykernel_23864/980132930.py\u001b[0m in \u001b[0;36m<module>\u001b[1;34m\u001b[0m\n\u001b[0;32m      1\u001b[0m \u001b[1;32mimport\u001b[0m \u001b[0mwarnings\u001b[0m\u001b[1;33m\u001b[0m\u001b[1;33m\u001b[0m\u001b[0m\n\u001b[0;32m      2\u001b[0m \u001b[1;31m# Create a 20 fold stratified CV iterator\u001b[0m\u001b[1;33m\u001b[0m\u001b[1;33m\u001b[0m\u001b[1;33m\u001b[0m\u001b[0m\n\u001b[1;32m----> 3\u001b[1;33m \u001b[0mcv_20fold\u001b[0m \u001b[1;33m=\u001b[0m \u001b[0mmodel_selection\u001b[0m\u001b[1;33m.\u001b[0m\u001b[0mStratifiedKFold\u001b[0m\u001b[1;33m(\u001b[0m\u001b[0mn_splits\u001b[0m\u001b[1;33m=\u001b[0m\u001b[1;36m10\u001b[0m\u001b[1;33m)\u001b[0m\u001b[1;33m\u001b[0m\u001b[1;33m\u001b[0m\u001b[0m\n\u001b[0m\u001b[0;32m      4\u001b[0m \u001b[0mresults\u001b[0m \u001b[1;33m=\u001b[0m \u001b[1;33m[\u001b[0m\u001b[1;33m]\u001b[0m\u001b[1;33m\u001b[0m\u001b[1;33m\u001b[0m\u001b[0m\n\u001b[0;32m      5\u001b[0m \u001b[0mbest_n_neighbors\u001b[0m \u001b[1;33m=\u001b[0m \u001b[1;33m[\u001b[0m\u001b[1;33m]\u001b[0m\u001b[1;33m\u001b[0m\u001b[1;33m\u001b[0m\u001b[0m\n",
            "\u001b[1;31mNameError\u001b[0m: name 'model_selection' is not defined"
          ]
        }
      ],
      "source": [
        "import warnings\n",
        "# Create a 20 fold stratified CV iterator\n",
        "cv_20fold = model_selection.StratifiedKFold(n_splits=10)\n",
        "results = []\n",
        "best_n_neighbors = []\n",
        "\n",
        "# Loop over the folds\n",
        "for validation_index, test_index in cv_20fold.split(X2, y2):\n",
        "    # Split the data properly\n",
        "    X_validation = X2[validation_index]\n",
        "    y_validation = y2[validation_index]\n",
        "   \n",
        "    X_test = X2[test_index]\n",
        "    y_test = y2[test_index]\n",
        "    \n",
        "    "
      ]
    },
    {
      "cell_type": "markdown",
      "metadata": {},
      "source": [
        "## Scaling"
      ]
    },
    {
      "cell_type": "code",
      "execution_count": null,
      "metadata": {},
      "outputs": [],
      "source": [
        "from sklearn.preprocessing import RobustScaler"
      ]
    },
    {
      "cell_type": "code",
      "execution_count": null,
      "metadata": {},
      "outputs": [],
      "source": [
        "scaler = preprocessing.StandardScaler()\n",
        "scaler.fit(X_train)\n",
        "X_train_scaled = scaler.transform(X_train)\n",
        "X_test_scaled = scaler.transform(X_test)"
      ]
    },
    {
      "cell_type": "code",
      "execution_count": null,
      "metadata": {},
      "outputs": [],
      "source": []
    },
    {
      "cell_type": "markdown",
      "metadata": {},
      "source": [
        "## PCA"
      ]
    },
    {
      "cell_type": "code",
      "execution_count": null,
      "metadata": {},
      "outputs": [],
      "source": [
        "from sklearn.decomposition import PCA\n",
        "pca = PCA()\n",
        "pca.fit(X_train_scaled)\n",
        "cumsum = np.cumsum(pca.explained_variance_ratio_)\n",
        "plt.plot(cumsum)\n",
        "plt.xlabel('number of components')\n",
        "plt.ylabel('cumulative explained variance')"
      ]
    },
    {
      "cell_type": "markdown",
      "metadata": {},
      "source": [
        "## Clasiffier"
      ]
    },
    {
      "cell_type": "code",
      "execution_count": null,
      "metadata": {},
      "outputs": [],
      "source": [
        "parameters = {\"n_neighbors\": list(range(1, 12, 2))}\n",
        "    knn = neighbors.KNeighborsClassifier()\n",
        "    cv_10fold = model_selection.StratifiedKFold(n_splits=5)\n",
        "    grid_search = model_selection.GridSearchCV(knn, parameters, cv=cv_10fold, scoring='roc_auc')\n",
        "    grid_search.fit(X_validation, y_validation)\n",
        "\n",
        "    # Get resulting classifier\n",
        "    clf = grid_search.best_estimator_\n",
        "    print(f'Best classifier: k={clf.n_neighbors}')\n",
        "    best_n_neighbors.append(clf.n_neighbors)\n",
        "    \n",
        "    # Test the classifier on the test data\n",
        "    probabilities = clf.predict_proba(X_test)\n",
        "    scores = probabilities[:, 1]\n",
        "    \n",
        "    # Get the auc\n",
        "    auc = metrics.roc_auc_score(y_test, scores)\n",
        "    results.append({\n",
        "        'auc': auc,\n",
        "        'k': clf.n_neighbors,\n",
        "        'set': 'test'\n",
        "    })\n",
        "    \n",
        "    # Test the classifier on the validation data\n",
        "    probabilities_validation = clf.predict_proba(X_validation)\n",
        "    scores_validation = probabilities_validation[:, 1]\n",
        "    \n",
        "    # Get the auc\n",
        "    auc_validation = metrics.roc_auc_score(y_validation, scores_validation)\n",
        "    results.append({\n",
        "        'auc': auc_validation,\n",
        "        'k': clf.n_neighbors,\n",
        "        'set': 'validation'\n",
        "    })\n",
        "    \n",
        "# Create results dataframe and plot it\n",
        "results = pd.DataFrame(results)\n",
        "seaborn.boxplot(y='auc', x='set', data=results)\n",
        "\n",
        "optimal_n = int(np.median(best_n_neighbors))\n",
        "print(f\"The optimal N={optimal_n}\")"
      ]
    }
  ],
  "metadata": {
    "colab": {
      "name": "assignment_ml_brats.ipynb",
      "provenance": [],
      "toc_visible": true
    },
    "interpreter": {
      "hash": "99c346a2273ffdba9d13565a7efa8a03dbcb19c3f8c63eac036f68118855a3ce"
    },
    "kernelspec": {
      "display_name": "Python 3.9.5 ('base')",
      "language": "python",
      "name": "python3"
    },
    "language_info": {
      "codemirror_mode": {
        "name": "ipython",
        "version": 3
      },
      "file_extension": ".py",
      "mimetype": "text/x-python",
      "name": "python",
      "nbconvert_exporter": "python",
      "pygments_lexer": "ipython3",
      "version": "3.8.10"
    },
    "orig_nbformat": 4
  },
  "nbformat": 4,
  "nbformat_minor": 0
}

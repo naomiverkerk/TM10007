{
  "cells": [
    {
      "cell_type": "markdown",
      "metadata": {
        "id": "rUo6sKbpaLD9"
      },
      "source": []
    },
    {
      "cell_type": "markdown",
      "metadata": {
        "id": "Oysh7mvlaLEC"
      },
      "source": [
        "# TM10007 Group Assignment Machine Learning\n",
        "#### Sara Arman, Judith Essenburg, George Franssen, Naomi Verkerk"
      ]
    },
    {
      "cell_type": "markdown",
      "metadata": {
        "id": "q7fez-EXaLEI"
      },
      "source": [
        "## Google colab environment"
      ]
    },
    {
      "cell_type": "code",
      "execution_count": 30,
      "metadata": {
        "id": "fG3XKbexaLEK"
      },
      "outputs": [],
      "source": [
        "# Run this to use from colab environment\n",
        "#!pip install -q --upgrade git+https://github.com/naomiverkerk/TM10007.git"
      ]
    },
    {
      "cell_type": "markdown",
      "metadata": {
        "id": "KXtjii5YaLEM"
      },
      "source": [
        "## Import\n"
      ]
    },
    {
      "cell_type": "code",
      "execution_count": 176,
      "metadata": {},
      "outputs": [],
      "source": [
        "from load_data import load_data\n",
        "\n",
        "# General packages\n",
        "import numpy as np \n",
        "import pandas as pd\n",
        "import matplotlib.pyplot as plt\n",
        "import matplotlib as mpl\n",
        "from sklearn import datasets as ds\n",
        "import seaborn as sns\n",
        "import numpy as np\n",
        "import warnings\n",
        "\n",
        "\n",
        "# Classifiers\n",
        "from sklearn import model_selection\n",
        "from sklearn import metrics\n",
        "from sklearn import feature_selection \n",
        "from sklearn import preprocessing\n",
        "from sklearn import neighbors\n",
        "from sklearn import svm"
      ]
    },
    {
      "cell_type": "markdown",
      "metadata": {
        "id": "pniY-3hqaLEO"
      },
      "source": [
        "## Loading Data"
      ]
    },
    {
      "cell_type": "code",
      "execution_count": 237,
      "metadata": {
        "id": "QJTIWsKoaLEQ",
        "outputId": "0f12d96e-eb0f-4318-fee0-7653efd6b7be"
      },
      "outputs": [],
      "source": [
        "data = load_data() \n",
        "# x_full = data.iloc[0:167, 0:724]\n",
        "# y_full = data.label"
      ]
    },
    {
      "cell_type": "code",
      "execution_count": 250,
      "metadata": {},
      "outputs": [
        {
          "data": {
            "text/plain": [
              "(146, 704)"
            ]
          },
          "execution_count": 250,
          "metadata": {},
          "output_type": "execute_result"
        }
      ],
      "source": [
        "X = data.iloc[:,0:data.shape[1]-1]\n",
        "y = data.label\n",
        "data_columns_name = data.columns\n",
        "\n",
        "X.shape\n",
        "\n"
      ]
    },
    {
      "cell_type": "code",
      "execution_count": 240,
      "metadata": {},
      "outputs": [
        {
          "data": {
            "text/html": [
              "<div>\n",
              "<style scoped>\n",
              "    .dataframe tbody tr th:only-of-type {\n",
              "        vertical-align: middle;\n",
              "    }\n",
              "\n",
              "    .dataframe tbody tr th {\n",
              "        vertical-align: top;\n",
              "    }\n",
              "\n",
              "    .dataframe thead th {\n",
              "        text-align: right;\n",
              "    }\n",
              "</style>\n",
              "<table border=\"1\" class=\"dataframe\">\n",
              "  <thead>\n",
              "    <tr style=\"text-align: right;\">\n",
              "      <th></th>\n",
              "      <th>VOLUME_ET_OVER_ED</th>\n",
              "      <th>VOLUME_NET_OVER_ED</th>\n",
              "    </tr>\n",
              "    <tr>\n",
              "      <th>ID</th>\n",
              "      <th></th>\n",
              "      <th></th>\n",
              "    </tr>\n",
              "  </thead>\n",
              "  <tbody>\n",
              "    <tr>\n",
              "      <th>TCGA-HT-7602</th>\n",
              "      <td>0.00000</td>\n",
              "      <td>2.793634</td>\n",
              "    </tr>\n",
              "    <tr>\n",
              "      <th>TCGA-HT-7680</th>\n",
              "      <td>0.01707</td>\n",
              "      <td>1.315581</td>\n",
              "    </tr>\n",
              "    <tr>\n",
              "      <th>TCGA-HT-7686</th>\n",
              "      <td>NaN</td>\n",
              "      <td>NaN</td>\n",
              "    </tr>\n",
              "  </tbody>\n",
              "</table>\n",
              "</div>"
            ],
            "text/plain": [
              "              VOLUME_ET_OVER_ED  VOLUME_NET_OVER_ED\n",
              "ID                                                 \n",
              "TCGA-HT-7602            0.00000            2.793634\n",
              "TCGA-HT-7680            0.01707            1.315581\n",
              "TCGA-HT-7686                NaN                 NaN"
            ]
          },
          "execution_count": 240,
          "metadata": {},
          "output_type": "execute_result"
        }
      ],
      "source": [
        "# Checken of div weggehaald is\n",
        "# data = data.replace('#DIV/0!', np.nan)\n",
        "data2 = data.iloc[155:158, 7:9]\n",
        "data2"
      ]
    },
    {
      "cell_type": "code",
      "execution_count": 241,
      "metadata": {},
      "outputs": [
        {
          "name": "stdout",
          "output_type": "stream",
          "text": [
            "There is/are 1 infinite value(s) detected for patient ID ['TCGA-HT-7686'] in column: ['DIST_Vent_ED'] \n"
          ]
        },
        {
          "data": {
            "text/html": [
              "<div>\n",
              "<style scoped>\n",
              "    .dataframe tbody tr th:only-of-type {\n",
              "        vertical-align: middle;\n",
              "    }\n",
              "\n",
              "    .dataframe tbody tr th {\n",
              "        vertical-align: top;\n",
              "    }\n",
              "\n",
              "    .dataframe thead th {\n",
              "        text-align: right;\n",
              "    }\n",
              "</style>\n",
              "<table border=\"1\" class=\"dataframe\">\n",
              "  <thead>\n",
              "    <tr style=\"text-align: right;\">\n",
              "      <th></th>\n",
              "      <th>DIST_Vent_ED</th>\n",
              "    </tr>\n",
              "    <tr>\n",
              "      <th>ID</th>\n",
              "      <th></th>\n",
              "    </tr>\n",
              "  </thead>\n",
              "  <tbody>\n",
              "    <tr>\n",
              "      <th>TCGA-HT-7686</th>\n",
              "      <td>inf</td>\n",
              "    </tr>\n",
              "  </tbody>\n",
              "</table>\n",
              "</div>"
            ],
            "text/plain": [
              "              DIST_Vent_ED\n",
              "ID                        \n",
              "TCGA-HT-7686           inf"
            ]
          },
          "execution_count": 241,
          "metadata": {},
          "output_type": "execute_result"
        }
      ],
      "source": [
        "features = data.columns\n",
        "colum_inf = data.iloc[:,:].isin([np.inf, -np.inf]).sum()\n",
        "colum_inf2 = colum_inf[colum_inf>0]\n",
        "sum_inf = sum(colum_inf2)\n",
        "colum_loc = list(colum_inf2.index)\n",
        "\n",
        "index_inf = data.index\n",
        "if colum_loc != []:\n",
        "    condition_inf = data[colum_loc[0]].isin([np.inf, -np.inf])\n",
        "    ID_loc = list(index_inf[condition_inf])\n",
        "\n",
        "\n",
        "    print(f'There is/are {sum_inf} infinite value(s) detected for patient ID {ID_loc} in column: {colum_loc} ')\n",
        "\n",
        "    loc_feature =[i for i,x in enumerate(features) if x in colum_loc]\n",
        "    loc_index = [i for i,x in enumerate(index_inf) if x in ID_loc ]\n",
        "else:\n",
        "    print(f'There are no infinite value(s)')\n",
        "    \n",
        "        \n",
        "\n",
        "data.iloc[loc_index[0]:(loc_index[0]+1),loc_feature[0]:(loc_feature[0]+1)]"
      ]
    },
    {
      "cell_type": "code",
      "execution_count": 242,
      "metadata": {},
      "outputs": [
        {
          "data": {
            "text/html": [
              "<div>\n",
              "<style scoped>\n",
              "    .dataframe tbody tr th:only-of-type {\n",
              "        vertical-align: middle;\n",
              "    }\n",
              "\n",
              "    .dataframe tbody tr th {\n",
              "        vertical-align: top;\n",
              "    }\n",
              "\n",
              "    .dataframe thead th {\n",
              "        text-align: right;\n",
              "    }\n",
              "</style>\n",
              "<table border=\"1\" class=\"dataframe\">\n",
              "  <thead>\n",
              "    <tr style=\"text-align: right;\">\n",
              "      <th></th>\n",
              "      <th>DIST_Vent_ED</th>\n",
              "    </tr>\n",
              "    <tr>\n",
              "      <th>ID</th>\n",
              "      <th></th>\n",
              "    </tr>\n",
              "  </thead>\n",
              "  <tbody>\n",
              "    <tr>\n",
              "      <th>TCGA-HT-7686</th>\n",
              "      <td>NaN</td>\n",
              "    </tr>\n",
              "  </tbody>\n",
              "</table>\n",
              "</div>"
            ],
            "text/plain": [
              "              DIST_Vent_ED\n",
              "ID                        \n",
              "TCGA-HT-7686           NaN"
            ]
          },
          "execution_count": 242,
          "metadata": {},
          "output_type": "execute_result"
        }
      ],
      "source": [
        "data = data.replace(np.inf, np.nan)\n",
        "data.iloc[loc_index[0]:(loc_index[0]+1),loc_feature[0]:(loc_feature[0]+1)]"
      ]
    },
    {
      "cell_type": "code",
      "execution_count": 243,
      "metadata": {},
      "outputs": [
        {
          "name": "stdout",
          "output_type": "stream",
          "text": [
            "There are no infinite value(s)\n"
          ]
        },
        {
          "data": {
            "text/html": [
              "<div>\n",
              "<style scoped>\n",
              "    .dataframe tbody tr th:only-of-type {\n",
              "        vertical-align: middle;\n",
              "    }\n",
              "\n",
              "    .dataframe tbody tr th {\n",
              "        vertical-align: top;\n",
              "    }\n",
              "\n",
              "    .dataframe thead th {\n",
              "        text-align: right;\n",
              "    }\n",
              "</style>\n",
              "<table border=\"1\" class=\"dataframe\">\n",
              "  <thead>\n",
              "    <tr style=\"text-align: right;\">\n",
              "      <th></th>\n",
              "      <th>DIST_Vent_ED</th>\n",
              "    </tr>\n",
              "    <tr>\n",
              "      <th>ID</th>\n",
              "      <th></th>\n",
              "    </tr>\n",
              "  </thead>\n",
              "  <tbody>\n",
              "    <tr>\n",
              "      <th>TCGA-HT-7686</th>\n",
              "      <td>NaN</td>\n",
              "    </tr>\n",
              "  </tbody>\n",
              "</table>\n",
              "</div>"
            ],
            "text/plain": [
              "              DIST_Vent_ED\n",
              "ID                        \n",
              "TCGA-HT-7686           NaN"
            ]
          },
          "execution_count": 243,
          "metadata": {},
          "output_type": "execute_result"
        }
      ],
      "source": [
        "features = data.columns\n",
        "colum_inf = data.iloc[:,:].isin([np.inf, -np.inf]).sum()\n",
        "colum_inf2 = colum_inf[colum_inf>0]\n",
        "sum_inf = sum(colum_inf2)\n",
        "colum_loc = list(colum_inf2.index)\n",
        "\n",
        "index_inf = data.index\n",
        "if colum_loc != []:\n",
        "    condition_inf = data[colum_loc[0]].isin([np.inf, -np.inf])\n",
        "    ID_loc = list(index_inf[condition_inf])\n",
        "\n",
        "\n",
        "    print(f'There is/are {sum_inf} infinite value(s) detected for patient ID {ID_loc} in column: {colum_loc} ')\n",
        "\n",
        "    loc_feature =[i for i,x in enumerate(features) if x in colum_loc]\n",
        "    loc_index = [i for i,x in enumerate(index_inf) if x in ID_loc ]\n",
        "else:\n",
        "    print(f'There are no infinite value(s)')\n",
        "    \n",
        "        \n",
        "\n",
        "data.iloc[loc_index[0]:(loc_index[0]+1),loc_feature[0]:(loc_feature[0]+1)]"
      ]
    },
    {
      "cell_type": "markdown",
      "metadata": {},
      "source": [
        "## Describing Data"
      ]
    },
    {
      "cell_type": "code",
      "execution_count": 244,
      "metadata": {},
      "outputs": [
        {
          "name": "stdout",
          "output_type": "stream",
          "text": [
            "The number of samples/patients: 167. The number of columns/features: 725.\n",
            "Number of GBM:  102 Number of LGG:  65\n"
          ]
        },
        {
          "data": {
            "image/png": "[encoded data removed]",
            "text/plain": [
              "<Figure size 432x288 with 1 Axes>"
            ]
          },
          "metadata": {
            "needs_background": "light"
          },
          "output_type": "display_data"
        }
      ],
      "source": [
        "print(f'The number of samples/patients: {len(data.index)}. The number of columns/features: {len(data.columns)}.') #rows\n",
        "\n",
        "ax = sns.countplot(y,label=\"Count\")     \n",
        "\n",
        "GBM, LGG = y.value_counts()\n",
        "warnings.simplefilter(action='ignore', category=FutureWarning)\n",
        "\n",
        "print('Number of GBM: ', GBM, 'Number of LGG: ',LGG)\n"
      ]
    },
    {
      "cell_type": "markdown",
      "metadata": {
        "id": "AdB0ncaxaLEW"
      },
      "source": [
        "## Checking/exploring the dataset"
      ]
    },
    {
      "cell_type": "code",
      "execution_count": 245,
      "metadata": {
        "id": "Cf-0fnasaLEX",
        "outputId": "396075dd-c09a-46af-b547-e6bac5095ba3"
      },
      "outputs": [
        {
          "name": "stdout",
          "output_type": "stream",
          "text": [
            "724\n",
            "1\n",
            "Index(['label'], dtype='object')\n"
          ]
        }
      ],
      "source": [
        "data.dtypes == 'object'\n",
        "# Seperate numerical variables and categorical variables\n",
        "num_vars = data.columns[data.dtypes != 'object']\n",
        "cat_vars = data.columns[data.dtypes == 'object']\n",
        "\n",
        "print(len(num_vars))\n",
        "print(len(cat_vars))\n",
        "print(cat_vars)\n",
        "\n"
      ]
    },
    {
      "cell_type": "code",
      "execution_count": 43,
      "metadata": {},
      "outputs": [],
      "source": [
        "# GBM = data[data.label == 'GBM']\n",
        "# LGG = data[data.label == 'LGG']"
      ]
    },
    {
      "cell_type": "code",
      "execution_count": 44,
      "metadata": {
        "id": "LEl3UCLuaLEZ",
        "outputId": "51a7fc7e-1635-43fd-9602-bfe40c39c4f9"
      },
      "outputs": [],
      "source": [
        "# # to check which features have most missing values\n",
        "# missing_values = data[num_vars].isnull().sum().sort_values(ascending=False)\n",
        "# missing_values_multiple = (missing_values > 0).sum()\n",
        "\n",
        "# print(missing_values)\n",
        "# print(f'The total number of features with 1 or more missing values is {missing_values_multiple}')\n",
        "\n"
      ]
    },
    {
      "cell_type": "code",
      "execution_count": 246,
      "metadata": {},
      "outputs": [],
      "source": [
        "# saving missing values in a variable\n",
        "a = pd.isna(data).sum()/len(data)*100\n",
        "\n",
        "# saving column names in a variable\n",
        "variables = data.columns\n",
        "\n",
        "# new variable to store variables having missing values less than a threshold\n",
        "\n",
        "variable = [ ]\n",
        "\n",
        "for i in range(data.columns.shape[0]):\n",
        "    if a[i]<=40: #setting the threshold as 40%\n",
        "        variable.append(variables[i])\n",
        "\n",
        "variable   \n",
        "\n",
        "# creating a new dataframe using the above variables\n",
        "data = data[variable]\n",
        "\n",
        "# percentage of missing values in each variable of new data\n",
        "p = pd.isna(data).sum()/len(data)*100\n"
      ]
    },
    {
      "cell_type": "code",
      "execution_count": 247,
      "metadata": {},
      "outputs": [
        {
          "data": {
            "text/plain": [
              "(146, 705)"
            ]
          },
          "execution_count": 247,
          "metadata": {},
          "output_type": "execute_result"
        }
      ],
      "source": [
        "k = data.apply(lambda x: x.count(), axis=1)\n",
        "\n",
        "# k2 = k[k<705]\n",
        "# a3 = k2/data.shape[1]*100\n",
        "\n",
        "# saving column names in a variable\n",
        "variables_row = k.index\n",
        "\n",
        "# new variable to store variables having missing values less than a threshold\n",
        "\n",
        "variable_row = []\n",
        "\n",
        "for i in range(variables_row.shape[0]):\n",
        "    if k[i]==705: \n",
        "        variable_row.append(variables_row[i])\n",
        "\n",
        "data = data[data.index.isin(variable_row)]\n",
        "\n",
        "data.shape"
      ]
    },
    {
      "cell_type": "code",
      "execution_count": 228,
      "metadata": {},
      "outputs": [
        {
          "name": "stdout",
          "output_type": "stream",
          "text": [
            "(446,)\n"
          ]
        },
        {
          "data": {
            "text/plain": [
              "(467,)"
            ]
          },
          "execution_count": 228,
          "metadata": {},
          "output_type": "execute_result"
        }
      ],
      "source": [
        "# p3 = p[p>0]\n",
        "\n",
        "# print(p3.shape)\n",
        "\n",
        "# p8 = pd.isna(data).sum()/len(data)*100\n",
        "# p9 = p8[p8>0]\n",
        "# p9.shape\n",
        "\n"
      ]
    },
    {
      "cell_type": "code",
      "execution_count": 209,
      "metadata": {},
      "outputs": [],
      "source": [
        "total_upper = []\n",
        "total_lower = []\n",
        "len_out = 167\n",
        "\n",
        "for i in range(0,len_out):\n",
        "    Q1 = np.percentile(data[data_columns_name[i]], 25, interpolation = 'midpoint')\n",
        "    Q3 = np.percentile(data[data_columns_name[i]], 75, interpolation = 'midpoint')\n",
        "\n",
        "    IQR = Q3 - Q1\n",
        "\n",
        "    upper = Q3 + 1.5*IQR\n",
        "    lower = Q1 - 1.5*IQR\n",
        "\n",
        "    upper_list = data[data_columns_name[i]] >= (Q3+1.5*IQR)\n",
        "        \n",
        "    # Below Lower bound\n",
        "    lower_list = data[data_columns_name[i]] <= (Q1-1.5*IQR)\n",
        "    \n",
        "    total_upper.append(upper_list.sum())\n",
        "    total_lower.append(lower_list.sum())\n",
        "\n",
        "    upper_list_values = data[data_columns_name[i]][upper_list]\n",
        "    lower_list_values = data[data_columns_name[i]][lower_list]\n",
        "\n"
      ]
    },
    {
      "cell_type": "code",
      "execution_count": 274,
      "metadata": {},
      "outputs": [],
      "source": [
        "le = preprocessing.LabelEncoder()\n",
        "le.fit(y)\n",
        "y = le.transform(y)"
      ]
    },
    {
      "cell_type": "code",
      "execution_count": 276,
      "metadata": {},
      "outputs": [],
      "source": [
        "from sklearn.preprocessing import minmax_scale\n",
        "from matplotlib import cm\n",
        "\n",
        "# scale the output between 0 and 1 for the colorbar\n",
        "\n",
        "\n",
        "# plasma does not exist in matplotlib < 1.5\n",
        "cmap = getattr(cm, \"plasma_r\", cm.hot_r)\n",
        "\n",
        "def create_axes(title, figsize=(8, 4)):\n",
        "    fig = plt.figure(figsize=figsize)\n",
        "    fig.suptitle(title)\n",
        "\n",
        "    # define the axis for the first plot\n",
        "    left, width = 0.1, 0.22\n",
        "    bottom, height = 0.1, 0.7\n",
        "    bottom_h = height + 0.15\n",
        "    left_h = left + width + 0.02\n",
        "\n",
        "    rect_scatter = [left, bottom, width, height]\n",
        "    rect_histx = [left, bottom_h, width, 0.1]\n",
        "    rect_histy = [left_h, bottom, 0.05, height]\n",
        "\n",
        "    ax_scatter = plt.axes(rect_scatter)\n",
        "    ax_histx = plt.axes(rect_histx)\n",
        "    ax_histy = plt.axes(rect_histy)\n",
        "\n",
        "    # define the axis for the zoomed-in plot\n",
        "    left = width + left + 0.2\n",
        "    left_h = left + width + 0.02\n",
        "\n",
        "    rect_scatter = [left, bottom, width, height]\n",
        "    rect_histx = [left, bottom_h, width, 0.1]\n",
        "    rect_histy = [left_h, bottom, 0.05, height]\n",
        "\n",
        "    ax_scatter_zoom = plt.axes(rect_scatter)\n",
        "    ax_histx_zoom = plt.axes(rect_histx)\n",
        "    ax_histy_zoom = plt.axes(rect_histy)\n",
        "\n",
        "    # define the axis for the colorbar\n",
        "    left, width = width + left + 0.13, 0.01\n",
        "\n",
        "    rect_colorbar = [left, bottom, width, height]\n",
        "    ax_colorbar = plt.axes(rect_colorbar)\n",
        "\n",
        "    return (\n",
        "        (ax_scatter, ax_histy, ax_histx),\n",
        "        (ax_scatter_zoom, ax_histy_zoom, ax_histx_zoom),\n",
        "        ax_colorbar,\n",
        "    )\n",
        "\n",
        "def plot_distribution(axes, X, y, hist_nbins=50, title=\"\", x0_label=\"\", x1_label=\"\"):\n",
        "    ax, hist_X1, hist_X0 = axes\n",
        "\n",
        "    ax.set_title(title)\n",
        "    ax.set_xlabel(x0_label)\n",
        "    ax.set_ylabel(x1_label)\n",
        "\n",
        "    # The scatter plot\n",
        "    colors = cmap(y)\n",
        "    ax.scatter(X.iloc[:, 0], X.iloc[:, 1], alpha=0.5, marker=\"o\", s=5, lw=0, c=colors)\n",
        "\n",
        "    # Removing the top and the right spine for aesthetics\n",
        "    # make nice axis layout\n",
        "    ax.spines[\"top\"].set_visible(False)\n",
        "    ax.spines[\"right\"].set_visible(False)\n",
        "    ax.get_xaxis().tick_bottom()\n",
        "    ax.get_yaxis().tick_left()\n",
        "    ax.spines[\"left\"].set_position((\"outward\", 10))\n",
        "    ax.spines[\"bottom\"].set_position((\"outward\", 10))\n",
        "\n",
        "    # Histogram for axis X1 (feature 5)\n",
        "    hist_X1.set_ylim(ax.get_ylim())\n",
        "    hist_X1.hist(\n",
        "        X.iloc[:, 1], bins=hist_nbins, orientation=\"horizontal\", color=\"grey\", ec=\"grey\"\n",
        "    )\n",
        "    hist_X1.axis(\"off\")\n",
        "\n",
        "    # Histogram for axis X0 (feature 0)\n",
        "    hist_X0.set_xlim(ax.get_xlim())\n",
        "    hist_X0.hist(\n",
        "        X.iloc[:, 0], bins=hist_nbins, orientation=\"vertical\", color=\"grey\", ec=\"grey\"\n",
        "    )\n",
        "    hist_X0.axis(\"off\")    "
      ]
    },
    {
      "cell_type": "code",
      "execution_count": 277,
      "metadata": {},
      "outputs": [],
      "source": [
        "distributions = []\n",
        "\n",
        "for i in range(0,100):\n",
        "    features = [data_columns_name[i], data_columns_name[i+1]]\n",
        "    features_idx = [data_columns_name.get_loc(feature) for feature in features]\n",
        "    X = data.iloc[:, features_idx]\n",
        "    distributions.append((features, X))"
      ]
    },
    {
      "cell_type": "code",
      "execution_count": 278,
      "metadata": {},
      "outputs": [],
      "source": [
        "def make_plot(item_idx):\n",
        "    title, X = distributions[item_idx]\n",
        "    ax_zoom_out, ax_zoom_in, ax_colorbar = create_axes(title)\n",
        "    axarr = (ax_zoom_out, ax_zoom_in)\n",
        "    plot_distribution(\n",
        "        axarr[0],\n",
        "        X,\n",
        "        y,\n",
        "        hist_nbins=200,\n",
        "        x0_label=title[0],\n",
        "        x1_label=title[1],\n",
        "        title=\"Full data\",\n",
        "    )\n",
        "\n",
        "    # zoom-in\n",
        "    zoom_in_percentile_range = (0, 99)\n",
        "    cutoffs_X0 = np.percentile(X.iloc[:, 0], zoom_in_percentile_range)\n",
        "    cutoffs_X1 = np.percentile(X.iloc[:, 1], zoom_in_percentile_range)\n",
        "\n",
        "    non_outliers_mask = np.all(X > [cutoffs_X0[0], cutoffs_X1[0]], axis=1) & np.all(\n",
        "        X < [cutoffs_X0[1], cutoffs_X1[1]], axis=1\n",
        "    )\n",
        "    plot_distribution(\n",
        "        axarr[1],\n",
        "        X[non_outliers_mask],\n",
        "        y[non_outliers_mask],\n",
        "        hist_nbins=50,\n",
        "        x0_label=title[0],\n",
        "        x1_label=title[1],\n",
        "        title=\"Zoom-in\",\n",
        "    )\n",
        "\n",
        "    norm = mpl.colors.Normalize(y.min(), y.max())\n",
        "    mpl.colorbar.ColorbarBase(\n",
        "        ax_colorbar,\n",
        "        cmap=cmap,\n",
        "        norm=norm,\n",
        "        orientation=\"vertical\",\n",
        "        label=\"Color mapping for values of y\",\n",
        "    )"
      ]
    },
    {
      "cell_type": "code",
      "execution_count": 290,
      "metadata": {},
      "outputs": [
        {
          "data": {
            "image/png": "[encoded data removed]",
            "text/plain": [
              "<Figure size 576x288 with 7 Axes>"
            ]
          },
          "metadata": {
            "needs_background": "light"
          },
          "output_type": "display_data"
        }
      ],
      "source": [
        "make_plot(1)"
      ]
    },
    {
      "cell_type": "markdown",
      "metadata": {},
      "source": [
        "## Missing Data "
      ]
    },
    {
      "cell_type": "code",
      "execution_count": 93,
      "metadata": {},
      "outputs": [],
      "source": [
        "# missing_value = p[p>0]\n",
        "# print(missing_value)\n",
        "# index = missing_value.index\n",
        "# print(index)\n"
      ]
    },
    {
      "cell_type": "markdown",
      "metadata": {},
      "source": [
        "## Splitting"
      ]
    },
    {
      "cell_type": "code",
      "execution_count": 109,
      "metadata": {},
      "outputs": [
        {
          "name": "stdout",
          "output_type": "stream",
          "text": [
            "(146, 704) <class 'pandas.core.frame.DataFrame'>\n",
            "(146,) <class 'pandas.core.series.Series'>\n"
          ]
        }
      ],
      "source": [
        "len_ID, len_features = data.shape \n",
        "X = data.iloc[0:len_ID, 0:len_features-1]\n",
        "y = data.label\n",
        "\n",
        "print(X.shape, type(X))\n",
        "print(y.shape, type(y))"
      ]
    },
    {
      "cell_type": "code",
      "execution_count": 110,
      "metadata": {},
      "outputs": [
        {
          "name": "stdout",
          "output_type": "stream",
          "text": [
            "(146,) <class 'numpy.ndarray'>\n",
            "(146, 704) <class 'numpy.ndarray'>\n"
          ]
        }
      ],
      "source": [
        "X2 = X.to_numpy()\n",
        "y2 = y.to_numpy()\n",
        "print(y2.shape, type(y2))\n",
        "print(X2.shape, type(X2))"
      ]
    },
    {
      "cell_type": "code",
      "execution_count": 101,
      "metadata": {},
      "outputs": [],
      "source": [
        "# from sklearn.model_selection import train_test_split\n",
        "# X_train, X_test, Y_train, Y_test= train_test_split(X2, y, test_size = 0.2, random_state = 4)\n",
        "# X2.shape\n",
        "# print(X_train.shape, X_test.shape)\n",
        "\n",
        "# 0.2 van 146 is ~30 \n",
        "#146/30 ~5 splits"
      ]
    },
    {
      "cell_type": "code",
      "execution_count": 174,
      "metadata": {},
      "outputs": [
        {
          "name": "stdout",
          "output_type": "stream",
          "text": [
            "Best classifier: k=19\n",
            "Best classifier: k=21\n",
            "Best classifier: k=17\n",
            "Best classifier: k=17\n",
            "Best classifier: k=23\n",
            "The optimal N=19\n"
          ]
        },
        {
          "data": {
            "image/png": "[encoded data removed]",
            "text/plain": [
              "<Figure size 432x288 with 1 Axes>"
            ]
          },
          "metadata": {
            "needs_background": "light"
          },
          "output_type": "display_data"
        }
      ],
      "source": [
        "import warnings\n",
        "# Create a 20 fold stratified CV iterator\n",
        "cv_20fold = model_selection.StratifiedKFold(n_splits=5)\n",
        "results = []\n",
        "best_n_neighbors = []\n",
        "n_components = []\n",
        "\n",
        "\n",
        "# Loop over the folds\n",
        "for validation_index, test_index in cv_20fold.split(X2, y2):\n",
        "    # Split the data properly\n",
        "    X_validation = X2[validation_index]\n",
        "    y_validation = y2[validation_index]\n",
        "\n",
        "    X_test = X2[test_index]\n",
        "    y_test = y2[test_index]\n",
        "\n",
        "    scaler = preprocessing.RobustScaler()\n",
        "    scaler.fit(X_validation)\n",
        "    X_train_scaled = scaler.transform(X_validation)\n",
        "    X_test_scaled = scaler.transform(X_test)\n",
        "\n",
        "    le = preprocessing.LabelEncoder()\n",
        "    le.fit(y_validation)\n",
        "    y_train_enc = le.transform(y_validation)\n",
        "    y_test_enc = le.transform(y_test)\n",
        "\n",
        "    pca = PCA()\n",
        "    X_train_scaled_pca = pca.fit_transform(X_train_scaled)\n",
        "    cumsum = np.cumsum(pca.explained_variance_ratio_)\n",
        "\n",
        "    from sklearn.decomposition import PCA\n",
        "    pca = PCA()\n",
        "    X_train_scaled_pca = pca.fit_transform(X_train_scaled)\n",
        "    cumsum = np.cumsum(pca.explained_variance_ratio_)\n",
        "\n",
        "    result = np.where(cumsum >= 0.99)\n",
        "    n_component = result[0][0]+1\n",
        "    n_components.append(n_component)\n",
        "\n",
        "    # Create a grid search to find the optimal k using a gridsearch and 10-fold cross validation\n",
        "    # Same as above\n",
        "    parameters = {\"n_neighbors\": list(range(1, 26, 2))}\n",
        "    knn = neighbors.KNeighborsClassifier()\n",
        "    cv_10fold = model_selection.StratifiedKFold(n_splits=5)\n",
        "    grid_search = model_selection.GridSearchCV(knn, parameters, cv=cv_10fold, scoring='roc_auc')\n",
        "    grid_search.fit(X_validation, y_validation)\n",
        "    \n",
        "    # Get resulting classifier\n",
        "    clf = grid_search.best_estimator_\n",
        "    print(f'Best classifier: k={clf.n_neighbors}')\n",
        "    best_n_neighbors.append(clf.n_neighbors)\n",
        "    \n",
        "    # Test the classifier on the test data\n",
        "    probabilities = clf.predict_proba(X_test)\n",
        "    scores = probabilities[:, 1]\n",
        "    \n",
        "    # Get the auc\n",
        "    auc = metrics.roc_auc_score(y_test, scores)\n",
        "    results.append({\n",
        "        'auc': auc,\n",
        "        'k': clf.n_neighbors,\n",
        "        'set': 'test'\n",
        "    })\n",
        "    \n",
        "    # Test the classifier on the validation data\n",
        "    probabilities_validation = clf.predict_proba(X_validation)\n",
        "    scores_validation = probabilities_validation[:, 1]\n",
        "    \n",
        "    # Get the auc\n",
        "    auc_validation = metrics.roc_auc_score(y_validation, scores_validation)\n",
        "    results.append({\n",
        "        'auc': auc_validation,\n",
        "        'k': clf.n_neighbors,\n",
        "        'set': 'validation'\n",
        "    })\n",
        "    \n",
        "# Create results dataframe and plot it\n",
        "results = pd.DataFrame(results)\n",
        "seaborn.boxplot(y='auc', x='set', data=results)\n",
        "\n",
        "optimal_n = int(np.median(best_n_neighbors))\n",
        "print(f\"The optimal N={optimal_n}\")\n",
        " \n",
        "\n",
        "   \n",
        "\n",
        "    \n",
        "    \n",
        "\n",
        "\n",
        " "
      ]
    },
    {
      "cell_type": "markdown",
      "metadata": {},
      "source": [
        "## Scaling"
      ]
    },
    {
      "cell_type": "code",
      "execution_count": null,
      "metadata": {},
      "outputs": [],
      "source": [
        "from sklearn.preprocessing import RobustScaler"
      ]
    },
    {
      "cell_type": "code",
      "execution_count": 170,
      "metadata": {},
      "outputs": [],
      "source": [
        "scaler = preprocessing.RobustScaler()\n",
        "scaler.fit(X_validation)\n",
        "X_train_scaled = scaler.transform(X_validation)\n",
        "X_test_scaled = scaler.transform(X_test)\n"
      ]
    },
    {
      "cell_type": "code",
      "execution_count": 171,
      "metadata": {},
      "outputs": [],
      "source": [
        "from sklearn import preprocessing\n",
        "# Van labels naar 0 of 1\n",
        "le = preprocessing.LabelEncoder()\n",
        "le.fit(y_validation)\n",
        "y_train_enc = le.transform(y_validation)\n",
        "y_test_enc = le.transform(y_test)\n"
      ]
    },
    {
      "cell_type": "markdown",
      "metadata": {},
      "source": [
        "## PCA"
      ]
    },
    {
      "cell_type": "code",
      "execution_count": 165,
      "metadata": {},
      "outputs": [
        {
          "data": {
            "text/plain": [
              "1"
            ]
          },
          "execution_count": 165,
          "metadata": {},
          "output_type": "execute_result"
        }
      ],
      "source": [
        "from sklearn.decomposition import PCA\n",
        "pca = PCA()\n",
        "X_train_scaled_pca = pca.fit_transform(X_train_scaled)\n",
        "cumsum = np.cumsum(pca.explained_variance_ratio_)\n",
        "\n",
        "result = np.where(cumsum >= 0.99)\n",
        "n_components = result[0][0]\n",
        "\n"
      ]
    },
    {
      "cell_type": "code",
      "execution_count": 163,
      "metadata": {},
      "outputs": [
        {
          "data": {
            "text/plain": [
              "1"
            ]
          },
          "execution_count": 163,
          "metadata": {},
          "output_type": "execute_result"
        }
      ],
      "source": [
        "result = np.where(cumsum >= 0.99)\n",
        "n_components = result[0][0]"
      ]
    },
    {
      "cell_type": "markdown",
      "metadata": {},
      "source": [
        "## Clasiffier"
      ]
    },
    {
      "cell_type": "code",
      "execution_count": null,
      "metadata": {},
      "outputs": [],
      "source": [
        "\n",
        "    for k in k_list:\n",
        "        clf_knn = neighbors.KNeighborsClassifier(n_neighbors=k)\n",
        "        clf_knn.fit(split_X_train, split_y_train)\n",
        "\n",
        "        # Test the classifier on the training data and plot\n",
        "        score_train = clf_knn.score(split_X_train, split_y_train)\n",
        "        score_test = clf_knn.score(split_X_test, split_y_test)\n",
        "\n",
        "        train_scores.append(score_train)\n",
        "        test_scores.append(score_test)\n",
        "        \n",
        "    all_train.append(train_scores)\n",
        "    all_test.append(test_scores)\n",
        "    \n",
        "\n",
        "# Create numpy array of scores and calculate the mean and std\n",
        "all_train = np.array(all_train)\n",
        "all_test = np.array(all_test)\n",
        "\n",
        "train_scores_mean = all_train.mean(axis=0)\n",
        "train_scores_std = all_train.std(axis=0)\n",
        "\n",
        "test_scores_mean = all_test.mean(axis=0)\n",
        "test_scores_std = all_test.std(axis=0)"
      ]
    },
    {
      "cell_type": "code",
      "execution_count": null,
      "metadata": {},
      "outputs": [],
      "source": [
        "parameters = {\"n_neighbors\": list(range(1, 12, 2))}\n",
        "    knn = neighbors.KNeighborsClassifier()\n",
        "    cv_10fold = model_selection.StratifiedKFold(n_splits=5)\n",
        "    grid_search = model_selection.GridSearchCV(knn, parameters, cv=cv_10fold, scoring='roc_auc')\n",
        "    grid_search.fit(X_validation, y_validation)\n",
        "\n",
        "    # Get resulting classifier\n",
        "    clf = grid_search.best_estimator_\n",
        "    print(f'Best classifier: k={clf.n_neighbors}')\n",
        "    best_n_neighbors.append(clf.n_neighbors)\n",
        "    \n",
        "    # Test the classifier on the test data\n",
        "    probabilities = clf.predict_proba(X_test)\n",
        "    scores = probabilities[:, 1]\n",
        "    \n",
        "    # Get the auc\n",
        "    auc = metrics.roc_auc_score(y_test, scores)\n",
        "    results.append({\n",
        "        'auc': auc,\n",
        "        'k': clf.n_neighbors,\n",
        "        'set': 'test'\n",
        "    })\n",
        "    \n",
        "    # Test the classifier on the validation data\n",
        "    probabilities_validation = clf.predict_proba(X_validation)\n",
        "    scores_validation = probabilities_validation[:, 1]\n",
        "    \n",
        "    # Get the auc\n",
        "    auc_validation = metrics.roc_auc_score(y_validation, scores_validation)\n",
        "    results.append({\n",
        "        'auc': auc_validation,\n",
        "        'k': clf.n_neighbors,\n",
        "        'set': 'validation'\n",
        "    })\n",
        "    \n",
        "# Create results dataframe and plot it\n",
        "results = pd.DataFrame(results)\n",
        "seaborn.boxplot(y='auc', x='set', data=results)\n",
        "\n",
        "optimal_n = int(np.median(best_n_neighbors))\n",
        "print(f\"The optimal N={optimal_n}\")"
      ]
    }
  ],
  "metadata": {
    "colab": {
      "name": "assignment_ml_brats.ipynb",
      "provenance": [],
      "toc_visible": true
    },
    "interpreter": {
      "hash": "99c346a2273ffdba9d13565a7efa8a03dbcb19c3f8c63eac036f68118855a3ce"
    },
    "kernelspec": {
      "display_name": "Python 3.9.5 ('base')",
      "language": "python",
      "name": "python3"
    },
    "language_info": {
      "codemirror_mode": {
        "name": "ipython",
        "version": 3
      },
      "file_extension": ".py",
      "mimetype": "text/x-python",
      "name": "python",
      "nbconvert_exporter": "python",
      "pygments_lexer": "ipython3",
      "version": "3.8.10"
    },
    "orig_nbformat": 4
  },
  "nbformat": 4,
  "nbformat_minor": 0
}

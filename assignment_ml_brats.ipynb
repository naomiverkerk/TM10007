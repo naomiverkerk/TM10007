{
  "cells": [
    {
      "cell_type": "markdown",
      "metadata": {
        "id": "rUo6sKbpaLD9"
      },
      "source": []
    },
    {
      "cell_type": "markdown",
      "metadata": {
        "id": "Oysh7mvlaLEC"
      },
      "source": [
        "# TM10007 Group Assignment Machine Learning\n",
        "#### Sara Arman, Judith Essenburg, George Franssen, Naomi Verkerk"
      ]
    },
    {
      "cell_type": "markdown",
      "metadata": {
        "id": "q7fez-EXaLEI"
      },
      "source": [
        "## Google colab environment"
      ]
    },
    {
      "cell_type": "code",
      "execution_count": null,
      "metadata": {
        "id": "fG3XKbexaLEK"
      },
      "outputs": [],
      "source": [
        "# Run this to use from colab environment\n",
        "#!pip install -q --upgrade git+https://github.com/naomiverkerk/TM10007.git"
      ]
    },
    {
      "cell_type": "markdown",
      "metadata": {
        "id": "KXtjii5YaLEM"
      },
      "source": [
        "## Import\n"
      ]
    },
    {
      "cell_type": "code",
      "execution_count": null,
      "metadata": {
        "id": "PGrE5j8OaLEN"
      },
      "outputs": [],
      "source": [
        "from load_data import load_data\n",
        "import seaborn as sns\n",
        "import matplotlib.pyplot as plt\n",
        "import pandas as pd"
      ]
    },
    {
      "cell_type": "markdown",
      "metadata": {
        "id": "pniY-3hqaLEO"
      },
      "source": [
        "## Loading Data"
      ]
    },
    {
      "cell_type": "code",
      "execution_count": null,
      "metadata": {},
      "outputs": [],
      "source": [
        "def load_data():\n",
        "    data = pd.read_csv('TCGA_GBM_radiomicFeatures.csv', na_values=['#DIV/0!'], index_col=0)\n",
        "    data2 = pd.read_csv('TCGA_LGG_radiomicFeatures.csv', na_values=['#DIV/0!'], index_col=0)\n",
        "    data['label'] = 'GBM'\n",
        "    data2['label'] = 'LGG'\n",
        "    data = data.append(data2)\n",
        "    data = data.drop(columns=['Date'])\n",
        "    return data\n"
      ]
    },
    {
      "cell_type": "code",
      "execution_count": null,
      "metadata": {
        "id": "QJTIWsKoaLEQ",
        "outputId": "0f12d96e-eb0f-4318-fee0-7653efd6b7be"
      },
      "outputs": [],
      "source": [
        "data = load_data() \n",
        "\n",
        "print(f'The number of samples/patients: {len(data.index)}')\n",
        "print(f'The number of columns/features: {len(data.columns)}')\n"
      ]
    },
    {
      "cell_type": "code",
      "execution_count": null,
      "metadata": {},
      "outputs": [],
      "source": [
        "y = data.label\n",
        "ax = sns.countplot(y,label=\"Count\")     \n",
        "GBM, LGG = y.value_counts()\n",
        "print('Number of GBM: ',GBM)\n",
        "print('Number of LGG: ',LGG)"
      ]
    },
    {
      "cell_type": "markdown",
      "metadata": {
        "id": "EdKj92AxaLET"
      },
      "source": [
        "## Splitting in train and test data"
      ]
    },
    {
      "cell_type": "code",
      "execution_count": null,
      "metadata": {
        "id": "mv37eW8iaLEV"
      },
      "outputs": [],
      "source": [
        "# the code to split, after that we inspect the data"
      ]
    },
    {
      "cell_type": "markdown",
      "metadata": {
        "id": "AdB0ncaxaLEW"
      },
      "source": [
        "## Checking/exploring the dataset"
      ]
    },
    {
      "cell_type": "code",
      "execution_count": null,
      "metadata": {
        "id": "Cf-0fnasaLEX",
        "outputId": "396075dd-c09a-46af-b547-e6bac5095ba3"
      },
      "outputs": [],
      "source": [
        "data.dtypes == 'object'\n",
        "# Seperate numerical variables and categorical variables\n",
        "num_vars = data.columns[data.dtypes != 'object']\n",
        "cat_vars = data.columns[data.dtypes == 'object']\n",
        "\n",
        "print(len(num_vars))\n",
        "print(len(cat_vars))\n",
        "print(cat_vars)"
      ]
    },
    {
      "cell_type": "code",
      "execution_count": null,
      "metadata": {},
      "outputs": [],
      "source": [
        "data2 = data.iloc[155:158, 7:9]\n",
        "data2"
      ]
    },
    {
      "cell_type": "code",
      "execution_count": null,
      "metadata": {},
      "outputs": [],
      "source": [
        "GBM = data[data.label == 'GBM']\n",
        "LGG = data[data.label == 'LGG']\n",
        "ax = sns.boxplot(data= orient=\"h\", palette=\"Set2\")\n",
        "\n",
        "\n"
      ]
    },
    {
      "cell_type": "code",
      "execution_count": null,
      "metadata": {
        "id": "LEl3UCLuaLEZ",
        "outputId": "51a7fc7e-1635-43fd-9602-bfe40c39c4f9"
      },
      "outputs": [],
      "source": [
        "# to check which features have most missing values\n",
        "missing_values = data[num_vars].isnull().sum().sort_values(ascending=False)\n",
        "missing_values_multiple = (missing_values > 0).sum()\n",
        "\n",
        "print(missing_values)\n",
        "print(f'The total number of features with 1 or more missing values is {missing_values_multiple}')\n",
        "\n"
      ]
    },
    {
      "cell_type": "code",
      "execution_count": null,
      "metadata": {},
      "outputs": [],
      "source": [
        "# saving missing values in a variable\n",
        "a = pd.isna(data).sum()/len(data)*100\n",
        "\n",
        "# saving column names in a variable\n",
        "variables = data.columns\n",
        "\n",
        "# new variable to store variables having missing values less than a threshold\n",
        "\n",
        "variable = [ ]\n",
        "\n",
        "for i in range(data.columns.shape[0]):\n",
        "    if a[i]<=40: #setting the threshold as 40%\n",
        "        variable.append(variables[i])\n",
        "\n",
        "variable   \n",
        "\n",
        "# # creating a new dataframe using the above variables\n",
        "\n",
        "# new_data = data[variable]\n",
        "# new_data.head()\n",
        "\n",
        "# # percentage of missing values in each variable of new data\n",
        "\n",
        "# p = pd.isna(new_data).sum()/len(new_data)*100\n",
        "\n",
        "import numpy as np\n",
        "x = data.iloc[:,:].isin([np.inf, -np.inf]).sum()\n",
        "x[x>0]\n",
        "\n",
        "a[a >= 50]"
      ]
    },
    {
      "cell_type": "code",
      "execution_count": null,
      "metadata": {},
      "outputs": [],
      "source": [
        "GBM = data[data.label == 'GBM']\n",
        "LGG = data[data.label == 'LGG']"
      ]
    },
    {
      "cell_type": "code",
      "execution_count": null,
      "metadata": {},
      "outputs": [],
      "source": [
        "import warnings\n",
        "warnings.filterwarnings('ignore')\n",
        "\n",
        "y1 = data.columns\n",
        "y2 = GBM.columns\n",
        "y3 = LGG.columns\n",
        "\n",
        "plt.figure(figsize=(20,20))\n",
        "\n",
        "for i in range(0,9):\n",
        "    \n",
        "    nb = i+1\n",
        "    plt.subplot(3,3,nb)\n",
        "    sns.distplot(GBM[y[i]])"
      ]
    },
    {
      "cell_type": "code",
      "execution_count": null,
      "metadata": {},
      "outputs": [],
      "source": [
        "import warnings\n",
        "warnings.filterwarnings('ignore')\n",
        "\n",
        "y = LGG.columns\n",
        "\n",
        "plt.figure(figsize=(10,10))\n",
        "\n",
        "for i in range(0,20):\n",
        "    nb = i+1\n",
        "    plt.subplot(5,5,nb)\n",
        "    sns.distplot(LGG[y[i]])"
      ]
    },
    {
      "cell_type": "code",
      "execution_count": null,
      "metadata": {},
      "outputs": [],
      "source": [
        "import warnings\n",
        "warnings.filterwarnings('ignore')\n",
        "plt.figure(figsize=(10,10))\n",
        "y = data.columns\n",
        "for i in range(0,20):\n",
        "    nb = i+1\n",
        "    plt.subplot(5,5,nb)\n",
        "    sns.distplot(data[y[i]])\n",
        "\n",
        "plt.show()"
      ]
    }
  ],
  "metadata": {
    "colab": {
      "name": "assignment_ml_brats.ipynb",
      "provenance": [],
      "toc_visible": true
    },
    "interpreter": {
      "hash": "99c346a2273ffdba9d13565a7efa8a03dbcb19c3f8c63eac036f68118855a3ce"
    },
    "kernelspec": {
      "display_name": "Python 3.9.5 ('base')",
      "language": "python",
      "name": "python3"
    },
    "language_info": {
      "codemirror_mode": {
        "name": "ipython",
        "version": 3
      },
      "file_extension": ".py",
      "mimetype": "text/x-python",
      "name": "python",
      "nbconvert_exporter": "python",
      "pygments_lexer": "ipython3",
      "version": "3.8.10"
    },
    "orig_nbformat": 4
  },
  "nbformat": 4,
  "nbformat_minor": 0
}

{
  "cells": [
    {
      "cell_type": "markdown",
      "metadata": {
        "id": "rUo6sKbpaLD9"
      },
      "source": []
    },
    {
      "cell_type": "markdown",
      "metadata": {
        "id": "Oysh7mvlaLEC"
      },
      "source": [
        "# TM10007 Group Assignment Machine Learning\n",
        "#### Sara Arman, Judith Essenburg, George Franssen, Naomi Verkerk"
      ]
    },
    {
      "cell_type": "markdown",
      "metadata": {
        "id": "q7fez-EXaLEI"
      },
      "source": [
        "## Google colab environment"
      ]
    },
    {
      "cell_type": "code",
      "execution_count": 1,
      "metadata": {
        "id": "fG3XKbexaLEK"
      },
      "outputs": [],
      "source": [
        "# Run this to use from colab environment\n",
        "#!pip install -q --upgrade git+https://github.com/naomiverkerk/TM10007.git"
      ]
    },
    {
      "cell_type": "markdown",
      "metadata": {
        "id": "KXtjii5YaLEM"
      },
      "source": [
        "## Import\n"
      ]
    },
    {
      "cell_type": "code",
      "execution_count": 2,
      "metadata": {
        "id": "PGrE5j8OaLEN"
      },
      "outputs": [],
      "source": [
        "from load_data import load_data\n",
        "import seaborn as sns\n",
        "import matplotlib.pyplot as plt\n",
        "import pandas as pd\n",
        "import numpy as np"
      ]
    },
    {
      "cell_type": "markdown",
      "metadata": {
        "id": "pniY-3hqaLEO"
      },
      "source": [
        "## Loading Data"
      ]
    },
    {
      "cell_type": "code",
      "execution_count": 6,
      "metadata": {
        "id": "QJTIWsKoaLEQ",
        "outputId": "0f12d96e-eb0f-4318-fee0-7653efd6b7be"
      },
      "outputs": [
        {
          "name": "stdout",
          "output_type": "stream",
          "text": [
            "The number of samples/patients: 167\n",
            "The number of columns/features: 725\n"
          ]
        },
        {
          "data": {
            "text/html": [
              "<div>\n",
              "<style scoped>\n",
              "    .dataframe tbody tr th:only-of-type {\n",
              "        vertical-align: middle;\n",
              "    }\n",
              "\n",
              "    .dataframe tbody tr th {\n",
              "        vertical-align: top;\n",
              "    }\n",
              "\n",
              "    .dataframe thead th {\n",
              "        text-align: right;\n",
              "    }\n",
              "</style>\n",
              "<table border=\"1\" class=\"dataframe\">\n",
              "  <thead>\n",
              "    <tr style=\"text-align: right;\">\n",
              "      <th></th>\n",
              "      <th>VOLUME_ET_OVER_ED</th>\n",
              "      <th>VOLUME_NET_OVER_ED</th>\n",
              "    </tr>\n",
              "    <tr>\n",
              "      <th>ID</th>\n",
              "      <th></th>\n",
              "      <th></th>\n",
              "    </tr>\n",
              "  </thead>\n",
              "  <tbody>\n",
              "    <tr>\n",
              "      <th>TCGA-HT-7602</th>\n",
              "      <td>0</td>\n",
              "      <td>2.7936340407</td>\n",
              "    </tr>\n",
              "    <tr>\n",
              "      <th>TCGA-HT-7680</th>\n",
              "      <td>0.017069507</td>\n",
              "      <td>1.315581046</td>\n",
              "    </tr>\n",
              "    <tr>\n",
              "      <th>TCGA-HT-7686</th>\n",
              "      <td>#DIV/0!</td>\n",
              "      <td>#DIV/0!</td>\n",
              "    </tr>\n",
              "  </tbody>\n",
              "</table>\n",
              "</div>"
            ],
            "text/plain": [
              "             VOLUME_ET_OVER_ED VOLUME_NET_OVER_ED\n",
              "ID                                               \n",
              "TCGA-HT-7602                 0       2.7936340407\n",
              "TCGA-HT-7680       0.017069507        1.315581046\n",
              "TCGA-HT-7686           #DIV/0!            #DIV/0!"
            ]
          },
          "execution_count": 6,
          "metadata": {},
          "output_type": "execute_result"
        }
      ],
      "source": [
        "data = load_data() \n",
        "\n",
        "print(f'The number of samples/patients: {len(data.index)}') #rows\n",
        "print(f'The number of columns/features: {len(data.columns)}') #columns\n",
        "\n",
        "data2 = data.iloc[155:158, 7:9]\n",
        "data2\n",
        "\n"
      ]
    },
    {
      "cell_type": "code",
      "execution_count": 7,
      "metadata": {},
      "outputs": [
        {
          "data": {
            "text/html": [
              "<div>\n",
              "<style scoped>\n",
              "    .dataframe tbody tr th:only-of-type {\n",
              "        vertical-align: middle;\n",
              "    }\n",
              "\n",
              "    .dataframe tbody tr th {\n",
              "        vertical-align: top;\n",
              "    }\n",
              "\n",
              "    .dataframe thead th {\n",
              "        text-align: right;\n",
              "    }\n",
              "</style>\n",
              "<table border=\"1\" class=\"dataframe\">\n",
              "  <thead>\n",
              "    <tr style=\"text-align: right;\">\n",
              "      <th></th>\n",
              "      <th>VOLUME_ET_OVER_ED</th>\n",
              "      <th>VOLUME_NET_OVER_ED</th>\n",
              "    </tr>\n",
              "    <tr>\n",
              "      <th>ID</th>\n",
              "      <th></th>\n",
              "      <th></th>\n",
              "    </tr>\n",
              "  </thead>\n",
              "  <tbody>\n",
              "    <tr>\n",
              "      <th>TCGA-HT-7602</th>\n",
              "      <td>0</td>\n",
              "      <td>2.7936340407</td>\n",
              "    </tr>\n",
              "    <tr>\n",
              "      <th>TCGA-HT-7680</th>\n",
              "      <td>0.017069507</td>\n",
              "      <td>1.315581046</td>\n",
              "    </tr>\n",
              "    <tr>\n",
              "      <th>TCGA-HT-7686</th>\n",
              "      <td>NaN</td>\n",
              "      <td>NaN</td>\n",
              "    </tr>\n",
              "  </tbody>\n",
              "</table>\n",
              "</div>"
            ],
            "text/plain": [
              "             VOLUME_ET_OVER_ED VOLUME_NET_OVER_ED\n",
              "ID                                               \n",
              "TCGA-HT-7602                 0       2.7936340407\n",
              "TCGA-HT-7680       0.017069507        1.315581046\n",
              "TCGA-HT-7686               NaN                NaN"
            ]
          },
          "execution_count": 7,
          "metadata": {},
          "output_type": "execute_result"
        }
      ],
      "source": [
        "data = data.replace('#DIV/0!', np.nan)\n",
        "data2 = data.iloc[155:158, 7:9]\n",
        "data2"
      ]
    },
    {
      "cell_type": "code",
      "execution_count": null,
      "metadata": {},
      "outputs": [],
      "source": [
        "y = data.label\n",
        "ax = sns.countplot(y,label=\"Count\")     \n",
        "GBM, LGG = y.value_counts()\n",
        "print('Number of GBM: ',GBM)\n",
        "print('Number of LGG: ',LGG)"
      ]
    },
    {
      "cell_type": "markdown",
      "metadata": {
        "id": "EdKj92AxaLET"
      },
      "source": [
        "## Splitting in train and test data"
      ]
    },
    {
      "cell_type": "code",
      "execution_count": null,
      "metadata": {
        "id": "mv37eW8iaLEV"
      },
      "outputs": [],
      "source": [
        "# the code to split, after that we inspect the data"
      ]
    },
    {
      "cell_type": "markdown",
      "metadata": {
        "id": "AdB0ncaxaLEW"
      },
      "source": [
        "## Checking/exploring the dataset"
      ]
    },
    {
      "cell_type": "code",
      "execution_count": 70,
      "metadata": {
        "id": "Cf-0fnasaLEX",
        "outputId": "396075dd-c09a-46af-b547-e6bac5095ba3"
      },
      "outputs": [
        {
          "name": "stdout",
          "output_type": "stream",
          "text": [
            "722\n",
            "3\n",
            "Index(['VOLUME_ET_OVER_ED', 'VOLUME_NET_OVER_ED', 'label'], dtype='object')\n"
          ]
        }
      ],
      "source": [
        "data.dtypes == 'object'\n",
        "# Seperate numerical variables and categorical variables\n",
        "num_vars = data.columns[data.dtypes != 'object']\n",
        "cat_vars = data.columns[data.dtypes == 'object']\n",
        "\n",
        "print(len(num_vars))\n",
        "print(len(cat_vars))\n",
        "print(cat_vars)\n",
        "\n"
      ]
    },
    {
      "cell_type": "code",
      "execution_count": 74,
      "metadata": {},
      "outputs": [
        {
          "data": {
            "text/plain": [
              "Index(['VOLUME_ET', 'VOLUME_NET', 'VOLUME_ED', 'VOLUME_TC', 'VOLUME_WT',\n",
              "       'VOLUME_BRAIN', 'VOLUME_ET_OVER_NET', 'VOLUME_ET_OVER_ED',\n",
              "       'VOLUME_NET_OVER_ED', 'VOLUME_ET_over_TC',\n",
              "       ...\n",
              "       'TGM_T_4', 'TGM_Cog_X_5', 'TGM_Cog_Y_5', 'TGM_Cog_Z_5', 'TGM_T_5',\n",
              "       'TGM_Cog_X_6', 'TGM_Cog_Y_6', 'TGM_Cog_Z_6', 'TGM_T_6', 'label'],\n",
              "      dtype='object', length=725)"
            ]
          },
          "execution_count": 74,
          "metadata": {},
          "output_type": "execute_result"
        }
      ],
      "source": [
        "data.columns"
      ]
    },
    {
      "cell_type": "code",
      "execution_count": null,
      "metadata": {},
      "outputs": [],
      "source": [
        "GBM = data[data.label == 'GBM']\n",
        "LGG = data[data.label == 'LGG']"
      ]
    },
    {
      "cell_type": "code",
      "execution_count": null,
      "metadata": {
        "id": "LEl3UCLuaLEZ",
        "outputId": "51a7fc7e-1635-43fd-9602-bfe40c39c4f9"
      },
      "outputs": [],
      "source": [
        "# # to check which features have most missing values\n",
        "# missing_values = data[num_vars].isnull().sum().sort_values(ascending=False)\n",
        "# missing_values_multiple = (missing_values > 0).sum()\n",
        "\n",
        "# print(missing_values)\n",
        "# print(f'The total number of features with 1 or more missing values is {missing_values_multiple}')\n",
        "\n"
      ]
    },
    {
      "cell_type": "code",
      "execution_count": 103,
      "metadata": {},
      "outputs": [],
      "source": [
        "# saving missing values in a variable\n",
        "a = pd.isna(data).sum()/len(data)*100\n",
        "\n",
        "# saving column names in a variable\n",
        "variables = data.columns\n",
        "\n",
        "# new variable to store variables having missing values less than a threshold\n",
        "\n",
        "variable = [ ]\n",
        "\n",
        "for i in range(data.columns.shape[0]):\n",
        "    if a[i]<=40: #setting the threshold as 40%\n",
        "        variable.append(variables[i])\n",
        "\n",
        "variable   \n",
        "\n",
        "# creating a new dataframe using the above variables\n",
        "new_data = data[variable]\n",
        "\n",
        "# percentage of missing values in each variable of new data\n",
        "p = pd.isna(new_data).sum()/len(new_data)*100\n"
      ]
    },
    {
      "cell_type": "code",
      "execution_count": 104,
      "metadata": {},
      "outputs": [
        {
          "data": {
            "text/plain": [
              "DIST_Vent_ED    1\n",
              "dtype: int64"
            ]
          },
          "execution_count": 104,
          "metadata": {},
          "output_type": "execute_result"
        }
      ],
      "source": [
        "# Finding data point with inf\n",
        "x = data.iloc[:,:].isin([np.inf, -np.inf]).sum()\n",
        "x[x>0]"
      ]
    },
    {
      "cell_type": "code",
      "execution_count": 105,
      "metadata": {},
      "outputs": [],
      "source": [
        "data_columns_name = new_data.columns"
      ]
    },
    {
      "cell_type": "code",
      "execution_count": 110,
      "metadata": {},
      "outputs": [],
      "source": [
        "total_upper = []\n",
        "total_lower = []\n",
        "len_out = 167\n",
        "\n",
        "for i in range(0,len_out):\n",
        "    Q1 = np.percentile(new_data[data_columns_name[i]], 25, interpolation = 'midpoint')\n",
        "    Q3 = np.percentile(new_data[data_columns_name[i]], 75, interpolation = 'midpoint')\n",
        "\n",
        "    IQR = Q3 - Q1\n",
        "\n",
        "    upper = Q3 + 1.5*IQR\n",
        "    lower = Q1 - 1.5*IQR\n",
        "\n",
        "    upper_list = new_data[data_columns_name[i]] >= (Q3+1.5*IQR)\n",
        "        \n",
        "    # Below Lower bound\n",
        "    lower_list = new_data[data_columns_name[i]] <= (Q1-1.5*IQR)\n",
        "    \n",
        "    total_upper.append(upper_list.sum())\n",
        "    total_lower.append(lower_list.sum())\n",
        "\n",
        "    upper_list_values = new_data[data_columns_name[i]][upper_list]\n",
        "    lower_list_values = new_data[data_columns_name[i]][lower_list]\n",
        "\n"
      ]
    },
    {
      "cell_type": "code",
      "execution_count": 111,
      "metadata": {},
      "outputs": [
        {
          "data": {
            "text/html": [
              "<div>\n",
              "<style scoped>\n",
              "    .dataframe tbody tr th:only-of-type {\n",
              "        vertical-align: middle;\n",
              "    }\n",
              "\n",
              "    .dataframe tbody tr th {\n",
              "        vertical-align: top;\n",
              "    }\n",
              "\n",
              "    .dataframe thead th {\n",
              "        text-align: right;\n",
              "    }\n",
              "</style>\n",
              "<table border=\"1\" class=\"dataframe\">\n",
              "  <thead>\n",
              "    <tr style=\"text-align: right;\">\n",
              "      <th></th>\n",
              "      <th>ID</th>\n",
              "      <th>Upper outliers</th>\n",
              "      <th>Lower outliers</th>\n",
              "      <th>Total</th>\n",
              "    </tr>\n",
              "  </thead>\n",
              "  <tbody>\n",
              "    <tr>\n",
              "      <th>0</th>\n",
              "      <td>TCGA-02-0006</td>\n",
              "      <td>7</td>\n",
              "      <td>0</td>\n",
              "      <td>7</td>\n",
              "    </tr>\n",
              "    <tr>\n",
              "      <th>1</th>\n",
              "      <td>TCGA-02-0009</td>\n",
              "      <td>9</td>\n",
              "      <td>0</td>\n",
              "      <td>9</td>\n",
              "    </tr>\n",
              "    <tr>\n",
              "      <th>2</th>\n",
              "      <td>TCGA-02-0011</td>\n",
              "      <td>3</td>\n",
              "      <td>0</td>\n",
              "      <td>3</td>\n",
              "    </tr>\n",
              "    <tr>\n",
              "      <th>3</th>\n",
              "      <td>TCGA-02-0027</td>\n",
              "      <td>4</td>\n",
              "      <td>0</td>\n",
              "      <td>4</td>\n",
              "    </tr>\n",
              "    <tr>\n",
              "      <th>4</th>\n",
              "      <td>TCGA-02-0033</td>\n",
              "      <td>1</td>\n",
              "      <td>0</td>\n",
              "      <td>1</td>\n",
              "    </tr>\n",
              "    <tr>\n",
              "      <th>...</th>\n",
              "      <td>...</td>\n",
              "      <td>...</td>\n",
              "      <td>...</td>\n",
              "      <td>...</td>\n",
              "    </tr>\n",
              "    <tr>\n",
              "      <th>162</th>\n",
              "      <td>TCGA-HT-8018</td>\n",
              "      <td>3</td>\n",
              "      <td>0</td>\n",
              "      <td>3</td>\n",
              "    </tr>\n",
              "    <tr>\n",
              "      <th>163</th>\n",
              "      <td>TCGA-HT-8111</td>\n",
              "      <td>3</td>\n",
              "      <td>0</td>\n",
              "      <td>3</td>\n",
              "    </tr>\n",
              "    <tr>\n",
              "      <th>164</th>\n",
              "      <td>TCGA-HT-8114</td>\n",
              "      <td>0</td>\n",
              "      <td>0</td>\n",
              "      <td>0</td>\n",
              "    </tr>\n",
              "    <tr>\n",
              "      <th>165</th>\n",
              "      <td>TCGA-HT-8563</td>\n",
              "      <td>5</td>\n",
              "      <td>0</td>\n",
              "      <td>5</td>\n",
              "    </tr>\n",
              "    <tr>\n",
              "      <th>166</th>\n",
              "      <td>TCGA-HT-A61A</td>\n",
              "      <td>13</td>\n",
              "      <td>0</td>\n",
              "      <td>13</td>\n",
              "    </tr>\n",
              "  </tbody>\n",
              "</table>\n",
              "<p>167 rows × 4 columns</p>\n",
              "</div>"
            ],
            "text/plain": [
              "               ID  Upper outliers  Lower outliers  Total\n",
              "0    TCGA-02-0006               7               0      7\n",
              "1    TCGA-02-0009               9               0      9\n",
              "2    TCGA-02-0011               3               0      3\n",
              "3    TCGA-02-0027               4               0      4\n",
              "4    TCGA-02-0033               1               0      1\n",
              "..            ...             ...             ...    ...\n",
              "162  TCGA-HT-8018               3               0      3\n",
              "163  TCGA-HT-8111               3               0      3\n",
              "164  TCGA-HT-8114               0               0      0\n",
              "165  TCGA-HT-8563               5               0      5\n",
              "166  TCGA-HT-A61A              13               0     13\n",
              "\n",
              "[167 rows x 4 columns]"
            ]
          },
          "execution_count": 111,
          "metadata": {},
          "output_type": "execute_result"
        }
      ],
      "source": [
        "Id = list(new_data.index)\n",
        "\n",
        "df = {  'ID': Id[0:len_out],\n",
        "        'Upper outliers':  total_upper,\n",
        "        'Lower outliers': total_lower,\n",
        "\n",
        "        }\n",
        "\n",
        "df = pd.DataFrame(df)\n",
        "df['Total'] = df['Upper outliers'] + df['Lower outliers']\n",
        "\n",
        "df = pd.DataFrame(df)\n",
        "df\n"
      ]
    }
  ],
  "metadata": {
    "colab": {
      "name": "assignment_ml_brats.ipynb",
      "provenance": [],
      "toc_visible": true
    },
    "interpreter": {
      "hash": "99c346a2273ffdba9d13565a7efa8a03dbcb19c3f8c63eac036f68118855a3ce"
    },
    "kernelspec": {
      "display_name": "Python 3.9.5 ('base')",
      "language": "python",
      "name": "python3"
    },
    "language_info": {
      "codemirror_mode": {
        "name": "ipython",
        "version": 3
      },
      "file_extension": ".py",
      "mimetype": "text/x-python",
      "name": "python",
      "nbconvert_exporter": "python",
      "pygments_lexer": "ipython3",
      "version": "3.8.10"
    },
    "orig_nbformat": 4
  },
  "nbformat": 4,
  "nbformat_minor": 0
}

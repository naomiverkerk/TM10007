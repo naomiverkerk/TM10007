{
 "cells": [
  {
   "cell_type": "code",
   "execution_count": 5,
   "metadata": {},
   "outputs": [],
   "source": [
    "import numpy as np \n",
    "import matplotlib.pyplot as plt\n",
    "from sklearn import datasets as ds\n",
    "import SimpleITK as sitk\n",
    "\n",
    "# Classifiers and kernels\n",
    "from sklearn.neighbors import KNeighborsClassifier\n",
    "from sklearn.ensemble import RandomForestClassifier\n",
    "from sklearn.svm import SVC\n",
    "from sklearn.decomposition import PCA, KernelPCA\n",
    "from sklearn.kernel_approximation import RBFSampler\n",
    "from sklearn.metrics.pairwise import rbf_kernel, sigmoid_kernel\n"
   ]
  },
  {
   "cell_type": "code",
   "execution_count": 11,
   "metadata": {},
   "outputs": [
    {
     "ename": "NameError",
     "evalue": "name 'X' is not defined",
     "output_type": "error",
     "traceback": [
      "\u001b[1;31m---------------------------------------------------------------------------\u001b[0m",
      "\u001b[1;31mNameError\u001b[0m                                 Traceback (most recent call last)",
      "\u001b[1;32mc:\\Users\\georg\\Desktop\\Technical Medicine Jaar 1\\TM10007 Machine Learning\\Github Machine Learning\\TM10007\\SVM_code.ipynb Cell 2'\u001b[0m in \u001b[0;36m<cell line: 21>\u001b[1;34m()\u001b[0m\n\u001b[0;32m     <a href='vscode-notebook-cell:/c%3A/Users/georg/Desktop/Technical%20Medicine%20Jaar%201/TM10007%20Machine%20Learning/Github%20Machine%20Learning/TM10007/SVM_code.ipynb#ch0000000?line=19'>20</a>\u001b[0m \u001b[39m# Now use the classifiers on the dataset\u001b[39;00m\n\u001b[0;32m     <a href='vscode-notebook-cell:/c%3A/Users/georg/Desktop/Technical%20Medicine%20Jaar%201/TM10007%20Machine%20Learning/Github%20Machine%20Learning/TM10007/SVM_code.ipynb#ch0000000?line=20'>21</a>\u001b[0m \u001b[39mfor\u001b[39;00m clsf \u001b[39min\u001b[39;00m clsfs:\n\u001b[1;32m---> <a href='vscode-notebook-cell:/c%3A/Users/georg/Desktop/Technical%20Medicine%20Jaar%201/TM10007%20Machine%20Learning/Github%20Machine%20Learning/TM10007/SVM_code.ipynb#ch0000000?line=21'>22</a>\u001b[0m     clsf\u001b[39m.\u001b[39mfit(X,Y)\n\u001b[0;32m     <a href='vscode-notebook-cell:/c%3A/Users/georg/Desktop/Technical%20Medicine%20Jaar%201/TM10007%20Machine%20Learning/Github%20Machine%20Learning/TM10007/SVM_code.ipynb#ch0000000?line=22'>23</a>\u001b[0m     y_pred \u001b[39m=\u001b[39m clsf\u001b[39m.\u001b[39mpredict(X)\n",
      "\u001b[1;31mNameError\u001b[0m: name 'X' is not defined"
     ]
    }
   ],
   "source": [
    "# Construct classifiers\n",
    "degrees = [1, 3, 5]\n",
    "coef0s = [0.01, 0.5, 1]\n",
    "slacks = [0.01, 0.5, 1]\n",
    "svm_methods = ['linear', 'poly', 'rbf', 'sigmoid']\n",
    "\n",
    "clsfs = list()\n",
    "for degree in degrees:\n",
    "    for coef0 in coef0s:\n",
    "        for slack in slacks:\n",
    "            for svm_method in svm_methods:\n",
    "                if svm_methods == 'linear':\n",
    "                    clsfs.append(SVC(kernel=f'{svm_method}', C=slack))\n",
    "                elif svm_methods == 'rbf':\n",
    "                    clsfs.append(SVC(kernel=f'{svm_method}', C=slack, gamma='scale'))\n",
    "                elif svm_method == 'poly' or 'sigmoid':\n",
    "                    clsfs.append(SVC(kernel=f'{svm_method}', degree=degree, coef0=coef0, C=slack, gamma='scale'))\n",
    "\n",
    "\n",
    "# Now use the classifiers on the dataset\n",
    "for clsf in clsfs:\n",
    "    clsf.fit(X,Y)\n",
    "    y_pred = clsf.predict(X)\n",
    "    y_correct = (Y==y_pred)/len(Y)\n"
   ]
  }
 ],
 "metadata": {
  "interpreter": {
   "hash": "c52416400a0d346e24d057eda73ccc8926a34a9f64936d7e5b3311d46ce9113c"
  },
  "kernelspec": {
   "display_name": "Python 3.9.7 ('base')",
   "language": "python",
   "name": "python3"
  },
  "language_info": {
   "codemirror_mode": {
    "name": "ipython",
    "version": 3
   },
   "file_extension": ".py",
   "mimetype": "text/x-python",
   "name": "python",
   "nbconvert_exporter": "python",
   "pygments_lexer": "ipython3",
   "version": "3.9.7"
  },
  "orig_nbformat": 4
 },
 "nbformat": 4,
 "nbformat_minor": 2
}

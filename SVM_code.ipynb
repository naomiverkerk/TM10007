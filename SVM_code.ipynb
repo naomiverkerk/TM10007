{
 "cells": [
  {
   "cell_type": "code",
   "execution_count": 15,
   "metadata": {},
   "outputs": [],
   "source": [
    "# Classifiers and kernels\n",
    "from sklearn.svm import SVC\n",
    "from sklearn.model_selection import GridSearchCV\n",
    "from sklearn.metrics import classification_report\n"
   ]
  },
  {
   "cell_type": "code",
   "execution_count": 17,
   "metadata": {},
   "outputs": [
    {
     "ename": "NameError",
     "evalue": "name 'X_train' is not defined",
     "output_type": "error",
     "traceback": [
      "\u001b[1;31m---------------------------------------------------------------------------\u001b[0m",
      "\u001b[1;31mNameError\u001b[0m                                 Traceback (most recent call last)",
      "\u001b[1;32mc:\\Users\\georg\\Desktop\\Technical Medicine Jaar 1\\TM10007 Machine Learning\\Github Machine Learning\\TM10007\\SVM_code.ipynb Cell 2'\u001b[0m in \u001b[0;36m<cell line: 15>\u001b[1;34m()\u001b[0m\n\u001b[0;32m     <a href='vscode-notebook-cell:/c%3A/Users/georg/Desktop/Technical%20Medicine%20Jaar%201/TM10007%20Machine%20Learning/Github%20Machine%20Learning/TM10007/SVM_code.ipynb#ch0000001?line=11'>12</a>\u001b[0m grid \u001b[39m=\u001b[39m GridSearchCV(SVC(), param_grid, refit \u001b[39m=\u001b[39m \u001b[39mTrue\u001b[39;00m, verbose \u001b[39m=\u001b[39m \u001b[39m3\u001b[39m)\n\u001b[0;32m     <a href='vscode-notebook-cell:/c%3A/Users/georg/Desktop/Technical%20Medicine%20Jaar%201/TM10007%20Machine%20Learning/Github%20Machine%20Learning/TM10007/SVM_code.ipynb#ch0000001?line=13'>14</a>\u001b[0m \u001b[39m# fit the grid\u001b[39;00m\n\u001b[1;32m---> <a href='vscode-notebook-cell:/c%3A/Users/georg/Desktop/Technical%20Medicine%20Jaar%201/TM10007%20Machine%20Learning/Github%20Machine%20Learning/TM10007/SVM_code.ipynb#ch0000001?line=14'>15</a>\u001b[0m grid\u001b[39m.\u001b[39mfit(X_train, Y_train)\n\u001b[0;32m     <a href='vscode-notebook-cell:/c%3A/Users/georg/Desktop/Technical%20Medicine%20Jaar%201/TM10007%20Machine%20Learning/Github%20Machine%20Learning/TM10007/SVM_code.ipynb#ch0000001?line=16'>17</a>\u001b[0m \u001b[39m# print best parameter after tuning\u001b[39;00m\n\u001b[0;32m     <a href='vscode-notebook-cell:/c%3A/Users/georg/Desktop/Technical%20Medicine%20Jaar%201/TM10007%20Machine%20Learning/Github%20Machine%20Learning/TM10007/SVM_code.ipynb#ch0000001?line=17'>18</a>\u001b[0m \u001b[39mprint\u001b[39m(grid\u001b[39m.\u001b[39mbest_params_)\n",
      "\u001b[1;31mNameError\u001b[0m: name 'X_train' is not defined"
     ]
    }
   ],
   "source": [
    "# Construct different SVM methods\n",
    "param_grid = {'degree': [1, 3, 5],\n",
    "              'coef0s': [0.01, 0.5, 1],\n",
    "              'slacks': [0.01, 0.5, 1],\n",
    "              'kernel': ['linear', 'poly', 'rbf', 'sigmoid']}\n",
    "grid = GridSearchCV(SVC(), param_grid, refit = True, verbose = 3)\n",
    "\n",
    "# Fit the grid\n",
    "grid.fit(X_train, Y_train)\n",
    "\n",
    "# Print best parameter after tuning\n",
    "print(grid.best_params_)\n",
    "\n",
    "# Print how our model looks after hyper-parameter tuning\n",
    "print(grid.best_estimator_)\n",
    "\n",
    "# Predict with the trained model\n",
    "grid_predictions = grid.predict(X_test)\n",
    "\n",
    "# Print calssification report\n",
    "print(classification_report(Y_test, grid_predictions))\n",
    "\n"
   ]
  }
 ],
 "metadata": {
  "interpreter": {
   "hash": "c52416400a0d346e24d057eda73ccc8926a34a9f64936d7e5b3311d46ce9113c"
  },
  "kernelspec": {
   "display_name": "Python 3.9.7 ('base')",
   "language": "python",
   "name": "python3"
  },
  "language_info": {
   "codemirror_mode": {
    "name": "ipython",
    "version": 3
   },
   "file_extension": ".py",
   "mimetype": "text/x-python",
   "name": "python",
   "nbconvert_exporter": "python",
   "pygments_lexer": "ipython3",
   "version": "3.9.7"
  },
  "orig_nbformat": 4
 },
 "nbformat": 4,
 "nbformat_minor": 2
}

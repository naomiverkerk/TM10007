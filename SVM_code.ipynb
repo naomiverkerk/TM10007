{
 "cells": [
  {
   "cell_type": "code",
   "execution_count": 3,
   "metadata": {},
   "outputs": [],
   "source": [
    "# Construct classifiers\n",
    "degrees = [1, 3, 5]\n",
    "coef0s = [0.01, 0.5, 1]\n",
    "slacks = [0.01, 0.5, 1]\n",
    "\n",
    "clsfs = list()\n",
    "for degree in degrees:\n",
    "    for coef0 in coef0s:\n",
    "        for slack in slacks:\n",
    "            clsfs.append(SVC(kernel='poly', degree=degree, coef0=coef0, C=slack, gamma='scale'))\n",
    "\n",
    "#First make plot without classifiers:\n",
    "num = 0\n",
    "fig = plt.figure(figsize=(24,8*len(clsfs)))\n"
   ]
  }
 ],
 "metadata": {
  "interpreter": {
   "hash": "c52416400a0d346e24d057eda73ccc8926a34a9f64936d7e5b3311d46ce9113c"
  },
  "kernelspec": {
   "display_name": "Python 3.9.7 ('base')",
   "language": "python",
   "name": "python3"
  },
  "language_info": {
   "codemirror_mode": {
    "name": "ipython",
    "version": 3
   },
   "file_extension": ".py",
   "mimetype": "text/x-python",
   "name": "python",
   "nbconvert_exporter": "python",
   "pygments_lexer": "ipython3",
   "version": "3.9.7"
  },
  "orig_nbformat": 4
 },
 "nbformat": 4,
 "nbformat_minor": 2
}
